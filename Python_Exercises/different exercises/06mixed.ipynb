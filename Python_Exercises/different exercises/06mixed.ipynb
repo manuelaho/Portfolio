{
 "cells": [
  {
   "cell_type": "markdown",
   "id": "49a47af4",
   "metadata": {},
   "source": [
    "# Inhaltsverzeichnis \n",
    "\n",
    "- **Übungen Woche 6**\n",
    "    - **Aufgabe 1: Modulo**\n",
    "    - **Aufgabe 2: Multiplikation**\n",
    "    - **Aufgabe 3: Email**\n",
    "    - **Aufgabe 4: Element einfügen**\n",
    "    - **Aufgabe 5: Nullen in Liste**\n",
    "    - **Aufgabe 6: String überprüfen**\n",
    "    - **Aufgabe 7: Wörterbuch eines Strings**\n",
    "    - **Aufgabe 8: Liste modifizieren**\n"
   ]
  },
  {
   "cell_type": "markdown",
   "id": "71baca7a",
   "metadata": {},
   "source": [
    "## Aufgabe 1: Modulo \n",
    "\n",
    "- Schreibe eine Funktion, die zwei Werte $a$ und $b$ erwartet und den Rest bei einer ganzzahligen Division von $a$ durch $b$ zurückgibt (also $a \\% b$). Der Modulo-Operator `%` darf **nicht** benutzt werden!\n",
    "\n",
    "\n",
    "**Beispiele:**\n",
    "\n",
    "\\begin{align}\n",
    "f(10,3) &\\Longrightarrow 1 \\\\\n",
    "f(12,4) &\\Longrightarrow 0 \\\\\n",
    "f(15,4) &\\Longrightarrow 3 \\\\\n",
    "\\end{align}\n"
   ]
  },
  {
   "cell_type": "code",
   "execution_count": 1,
   "id": "e9ee2615",
   "metadata": {},
   "outputs": [
    {
     "data": {
      "text/plain": [
       "1"
      ]
     },
     "execution_count": 1,
     "metadata": {},
     "output_type": "execute_result"
    }
   ],
   "source": [
    "def modulo(a,b):\n",
    "    ergebnis = a - (a//b * b)            \n",
    "    return ergebnis                      \n",
    "\n",
    "modulo(10,3)"
   ]
  },
  {
   "cell_type": "code",
   "execution_count": 2,
   "id": "f969474b",
   "metadata": {},
   "outputs": [
    {
     "data": {
      "text/plain": [
       "3"
      ]
     },
     "execution_count": 2,
     "metadata": {},
     "output_type": "execute_result"
    }
   ],
   "source": [
    "def modulo(a,b):\n",
    "    c = int(a/b)   \n",
    "    ergebnis = a - (c * b)\n",
    "    return ergebnis                      \n",
    "\n",
    "modulo(15,4)"
   ]
  },
  {
   "cell_type": "markdown",
   "id": "176fff5e",
   "metadata": {},
   "source": [
    "## Aufgabe 2: Multiplikation \n",
    "\n",
    "- Schreibe eine Funktion, die zwei positive Zahlen $a$ und $b$ erwartet und das Ergebnis der Multiplikation von $a$ und $b$ zurückgibt (also $a \\cdot b$). Der Multiplikationsoperator `*` darf **nicht** verwendet werden!\n",
    "\n",
    "\n",
    "**Beispiele:**\n",
    "\\begin{align}\n",
    "f(5,4) &\\Longrightarrow 20 \\\\\n",
    "f(3,1) &\\Longrightarrow 3 \\\\\n",
    "f(2,4) &\\Longrightarrow 8 \\\\\n",
    "\\end{align}\n",
    "\n",
    "**Optional:**\n",
    "\n",
    "- Wie kann man obige Funktion *rekursiv* implementieren?"
   ]
  },
  {
   "cell_type": "code",
   "execution_count": 3,
   "id": "88e19da5",
   "metadata": {},
   "outputs": [
    {
     "data": {
      "text/plain": [
       "54"
      ]
     },
     "execution_count": 3,
     "metadata": {},
     "output_type": "execute_result"
    }
   ],
   "source": [
    "def multiplikation(a,b):\n",
    "    ergebnis = 0\n",
    "    for i in range(b):\n",
    "        ergebnis+= a\n",
    "    return ergebnis\n",
    "    \n",
    "multiplikation(6,9)"
   ]
  },
  {
   "cell_type": "code",
   "execution_count": 4,
   "id": "cc62d8bb",
   "metadata": {},
   "outputs": [
    {
     "data": {
      "text/plain": [
       "20"
      ]
     },
     "execution_count": 4,
     "metadata": {},
     "output_type": "execute_result"
    }
   ],
   "source": [
    "# rekursiv\n",
    "\n",
    "def multi(a, b):\n",
    "\n",
    "    if a == 0 or b == 0:\n",
    "        return 0\n",
    " \n",
    "    return a + multi(a, b - 1)    \n",
    "                                  \n",
    "multi(5, 4)"
   ]
  },
  {
   "cell_type": "markdown",
   "id": "78a443bc",
   "metadata": {},
   "source": [
    "## Aufgabe 3: Email \n",
    "\n",
    "- Schreibe eine Funktion, die aus einem Satz eine Emailadresse herausfiltert (falls vorhanden).\n",
    "\n",
    "**Beispiele:**\n",
    "\n",
    "\\begin{align}\n",
    "f(\\text{\"Meine Emailadresse lautet Max.Mustermann@gmail.com\"}) &\\Longrightarrow \\text{\"Max.Mustermann@gmail.com\"} \\\\\n",
    "f(\\text{\"Dieser Text hat keine Emailadresse.\"}) &\\Longrightarrow \\text{None}\n",
    "\\end{align}"
   ]
  },
  {
   "cell_type": "code",
   "execution_count": 5,
   "id": "78bddc9c",
   "metadata": {},
   "outputs": [
    {
     "data": {
      "text/plain": [
       "'manuelah2610@gmail.com'"
      ]
     },
     "execution_count": 5,
     "metadata": {},
     "output_type": "execute_result"
    }
   ],
   "source": [
    "def e_mail(string):\n",
    "    \n",
    "    a = string.split(\" \")\n",
    "    for i in range(len(a)):\n",
    "        if \"@\" in a[i]:\n",
    "            return a[i]\n",
    "    \n",
    "    print(None) \n",
    "\n",
    "e_mail(\"Meine Email-Adresse lautet manuelah2610@gmail.com\")"
   ]
  },
  {
   "cell_type": "markdown",
   "id": "fac13932",
   "metadata": {},
   "source": [
    "## Aufgabe 4: Element einfügen\n",
    "\n",
    "- Schreibe eine Funktion, die ein Element vor jedem Element in einer Liste einfügt.\n",
    "\n",
    "**Beispiele:**\n",
    "\n",
    "\\begin{align}\n",
    "f([1,2,3],0) &\\Longrightarrow [0,1,0,2,0,3] \\\\\n",
    "f([3,2,1],\\text{\"A\"}) &\\Longrightarrow [\\text{\"A\"},3,\\text{\"A\"},2,\\text{\"A\"},1] \\\\\n",
    "\\end{align}"
   ]
  },
  {
   "cell_type": "code",
   "execution_count": 6,
   "id": "350b2f09",
   "metadata": {},
   "outputs": [
    {
     "data": {
      "text/plain": [
       "['A', 3, 'A', 2, 'A', 1]"
      ]
     },
     "execution_count": 6,
     "metadata": {},
     "output_type": "execute_result"
    }
   ],
   "source": [
    "def einfügen(liste, element):\n",
    "    new_list = []\n",
    "    for i in liste:\n",
    "        new_list.append(element)\n",
    "        new_list.append(i)\n",
    "        \n",
    "    return new_list\n",
    "        \n",
    "einfügen([3, 2, 1], \"A\")"
   ]
  },
  {
   "cell_type": "markdown",
   "id": "6b2162c1",
   "metadata": {},
   "source": [
    "## Aufgabe 5: Nullen in Liste\n",
    "\n",
    "- Schreibe eine Funktion, die alle Nullen in einer Liste an das Ende der Liste verschiebt.\n",
    "\n",
    "**Beispiele:**\n",
    "\n",
    "\\begin{align}\n",
    "f([1,2,0,0,3]) &\\Longrightarrow [1,2,3,0,0] \\\\\n",
    "f([0,2,0,3,0,6] &\\Longrightarrow [2,3,6,0,0,0] \\\\\n",
    "\\end{align}"
   ]
  },
  {
   "cell_type": "code",
   "execution_count": 7,
   "id": "c0bf677c",
   "metadata": {},
   "outputs": [
    {
     "data": {
      "text/plain": [
       "[1, 2, 3, 0, 0]"
      ]
     },
     "execution_count": 7,
     "metadata": {},
     "output_type": "execute_result"
    }
   ],
   "source": [
    "def nullen(liste):\n",
    "    \n",
    "    end_list = []\n",
    "    zahlen_0 = 0\n",
    "    \n",
    "    for i in liste:\n",
    "        if i > 0:\n",
    "            end_list.append(i)\n",
    "        else:\n",
    "            zahlen_0 += 1\n",
    "\n",
    "    for j in range(zahlen_0):\n",
    "        end_list.append(0)\n",
    "    return end_list\n",
    "            \n",
    "nullen([1, 2, 0, 0, 3])"
   ]
  },
  {
   "cell_type": "markdown",
   "id": "81a3abf6",
   "metadata": {},
   "source": [
    "## Aufgabe 6: String überprüfen \n",
    "\n",
    "- Schreibe eine Funktion, die einen String als Argument erwartet. Die Funktion soll `True` zurückliefern, wenn der String **nur** aus Ziffern ( $0-9$ ) besteht.\n",
    "\n",
    "**Beispiele:**\n",
    "\n",
    "\\begin{align}\n",
    "f(\\text{\"123513\"}) &\\Longrightarrow \\text{True} \\\\\n",
    "f(\\text{\"awd1234a\"}) &\\Longrightarrow \\text{False}\n",
    "\\end{align}"
   ]
  },
  {
   "cell_type": "code",
   "execution_count": 8,
   "id": "49a6f2a6",
   "metadata": {},
   "outputs": [
    {
     "data": {
      "text/plain": [
       "False"
      ]
     },
     "execution_count": 8,
     "metadata": {},
     "output_type": "execute_result"
    }
   ],
   "source": [
    "def string_ziffer(string):\n",
    "    \n",
    "    liste = []\n",
    "    for i in string:\n",
    "        liste.append(i)\n",
    "    \n",
    "    buchstaben = list(map(chr, range(97, 123)))\n",
    "    \n",
    "    for j in buchstaben:\n",
    "        if j in liste:\n",
    "            return False\n",
    "              \n",
    "    return True\n",
    "\n",
    "string_ziffer(\"t1235a139701\")     "
   ]
  },
  {
   "cell_type": "markdown",
   "id": "3bdef532",
   "metadata": {},
   "source": [
    "## Aufgabe 7: Wörterbuch eines Strings\n",
    "\n",
    "- Gegeben ist ein Paragraph `paragraph` aus dem Wikipedia Artikel zu Python. Erstelle ein Wörterbuch, das alle Wörter und ihre Anzahl abbildet. Hierbei soll der Schlüssel (`key`) das Wort selbst sein und der Wert (`value`) die Häufigkeit des Wortes im Text. \n",
    "- Achte dabei auf Klein- und Großschreibung!\n",
    "\n",
    "> <span style=\"color:blue\"> **_INFO:_** </span> Schaue dir nochmal im Kapitel zu Strings die Funktionen `split()` und `lower()` an.\n",
    "\n",
    "**Beispiel:**  \n",
    "\n",
    "Der String `\"Das ist das Beispiel.\"` soll das Wörterbuch \n",
    "    `{'das' : 2, 'ist' : 1, 'beispiel' : 1}` liefern.\n",
    "    "
   ]
  },
  {
   "cell_type": "code",
   "execution_count": 9,
   "id": "f6a9c0c8",
   "metadata": {},
   "outputs": [
    {
     "data": {
      "text/plain": [
       "{'python': 2,\n",
       " 'besitzt': 1,\n",
       " 'eine': 3,\n",
       " 'größere': 1,\n",
       " 'anzahl': 1,\n",
       " 'von': 2,\n",
       " 'grundlegenden': 1,\n",
       " 'datentypen': 1,\n",
       " 'neben': 1,\n",
       " 'der': 1,\n",
       " 'herkömmlichen': 1,\n",
       " 'arithmetik': 1,\n",
       " 'unterstützt': 2,\n",
       " 'es': 1,\n",
       " 'transparent': 1,\n",
       " 'auch': 2,\n",
       " 'beliebig': 1,\n",
       " 'große': 1,\n",
       " 'ganzzahlen': 1,\n",
       " 'und': 1,\n",
       " 'komplexe': 1,\n",
       " 'zahl': 1,\n",
       " 'die': 2,\n",
       " 'üblichen': 1,\n",
       " 'zeichenkettenoperationen': 1,\n",
       " 'werden': 1,\n",
       " 'zeichenketten': 1,\n",
       " 'sind': 1,\n",
       " 'in': 2,\n",
       " 'allerdings': 1,\n",
       " 'unveränderliche': 1,\n",
       " 'objekte': 1,\n",
       " 'wie': 2,\n",
       " 'java': 1,\n",
       " 'daher': 1,\n",
       " 'geben': 1,\n",
       " 'operationen': 1,\n",
       " 'zeichenkette': 2,\n",
       " 'verändern': 1,\n",
       " 'sollen': 1,\n",
       " '': 3,\n",
       " 'z': 1,\n",
       " 'b': 1,\n",
       " 'durch': 1,\n",
       " 'ersetzen': 1,\n",
       " 'zeichen': 1,\n",
       " 'immer': 1,\n",
       " 'neue': 1,\n",
       " 'zurück': 1}"
      ]
     },
     "execution_count": 9,
     "metadata": {},
     "output_type": "execute_result"
    }
   ],
   "source": [
    "paragraph = \"Python besitzt eine größere Anzahl von grundlegenden Datentypen. Neben der herkömmlichen Arithmetik unterstützt es transparent auch beliebig große Ganzzahlen und komplexe Zahl. Die üblichen Zeichenkettenoperationen werden unterstützt. Zeichenketten sind in Python allerdings unveränderliche Objekte (wie auch in Java). Daher geben Operationen, die eine Zeichenkette verändern sollen – wie z. B. durch Ersetzen von Zeichen – immer eine neue Zeichenkette zurück. \"\n",
    "\n",
    "def wörterbuch(paragraph):\n",
    "    \n",
    "    paragraph = paragraph.lower()\n",
    "    liste_gesplittet = paragraph.split(\" \")\n",
    "    \n",
    "    filter_liste = []\n",
    "    alphabet = list(map(chr, range(97, 123)))\n",
    "    alphabet.append(chr(223))\n",
    "    alphabet.append(chr(228))\n",
    "    alphabet.append(chr(246))\n",
    "    alphabet.append(chr(252))\n",
    "    \n",
    "    # Satzzeichen entfernen\n",
    "    for z in liste_gesplittet:\n",
    "        wort = \"\"\n",
    "        for y in z:            \n",
    "            if not y in alphabet:\n",
    "                continue\n",
    "            wort += y\n",
    "        filter_liste.append(wort)\n",
    "    \n",
    "    # Wörter zählen\n",
    "    dict_words = []\n",
    "    dict_count = []\n",
    "    word_dict = {}\n",
    "    summe = 0\n",
    "    \n",
    "    for e in range(len(filter_liste)):\n",
    "        summe = 0\n",
    "        for w in filter_liste:\n",
    "            if w == filter_liste[e]:\n",
    "                summe += 1\n",
    "                continue\n",
    "            \n",
    "        dict_words.append(filter_liste[e])\n",
    "        dict_count.append(summe)\n",
    "\n",
    "    word_dict = dict(zip(dict_words,dict_count))\n",
    "    \n",
    "    return word_dict\n",
    "    \n",
    "wörterbuch(paragraph)   "
   ]
  },
  {
   "cell_type": "markdown",
   "id": "dfa8d1c6",
   "metadata": {},
   "source": [
    "## Aufgabe 8: Liste modifizieren\n",
    "\n",
    "- Schreibe eine Funktion, die eine Liste erwartet und jedes zweite Element auf 0 setzt.<br>\n",
    "\n",
    "**Beispiele:**\n",
    "\n",
    "\\begin{align}\n",
    "f([1,2,3,4,5]) &\\Longrightarrow [1,0,3,0,5] \\\\\n",
    "f([1,2]) &\\Longrightarrow [1,0] \n",
    "\\end{align}\n"
   ]
  },
  {
   "cell_type": "code",
   "execution_count": 12,
   "id": "43f5105d",
   "metadata": {},
   "outputs": [
    {
     "data": {
      "text/plain": [
       "[1, 0, 3, 0, 5]"
      ]
     },
     "execution_count": 12,
     "metadata": {},
     "output_type": "execute_result"
    }
   ],
   "source": [
    "def modi(liste):\n",
    "    \n",
    "    for i in range(len(liste)-1):\n",
    "        if i %2 == 0:\n",
    "            liste[(i+1)] = 0\n",
    "\n",
    "    return liste\n",
    "    \n",
    "modi([1, 2, 3, 4, 5])"
   ]
  },
  {
   "cell_type": "code",
   "execution_count": null,
   "id": "a8694e57",
   "metadata": {},
   "outputs": [],
   "source": []
  }
 ],
 "metadata": {
  "kernelspec": {
   "display_name": "Python 3 (ipykernel)",
   "language": "python",
   "name": "python3"
  },
  "language_info": {
   "codemirror_mode": {
    "name": "ipython",
    "version": 3
   },
   "file_extension": ".py",
   "mimetype": "text/x-python",
   "name": "python",
   "nbconvert_exporter": "python",
   "pygments_lexer": "ipython3",
   "version": "3.10.9"
  }
 },
 "nbformat": 4,
 "nbformat_minor": 5
}
