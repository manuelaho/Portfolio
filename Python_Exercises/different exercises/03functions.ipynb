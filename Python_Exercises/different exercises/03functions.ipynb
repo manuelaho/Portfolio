{
 "cells": [
  {
   "cell_type": "markdown",
   "id": "b8892a26",
   "metadata": {},
   "source": [
    "# Inhaltsverzeichnis \n",
    "\n",
    "- **Funktionen Aufgaben**\n",
    "    - **Aufgabe 1: Größere Zahl der Argumente**\n",
    "    - **Aufgabe 2: Größte Zahl der Liste**\n",
    "    - **Aufgabe 3: Beliebig viele Werte ausgeben**\n",
    "    - **Aufgabe 4: Summe aus (beliebigen) Zahlen**\n",
    "    - **Aufgabe 5: Default Werte**\n",
    "    - **Aufgabe 6: Gerade Zahlen**\n",
    "    - **Aufgabe 7: Euklidischer Abstand**\n",
    "    - **Aufgabe 8: Primzahl**\n",
    "    - **Aufgabe 9: Zahlen verdoppeln**\n",
    "    - **Aufgabe 10: Fakultät**\n",
    "    - **Aufgabe 11: Größter gemeinsamer Teiler**\n",
    "    - **Aufgabe 12: Gemeinsames Element zweier Listen**\n",
    "    - **Aufgabe 13: Element aus Liste entfernen**\n"
   ]
  },
  {
   "cell_type": "markdown",
   "id": "6f383dfd",
   "metadata": {},
   "source": [
    "#  Funktionen Aufgaben\n",
    "\n",
    "> <span style=\"color:red\"> **_WICHTIG:_** </span> In den folgenden Aufgaben wird die gesuchte Funktion in den Beispielen meist mit $f$ bezeichnet. Du kannst (und solltest!) dir dafür einen passenderen Namen (je nach Problem) aussuchen. Benennung von Variablen bzw. Funktionen ist ein wichtiger Teil bei der Programmierung! Der Name sollte aussagekräftig sein und beschreiben, *was* die Funktion macht.\n",
    "\n",
    "> <span style=\"color:red\"> **_WICHTIG:_** </span> Wenn in der Aufgabenstellung die Rede davon ist, dass die Funktion etwas *zurückgeben* soll, ist damit gemeint, dass man `return` in der Funktion verwenden soll.\n",
    "\n",
    "\n",
    "Schreibe eine Funktion, mit der du die Aufgabe lösen kannst. Teste deine Funktion mit unterschiedlichen Werte.  \n",
    "\n",
    "## Aufgabe 1: Größere Zahl der Argumente\n",
    "\n",
    "- Schreibe eine Funktion, welche zwei Zahlen übergeben bekommt. Die Funktion soll die größere der beiden Zahlen zurückgeben.\n",
    "- **Beispiele:**\n",
    "\\begin{align}\n",
    "f(2,4) &\\Longrightarrow 4 \\\\\n",
    "f(5,5) &\\Longrightarrow 5 \\\\\n",
    "f(10,-10) &\\Longrightarrow 10 \\\\\n",
    "\\end{align}"
   ]
  },
  {
   "cell_type": "code",
   "execution_count": 1,
   "id": "2f834712",
   "metadata": {},
   "outputs": [
    {
     "name": "stdout",
     "output_type": "stream",
     "text": [
      "8  ist die größere Zahl!\n"
     ]
    }
   ],
   "source": [
    "def größere_zahl(zahl1,zahl2): \n",
    "    \n",
    "    if zahl1 > zahl2:\n",
    "        \n",
    "        return zahl1\n",
    "    \n",
    "    else:\n",
    "        zahl2 > zahl1\n",
    "    \n",
    "        return zahl2\n",
    "\n",
    "    \n",
    "print(größere_zahl(8,4), \" ist die größere Zahl!\")"
   ]
  },
  {
   "cell_type": "markdown",
   "id": "e1d71c77",
   "metadata": {},
   "source": [
    "## Aufgabe 2: Größte Zahl der Liste\n",
    "\n",
    "- Schreibe eine Funktion, die eine Liste von Zahlen übergeben bekommt. Die Funktion soll die größte Zahl in der Liste zurückgeben.\n",
    "- Die Pythonfunktionen `max`,`sort` und `sorted` dürfen für diese Aufgabe **nicht** verwendet werden!\n",
    "- **Beispiele:**\n",
    "\n",
    "\\begin{align}\n",
    "f([1,2,54,2,5]) &\\Longrightarrow 54 \\\\\n",
    "f([9,9,10,9,8]) &\\Longrightarrow 10 \\\\\n",
    "\\end{align}\n",
    "\n"
   ]
  },
  {
   "cell_type": "code",
   "execution_count": 2,
   "id": "24ca0ecb",
   "metadata": {},
   "outputs": [
    {
     "name": "stdout",
     "output_type": "stream",
     "text": [
      "18 ist die größte Zahl der Liste\n"
     ]
    }
   ],
   "source": [
    "def größte_zahl(liste):\n",
    "    \n",
    "    element = liste[0]\n",
    "    \n",
    "    for i in liste:\n",
    "        if i > element:\n",
    "            element = i\n",
    "            \n",
    "    return element\n",
    "    \n",
    "\n",
    "l =  [1, 4, 6, 2, 18, 7]\n",
    "\n",
    "print(größte_zahl(l), \"ist die größte Zahl der Liste\")"
   ]
  },
  {
   "cell_type": "markdown",
   "id": "0a9ed4db",
   "metadata": {},
   "source": [
    "## Aufgabe 3: Beliebig viele Werte ausgeben\n",
    "\n",
    "- Schreibe eine Funktion, die ein beliebige Anzahl von Argumenten annimmt und dann einzeln auf der Konsole ausgibt.\n",
    "\n",
    "> <span style=\"color:blue\"> **_INFO:_** </span> Mit welchem Symbol kann man in Python beliebig viele Argumente deklarieren?\n",
    "\n",
    "- **Beispiele:**\n",
    "\n",
    "\\begin{align}\n",
    "f(1) &\\Longrightarrow 1 \\\\\n",
    "f(1, 2) &\\Longrightarrow 1\\ 2 \\\\\n",
    "f(1, 2, 3) &\\Longrightarrow 1\\ 2\\ 3 \\\\\n",
    "\\end{align}\n",
    "\n"
   ]
  },
  {
   "cell_type": "code",
   "execution_count": 3,
   "id": "a489d79b",
   "metadata": {},
   "outputs": [
    {
     "name": "stdout",
     "output_type": "stream",
     "text": [
      "1\n",
      "2\n"
     ]
    }
   ],
   "source": [
    "def beliebig(*zahl):\n",
    "    \n",
    "    for i in zahl:\n",
    "        print(i)\n",
    "\n",
    "beliebig(1, 2)"
   ]
  },
  {
   "cell_type": "code",
   "execution_count": 4,
   "id": "b9409e16",
   "metadata": {},
   "outputs": [
    {
     "name": "stdout",
     "output_type": "stream",
     "text": [
      "(2, 3, 4)\n"
     ]
    }
   ],
   "source": [
    "def beliebig(*zahl):\n",
    "    total = zahl\n",
    "    print(total)\n",
    "\n",
    "beliebig(2, 3, 4)"
   ]
  },
  {
   "cell_type": "code",
   "execution_count": 5,
   "id": "804bc989",
   "metadata": {},
   "outputs": [
    {
     "data": {
      "text/plain": [
       "(4, 5, 6)"
      ]
     },
     "execution_count": 5,
     "metadata": {},
     "output_type": "execute_result"
    }
   ],
   "source": [
    "def beliebig(*zahl):\n",
    "    return zahl\n",
    "\n",
    "beliebig(4, 5, 6)"
   ]
  },
  {
   "cell_type": "markdown",
   "id": "57100d17",
   "metadata": {},
   "source": [
    "## Aufgabe 4: Summe aus (beliebigen) Zahlen\n",
    "\n",
    "- Schreibe eine Funktion, die eine beliebige Anzahl an Zahlen erwartet. Die Funktion soll die Summe aller Zahlen zurückgeben.\n",
    "- Die Pythonfunktion `sum` soll für diese Aufgabe **nicht** verwendet werden!\n",
    "- **Beispiele:**\n",
    "\n",
    "\\begin{align}\n",
    "f(2) &\\Longrightarrow 2 \\\\\n",
    "f(3,2) &\\Longrightarrow 5 \\\\ \n",
    "f(4,5,6) &\\Longrightarrow 15\n",
    "\\end{align}"
   ]
  },
  {
   "cell_type": "code",
   "execution_count": 6,
   "id": "bd09784d",
   "metadata": {},
   "outputs": [
    {
     "name": "stdout",
     "output_type": "stream",
     "text": [
      "6\n"
     ]
    }
   ],
   "source": [
    "def summe(*zahlen):   \n",
    "    total = 0\n",
    "    for i in zahlen:\n",
    "        total += i\n",
    "    print(total)  \n",
    "    \n",
    "summe(1, 2, 3)"
   ]
  },
  {
   "cell_type": "markdown",
   "id": "61ca6f65",
   "metadata": {},
   "source": [
    "## Aufgabe 5: Default Werte\n",
    "\n",
    "- Schreibe eine Funktion, die *Name, Alter* und *Wohnland* einer Person erwartet und gebe die Angaben in einem String aus. Sollte kein Land übergeben werden, setze den Standard-Wert auf \"Deutschland\". Beachte dabei auch die Reihenfolge der Argumente.\n",
    "- Wenn du magst, kannst du eine schöner Ausgabe als die unten Angegebene schreiben.\n",
    "\n",
    "- **Beispiele:**\n",
    "\n",
    "\\begin{align}\n",
    "f(\\text{\"Tom\"}, 32,\\text{\"Deutschland\"}) &\\Longrightarrow \\text{\"Tom\"}\\ 32\\ \\text{\"Deutschland\"} \\\\\n",
    "f(\\text{\"Paul\"}, 21, \\text{\"Frankreich\"} ) &\\Longrightarrow \\text{\"Paul\"}\\ 21\\ \\text{\"Frankreich\"}  \\\\\n",
    "f(\\text{\"Daniela\"},  29) &\\Longrightarrow \\text{\"Daniela\"}\\ 29\\ \\text{\"Deutschland\"} \\\\\n",
    "\\end{align}"
   ]
  },
  {
   "cell_type": "code",
   "execution_count": 7,
   "id": "facc9087",
   "metadata": {},
   "outputs": [
    {
     "name": "stdout",
     "output_type": "stream",
     "text": [
      "Ich heiße Manuela , bin 48 Jahre alt und komme aus Italien !\n"
     ]
    }
   ],
   "source": [
    "def default(name, alter = \"\", staat = \"Deutschland\"):\n",
    "    print(\"Ich heiße\",name, \",\" \" bin\", alter, \"Jahre alt und komme aus\", staat, \"!\")\n",
    "\n",
    "default(\"Manuela\", 48, \"Italien\")"
   ]
  },
  {
   "cell_type": "markdown",
   "id": "d675d6f2",
   "metadata": {},
   "source": [
    "## Aufgabe 6: Gerade Zahlen\n",
    "\n",
    "- Schreibe eine Funktion, die eine Liste von Zahlen übergeben bekommt. Daraus soll eine neue Liste zurückgegeben werden, die alle gerade Zahlen in aufsteigender Reihenfolge darstellt.\n",
    "\n",
    "- **Beispiele:**\n",
    "\n",
    "\\begin{align}\n",
    "f([1,2,8,4,5]) &\\Longrightarrow [2,4,8] \\\\\n",
    "f([5,18,3,2,10]) &\\Longrightarrow [2,10,18] \\\\\n",
    "\\end{align}"
   ]
  },
  {
   "cell_type": "code",
   "execution_count": 8,
   "id": "021ce1fb",
   "metadata": {},
   "outputs": [
    {
     "data": {
      "text/plain": [
       "[2, 4, 8, 12]"
      ]
     },
     "execution_count": 8,
     "metadata": {},
     "output_type": "execute_result"
    }
   ],
   "source": [
    "def gerade_zahl(list):\n",
    "    new_list = []\n",
    "    for i in list:\n",
    "         if i % 2 == 0:\n",
    "            new_list.append(i)\n",
    "            new_list.sort()\n",
    "    return new_list\n",
    "\n",
    "\n",
    "l = [12, 3, 1, 5, 2, 4, 8]           \n",
    "            \n",
    "gerade_zahl(l)     "
   ]
  },
  {
   "cell_type": "markdown",
   "id": "b4b2e2e6",
   "metadata": {},
   "source": [
    "## Aufgabe 7: Euklidischer Abstand \n",
    "\n",
    "- Der Abstand zweier Punkte \n",
    "$p_1=\n",
    "\\begin{pmatrix}\n",
    "x_1 \\\\ y_1\n",
    "\\end{pmatrix}\n",
    ", \\\n",
    "p_2=\n",
    "\\begin{pmatrix}\n",
    "x_2 \\\\ y_2\n",
    "\\end{pmatrix}\n",
    "$\n",
    "in der Ebene ist definiert durch\n",
    "\n",
    "\\begin{align}\n",
    "        d = \\sqrt{(x_1-x_2)^2 + (y_1-y_2)^2} .\n",
    "\\end{align}\n",
    "\n",
    "- Schreibe eine Funktion, die zwei Listen übergeben bekommt. Der Inhalt der ersten Liste sind die Koordinaten von $p_1$, der Inhalt der zweiten Listen sind die Koordinaten von $p_2$. Die Funktion soll den Abstand der zwei Punkte zurückgeben.\n",
    "\n",
    "- **Beispiele:**\n",
    "\n",
    "\\begin{align}\n",
    "f([0,0],[1,0]) &\\Longrightarrow 1.0 \\\\\n",
    "f([1,0],[4,4]) &\\Longrightarrow 5.0 \\\\\n",
    "f([1,1],[1,1]) &\\Longrightarrow 0.0 \\\\\n",
    "\\end{align}\n",
    "   "
   ]
  },
  {
   "cell_type": "code",
   "execution_count": 1,
   "id": "26064776",
   "metadata": {},
   "outputs": [
    {
     "data": {
      "text/plain": [
       "5.0"
      ]
     },
     "execution_count": 1,
     "metadata": {},
     "output_type": "execute_result"
    }
   ],
   "source": [
    "def abstand(l01, l02):                                         \n",
    "                                                                \n",
    "    d = ((l01[0] - l02[0])**2 + (l01[1] - l02[1])**2) **0.5            \n",
    "    return d\n",
    "\n",
    "\n",
    "l01 = [1, 0]\n",
    "l02 = [4, 4]\n",
    "\n",
    "abstand(l01,l02)"
   ]
  },
  {
   "cell_type": "markdown",
   "id": "4d74284e",
   "metadata": {},
   "source": [
    "\n",
    "## Aufgabe 8: Primzahl\n",
    "\n",
    "- Schreibe eine Funktion die eine Zahl als Argument bekommt und `True` zurück gibt, wenn die Zahl eine Primzahl ist. Ansonsten `False`. Eine Primzahl ist eine Zahl, die nur durch 1 und sich selber ohne Rest teilbar ist.\n",
    "\n",
    "> <span style=\"color:green\"> **_ERINNERUNG:_** </span> Den Rest bei einer Division von a und b erhält man durch den %-Operator, d.h. `a % b`\n",
    "\n",
    "- **Beispiele:** \n",
    "\n",
    "\\begin{align}\n",
    "f(17) &\\Longrightarrow \\text{True} \\\\\n",
    "f(15) &\\Longrightarrow \\text{False} \\\\\n",
    "f(7)  &\\Longrightarrow \\text{True} \\\\\n",
    "\\end{align}\n",
    "\n"
   ]
  },
  {
   "cell_type": "code",
   "execution_count": 3,
   "id": "08622f10",
   "metadata": {},
   "outputs": [
    {
     "data": {
      "text/plain": [
       "False"
      ]
     },
     "execution_count": 3,
     "metadata": {},
     "output_type": "execute_result"
    }
   ],
   "source": [
    "def prim(zahl):\n",
    "    for i in range(2,zahl):\n",
    "        if zahl % i  == 0:\n",
    "            return False\n",
    "    return True\n",
    "\n",
    "prim(9)"
   ]
  },
  {
   "cell_type": "markdown",
   "id": "a502d139",
   "metadata": {},
   "source": [
    "## Aufgabe 9: Zahlen verdoppeln\n",
    "\n",
    "- Schreibe eine Funktion die eine Liste mit Zahlen übergeben bekommt. Die Funktion soll eine Liste zurückgeben, mit den Zahlen verdoppelt.\n",
    "\n",
    "- **Beispiele:**\n",
    "\n",
    "\\begin{align}\n",
    "f([1,2,3,4]) &\\Longrightarrow [2,4,6,8] \\\\\n",
    "f([0,10,100]) &\\Longrightarrow [0,20,200]\n",
    "\\end{align}\n"
   ]
  },
  {
   "cell_type": "code",
   "execution_count": 4,
   "id": "59870614",
   "metadata": {},
   "outputs": [
    {
     "data": {
      "text/plain": [
       "[8, 16, 20, 40, 100]"
      ]
     },
     "execution_count": 4,
     "metadata": {},
     "output_type": "execute_result"
    }
   ],
   "source": [
    "def doppel(list):\n",
    "    liste = []\n",
    "    \n",
    "    for i in list:\n",
    "        liste.append(i*2)\n",
    "    return liste\n",
    "    \n",
    "a = [4, 8, 10, 20, 50]\n",
    "    \n",
    "doppel(a) "
   ]
  },
  {
   "cell_type": "markdown",
   "id": "3006d583",
   "metadata": {},
   "source": [
    "## Aufgabe 10: Fakultät\n",
    "\n",
    "- Schreibe eine Funktion, welche die Fakultät einer übergebenen Zahl berechnet. Die Fakultät einer Zahl $n$ ist definiert als\n",
    "\n",
    "\\begin{align}\n",
    "\\prod_{i=1}^n i= 1 \\cdot 2\\cdot ... \\cdot i\n",
    "\\end{align}\n",
    "\n",
    "- **Beispiele:**\n",
    "\n",
    "\\begin{align}\n",
    "f(2) &\\Longrightarrow 2 \\\\\n",
    "f(3) &\\Longrightarrow 6 \\\\ \n",
    "f(4) &\\Longrightarrow 24\n",
    "\\end{align}"
   ]
  },
  {
   "cell_type": "code",
   "execution_count": 5,
   "id": "6d32a691",
   "metadata": {},
   "outputs": [
    {
     "data": {
      "text/plain": [
       "120"
      ]
     },
     "execution_count": 5,
     "metadata": {},
     "output_type": "execute_result"
    }
   ],
   "source": [
    "def fakultät(zahl):\n",
    "    \n",
    "    if zahl == 0:\n",
    "        return 1\n",
    "    \n",
    "    else:\n",
    "        return zahl * fakultät(zahl - 1)\n",
    "\n",
    "fakultät(5)"
   ]
  },
  {
   "cell_type": "markdown",
   "id": "0639092b",
   "metadata": {},
   "source": [
    "## Aufgabe 11: Größter gemeinsamer Teiler\n",
    "\n",
    "- Die folgende rekursive Funktion findet den größten gemeinsamen Teiler (*ggT*) zweier Zahlen $x$ und $y$. \n",
    "\n",
    "\\begin{align}\n",
    "ggT(x,y)=\n",
    "\\begin{cases}\n",
    "x & \\text{ falls } y=0 \\\\\n",
    "\\text{ggT(y, x%y)} & \\text{ falls } y>0\n",
    "\\end{cases}\n",
    "\\end{align}\n",
    "\n",
    "- $x \\% y$ bezeichnet dabei - wie wir es aus Python kennen - den Rest bei einer Division von x durch y. (*Modulooperator*)\n",
    "\n",
    "- Implementiere die obige Funktion `ggT` in Python. Überprüfe die Funktionalität mit selbst gewählten Zahlen.\n",
    "- **Beispiele:**\n",
    "\n",
    "\\begin{align}\n",
    "ggT(12,12) &\\Longrightarrow 12 \\\\\n",
    "ggT(36,18) &\\Longrightarrow 18 \\\\\n",
    "ggT(17,13) &\\Longrightarrow 1\n",
    "\\end{align}"
   ]
  },
  {
   "cell_type": "code",
   "execution_count": 6,
   "id": "ea797957",
   "metadata": {},
   "outputs": [
    {
     "data": {
      "text/plain": [
       "6"
      ]
     },
     "execution_count": 6,
     "metadata": {},
     "output_type": "execute_result"
    }
   ],
   "source": [
    "def ggt(x, y):\n",
    "    \n",
    "    if y == 0:\n",
    "        return x\n",
    "    \n",
    "    elif x == 0:\n",
    "        return y\n",
    "    \n",
    "    elif x % y == 0 and x > y: \n",
    "        return y\n",
    "        \n",
    "    elif y % x == 0 and x < y:\n",
    "        return x\n",
    "        \n",
    "    else:\n",
    "        return 1\n",
    "    \n",
    "ggt(24, 6)"
   ]
  },
  {
   "cell_type": "markdown",
   "id": "39b0c4b9",
   "metadata": {},
   "source": [
    "## Aufgabe 12: Gemeinsames Element zweier Listen\n",
    "\n",
    "- Schreibe eine Funktion die zwei Listen als Argumente erwartet und `True` zurückgibt, wenn die Listen ein (oder mehrere) gemeinsame Elemente enthält.\n",
    "\n",
    "**Beispiele:** \n",
    "\n",
    "\\begin{align}\n",
    "f([1,2,3],[1,5,6]) &\\Longrightarrow \\text{True} \\\\\n",
    "f([1,2,3],[4,5,6]) &\\Longrightarrow \\text{False} \\\\\n",
    "f([9],[8,7]) &\\Longrightarrow \\text{False} \\\\\n",
    "\\end{align}"
   ]
  },
  {
   "cell_type": "code",
   "execution_count": 7,
   "id": "42649dee",
   "metadata": {},
   "outputs": [
    {
     "data": {
      "text/plain": [
       "True"
      ]
     },
     "execution_count": 7,
     "metadata": {},
     "output_type": "execute_result"
    }
   ],
   "source": [
    "def gemeinsam(l1, l2):\n",
    "     \n",
    "    for i in l1:\n",
    "        for j in l2:\n",
    "            \n",
    "            if i == j:\n",
    "                return True\n",
    "            elif i != j:\n",
    "                continue\n",
    "           \n",
    "    return False\n",
    "            \n",
    "\n",
    "x = [1, 2, 3, 4, 5]\n",
    "y = [4, 5, 6, 7, 8]  \n",
    "\n",
    "gemeinsam(x,y)"
   ]
  },
  {
   "cell_type": "markdown",
   "id": "4db41628",
   "metadata": {},
   "source": [
    "## Aufgabe 13: Element aus Liste entfernen\n",
    "\n",
    "- Schreibe eine Funktion die zwei Argument erwartet. Eine Liste und eine Zahl $i$. Die Funktion soll die Liste zurückgeben, ohne das Element an Index $i$. Wenn der Index außerhalb der Liste liegt, soll die gesamte Liste zurückgegeben werden.\n",
    "\n",
    "**Beispiele:**\n",
    "\n",
    "\\begin{align}\n",
    "f([0,1,2],0) &\\Longrightarrow [1,2] \\\\\n",
    "f([\\text{\"A\",\"B\",\"C\"}],2) &\\Longrightarrow [\\text{\"A\",\"B\"}] \\\\\n",
    "f([0,1,2,3,4],10) &\\Longrightarrow [0,1,2,3,4] \\\\\n",
    "\\end{align}"
   ]
  },
  {
   "cell_type": "code",
   "execution_count": 1,
   "id": "b3de3708",
   "metadata": {},
   "outputs": [
    {
     "data": {
      "text/plain": [
       "['A', 'C']"
      ]
     },
     "execution_count": 1,
     "metadata": {},
     "output_type": "execute_result"
    }
   ],
   "source": [
    "def list_zahl(liste, zahl):\n",
    "\n",
    "    for i in liste:   \n",
    "       \n",
    "        if zahl > liste.index(liste[-1]):\n",
    "            return liste\n",
    "               \n",
    "    liste.pop(zahl)\n",
    "    return liste\n",
    "\n",
    "x = [\"A\", \"B\", \"C\"]\n",
    "\n",
    "\n",
    "list_zahl(x, 1)"
   ]
  },
  {
   "cell_type": "code",
   "execution_count": null,
   "id": "d4f55c18",
   "metadata": {},
   "outputs": [],
   "source": []
  }
 ],
 "metadata": {
  "kernelspec": {
   "display_name": "Python 3 (ipykernel)",
   "language": "python",
   "name": "python3"
  },
  "language_info": {
   "codemirror_mode": {
    "name": "ipython",
    "version": 3
   },
   "file_extension": ".py",
   "mimetype": "text/x-python",
   "name": "python",
   "nbconvert_exporter": "python",
   "pygments_lexer": "ipython3",
   "version": "3.10.9"
  }
 },
 "nbformat": 4,
 "nbformat_minor": 5
}
