{
 "cells": [
  {
   "cell_type": "markdown",
   "id": "65a64155",
   "metadata": {},
   "source": [
    "# Inhaltsverzeichnis \n",
    "\n",
    "- **Zahlen Aufgaben**\n",
    "    - **Aufgabe 1**\n",
    "    - **Aufgabe 2**\n",
    "    - **Aufgabe 3**\n",
    "    - **Aufgabe 4**\n",
    "    - **Aufgabe 5**\n"
   ]
  },
  {
   "cell_type": "markdown",
   "id": "cfad94c8",
   "metadata": {},
   "source": [
    "# Zahlen Aufgaben\n",
    "\n",
    "## Aufgabe 1"
   ]
  },
  {
   "cell_type": "markdown",
   "id": "762e8bf9",
   "metadata": {},
   "source": [
    "- Überprüfe, ob 445 durch 3 ohne Rest teilbar ist."
   ]
  },
  {
   "cell_type": "code",
   "execution_count": 1,
   "id": "c8f2ded0",
   "metadata": {},
   "outputs": [
    {
     "data": {
      "text/plain": [
       "1"
      ]
     },
     "execution_count": 1,
     "metadata": {},
     "output_type": "execute_result"
    }
   ],
   "source": [
    "445 % 3                # 1 Rest --> nicht ohne Rest teilbar"
   ]
  },
  {
   "cell_type": "markdown",
   "id": "8100ef03",
   "metadata": {},
   "source": [
    "## Aufgabe 2\n",
    "\n",
    "- Berechne $2^{100}$. \n",
    "- Berechne von dieser Zahl den Rest bei einer Division durch 2."
   ]
  },
  {
   "cell_type": "code",
   "execution_count": 2,
   "id": "c5d47fc4",
   "metadata": {},
   "outputs": [
    {
     "data": {
      "text/plain": [
       "1267650600228229401496703205376"
      ]
     },
     "execution_count": 2,
     "metadata": {},
     "output_type": "execute_result"
    }
   ],
   "source": [
    "2 ** 100"
   ]
  },
  {
   "cell_type": "code",
   "execution_count": 7,
   "id": "2309b0df",
   "metadata": {},
   "outputs": [
    {
     "data": {
      "text/plain": [
       "0"
      ]
     },
     "execution_count": 7,
     "metadata": {},
     "output_type": "execute_result"
    }
   ],
   "source": [
    "2** 100 % 2               # 0 Rest"
   ]
  },
  {
   "cell_type": "markdown",
   "id": "5d15fb55",
   "metadata": {},
   "source": [
    "## Aufgabe 3\n",
    "\n",
    "- Welche Zahl ist größer: $2^{32}$ oder $78610 \\cdot 98712$?\n"
   ]
  },
  {
   "cell_type": "code",
   "execution_count": 4,
   "id": "de378483",
   "metadata": {},
   "outputs": [
    {
     "data": {
      "text/plain": [
       "4294967296"
      ]
     },
     "execution_count": 4,
     "metadata": {},
     "output_type": "execute_result"
    }
   ],
   "source": [
    "2 ** 32"
   ]
  },
  {
   "cell_type": "code",
   "execution_count": 8,
   "id": "ac70e904",
   "metadata": {},
   "outputs": [
    {
     "data": {
      "text/plain": [
       "7759750320"
      ]
     },
     "execution_count": 8,
     "metadata": {},
     "output_type": "execute_result"
    }
   ],
   "source": [
    "78610 * 98712            # das ist größer"
   ]
  },
  {
   "cell_type": "markdown",
   "id": "c908f3e8",
   "metadata": {},
   "source": [
    "## Aufgabe 4\n",
    "\n",
    "- Berechne:\n",
    "\\begin{align}\n",
    "\\frac{(2.3\\cdot5)^{12}}{2+7\\cdot8}\n",
    "\\end{align}\n"
   ]
  },
  {
   "cell_type": "code",
   "execution_count": 9,
   "id": "8ec89d0c",
   "metadata": {},
   "outputs": [
    {
     "data": {
      "text/plain": [
       "92245691473.68468"
      ]
     },
     "execution_count": 9,
     "metadata": {},
     "output_type": "execute_result"
    }
   ],
   "source": [
    "((2.3 * 5) **12) / (2 + (7 * 8))"
   ]
  },
  {
   "cell_type": "markdown",
   "id": "495fa208",
   "metadata": {},
   "source": [
    "## Aufgabe 5\n",
    "\n",
    "- Berechne:\n",
    "\\begin{align}\n",
    "\\sqrt{4.6^2 + (13 - \\frac{13}{44})}\n",
    "\\end{align}"
   ]
  },
  {
   "cell_type": "code",
   "execution_count": 17,
   "id": "4097f6b7",
   "metadata": {},
   "outputs": [
    {
     "data": {
      "text/plain": [
       "5.819325171748478"
      ]
     },
     "execution_count": 17,
     "metadata": {},
     "output_type": "execute_result"
    }
   ],
   "source": [
    "(4.6 ** 2 + (13 - 13/44)) ** .5"
   ]
  },
  {
   "cell_type": "code",
   "execution_count": null,
   "id": "ffa84a84",
   "metadata": {},
   "outputs": [],
   "source": []
  }
 ],
 "metadata": {
  "kernelspec": {
   "display_name": "Python 3 (ipykernel)",
   "language": "python",
   "name": "python3"
  },
  "language_info": {
   "codemirror_mode": {
    "name": "ipython",
    "version": 3
   },
   "file_extension": ".py",
   "mimetype": "text/x-python",
   "name": "python",
   "nbconvert_exporter": "python",
   "pygments_lexer": "ipython3",
   "version": "3.10.9"
  }
 },
 "nbformat": 4,
 "nbformat_minor": 5
}
