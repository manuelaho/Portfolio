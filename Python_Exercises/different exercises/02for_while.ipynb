{
 "cells": [
  {
   "cell_type": "markdown",
   "id": "8bf66e42",
   "metadata": {},
   "source": [
    "# Inhaltsverzeichnis \n",
    "\n",
    "- **`While`-Schleife Aufgaben**\n",
    "    - **Aufgabe 1**\n",
    "    - **Aufgabe 2**\n",
    "    - **Aufgabe 3**\n",
    "- **`For`-Schleifen Aufgaben**\n",
    "    - **Aufgabe 1**\n",
    "    - **Aufgabe 2**\n",
    "    - **Aufgabe 3**\n",
    "    - **Aufgabe 4**\n",
    "    - **Aufgabe 5**\n",
    "    - **Aufgabe 6**\n",
    "- **Aufgabe 7**\n"
   ]
  },
  {
   "cell_type": "markdown",
   "id": "1ed9690a",
   "metadata": {},
   "source": [
    "# `While`-Schleife Aufgaben\n",
    "\n",
    "## Aufgabe 1\n",
    "\n",
    "Schreibe ein Programm, welches in jeder Iteration einer `while`-Schleife den Wert der Variablen `x` um 2 erhöht. Die Schleife soll beendet werden, wenn `x` größer als 100 ist."
   ]
  },
  {
   "cell_type": "code",
   "execution_count": 1,
   "id": "5f6568de",
   "metadata": {},
   "outputs": [
    {
     "name": "stdout",
     "output_type": "stream",
     "text": [
      "Die Variable x hat den Wert 0\n",
      "Die Variable x hat den Wert 2\n",
      "Die Variable x hat den Wert 4\n",
      "Die Variable x hat den Wert 6\n",
      "Die Variable x hat den Wert 8\n",
      "Die Variable x hat den Wert 10\n",
      "Die Variable x hat den Wert 12\n",
      "Die Variable x hat den Wert 14\n",
      "Die Variable x hat den Wert 16\n",
      "Die Variable x hat den Wert 18\n",
      "Die Variable x hat den Wert 20\n",
      "Die Variable x hat den Wert 22\n",
      "Die Variable x hat den Wert 24\n",
      "Die Variable x hat den Wert 26\n",
      "Die Variable x hat den Wert 28\n",
      "Die Variable x hat den Wert 30\n",
      "Die Variable x hat den Wert 32\n",
      "Die Variable x hat den Wert 34\n",
      "Die Variable x hat den Wert 36\n",
      "Die Variable x hat den Wert 38\n",
      "Die Variable x hat den Wert 40\n",
      "Die Variable x hat den Wert 42\n",
      "Die Variable x hat den Wert 44\n",
      "Die Variable x hat den Wert 46\n",
      "Die Variable x hat den Wert 48\n",
      "Die Variable x hat den Wert 50\n",
      "Die Variable x hat den Wert 52\n",
      "Die Variable x hat den Wert 54\n",
      "Die Variable x hat den Wert 56\n",
      "Die Variable x hat den Wert 58\n",
      "Die Variable x hat den Wert 60\n",
      "Die Variable x hat den Wert 62\n",
      "Die Variable x hat den Wert 64\n",
      "Die Variable x hat den Wert 66\n",
      "Die Variable x hat den Wert 68\n",
      "Die Variable x hat den Wert 70\n",
      "Die Variable x hat den Wert 72\n",
      "Die Variable x hat den Wert 74\n",
      "Die Variable x hat den Wert 76\n",
      "Die Variable x hat den Wert 78\n",
      "Die Variable x hat den Wert 80\n",
      "Die Variable x hat den Wert 82\n",
      "Die Variable x hat den Wert 84\n",
      "Die Variable x hat den Wert 86\n",
      "Die Variable x hat den Wert 88\n",
      "Die Variable x hat den Wert 90\n",
      "Die Variable x hat den Wert 92\n",
      "Die Variable x hat den Wert 94\n",
      "Die Variable x hat den Wert 96\n",
      "Die Variable x hat den Wert 98\n",
      "Die Variable x hat den Wert 100\n",
      "Die Schleife ist beendet\n"
     ]
    }
   ],
   "source": [
    "x = 0\n",
    "\n",
    "while not x >100:\n",
    "    print(\"Die Variable x hat den Wert\", x)\n",
    "    x += 2\n",
    "    \n",
    "print(\"Die Schleife ist beendet\")"
   ]
  },
  {
   "cell_type": "markdown",
   "id": "97ca134a",
   "metadata": {},
   "source": [
    "## Aufgabe 2\n",
    "\n",
    "- Bitte den\\*die Nutzer\\*in eine Zahl einzugeben. Solange bis die eingegebene Zahl kleiner als 0 ist, bitte ihn\\*ihr eine neue Zahl einzugeben. "
   ]
  },
  {
   "cell_type": "code",
   "execution_count": 2,
   "id": "e493ecf2",
   "metadata": {},
   "outputs": [
    {
     "name": "stdout",
     "output_type": "stream",
     "text": [
      "Gib eine Zahl ein:-12\n",
      "Gib erneut eine Zahl ein: \n",
      "-8\n",
      "Gib erneut eine Zahl ein: \n",
      "2\n",
      "Gut gemacht!\n"
     ]
    }
   ],
   "source": [
    "zahl = input(\"Gib eine Zahl ein:\")\n",
    "\n",
    "while int(zahl) < 0:\n",
    "    print(\"Gib erneut eine Zahl ein: \")\n",
    "    zahl = input()\n",
    "    \n",
    "print(\"Gut gemacht!\")"
   ]
  },
  {
   "cell_type": "markdown",
   "id": "2f434135",
   "metadata": {},
   "source": [
    "## Aufgabe 3\n",
    "\n",
    "- Wähle eine Zahl zwischen 0-10. Lass den\\*die User\\*in solange eine Zahl eingeben, bis er\\*sie deine Zahl errät."
   ]
  },
  {
   "cell_type": "code",
   "execution_count": 3,
   "id": "304babe5",
   "metadata": {},
   "outputs": [
    {
     "name": "stdout",
     "output_type": "stream",
     "text": [
      "Errate eine Zahl zwischen 0 und 10: 5\n",
      "Leider falsch :-(\n",
      "3\n",
      "Leider falsch :-(\n",
      "8\n",
      "Bravo, richtig erraten :-)!\n"
     ]
    }
   ],
   "source": [
    "rate_zahl = input(\"Errate eine Zahl zwischen 0 und 10: \")\n",
    "\n",
    "while int(rate_zahl) != 8:\n",
    "    print(\"Leider falsch :-(\")\n",
    "    rate_zahl = input()\n",
    "    \n",
    "print(\"Bravo, richtig erraten :-)!\")"
   ]
  },
  {
   "cell_type": "markdown",
   "id": "33351c25",
   "metadata": {},
   "source": [
    "# `For`-Schleifen Aufgaben\n",
    "\n"
   ]
  },
  {
   "cell_type": "markdown",
   "id": "cc8a2e1f",
   "metadata": {},
   "source": [
    "## Aufgabe 1\n",
    "\n",
    "- Gib alle Elemente der Liste `my_list` zusammen mit ihren Index aus:"
   ]
  },
  {
   "cell_type": "code",
   "execution_count": 4,
   "id": "2bb37dde",
   "metadata": {},
   "outputs": [
    {
     "name": "stdout",
     "output_type": "stream",
     "text": [
      "Der Index 0 hat das Element 1\n",
      "Der Index 1 hat das Element 2\n",
      "Der Index 2 hat das Element 3\n",
      "Der Index 3 hat das Element 4\n",
      "Der Index 4 hat das Element Hallo\n",
      "Der Index 5 hat das Element [1, 2, 3]\n",
      "Der Index 6 hat das Element {'A': 3}\n"
     ]
    }
   ],
   "source": [
    "my_list = [1, 2, 3, 4, \"Hallo\", [1, 2, 3], {\"A\" : 3}]\n",
    "\n",
    "for i, e in enumerate(my_list):\n",
    "    print(\"Der Index\", i, \"hat das Element\", e)"
   ]
  },
  {
   "cell_type": "markdown",
   "id": "ccdd460e",
   "metadata": {},
   "source": [
    "## Aufgabe 2 \n",
    "\n",
    "- Erzeuge eine Liste mit den Zahlen von 1 bis 50. Iteriere über die Liste und gibt jede Zahl aus, die ohne Rest durch 5 teilbar ist.\n",
    "\n",
    "Nützliche Funktionen bzw. Operatoren:\n",
    "- `range()`\n",
    "- `%`-Operator (Berechnet den Rest bei einer ganzzahligen Division.)"
   ]
  },
  {
   "cell_type": "code",
   "execution_count": 5,
   "id": "38a4bada",
   "metadata": {},
   "outputs": [
    {
     "name": "stdout",
     "output_type": "stream",
     "text": [
      "5 ist durch 5 teilbar!\n",
      "10 ist durch 5 teilbar!\n",
      "15 ist durch 5 teilbar!\n",
      "20 ist durch 5 teilbar!\n",
      "25 ist durch 5 teilbar!\n",
      "30 ist durch 5 teilbar!\n",
      "35 ist durch 5 teilbar!\n",
      "40 ist durch 5 teilbar!\n",
      "45 ist durch 5 teilbar!\n",
      "50 ist durch 5 teilbar!\n"
     ]
    }
   ],
   "source": [
    "for i in range(1,51):\n",
    "    if i % 5 != 0:\n",
    "        continue\n",
    "    print(i, \"ist durch 5 teilbar!\")"
   ]
  },
  {
   "cell_type": "markdown",
   "id": "60949993",
   "metadata": {},
   "source": [
    "## Aufgabe 3\n",
    "\n",
    "- Schreibe ein Programm, welches alle Zahlen in der Liste `my_list` mittels einer `for`-Schleife addiert. Gibt das Ergebnis auf der Konsole aus."
   ]
  },
  {
   "cell_type": "code",
   "execution_count": 1,
   "id": "4b4e6061",
   "metadata": {},
   "outputs": [
    {
     "name": "stdout",
     "output_type": "stream",
     "text": [
      "21\n"
     ]
    }
   ],
   "source": [
    "my_list = [0, 1, 2, 3, 4, 5, 6]\n",
    "summe = 0\n",
    "\n",
    "for i in my_list:\n",
    "    summe = summe + i\n",
    "    \n",
    "print(summe)            "
   ]
  },
  {
   "cell_type": "markdown",
   "id": "58437419",
   "metadata": {},
   "source": [
    "## Aufgabe 4\n",
    "\n",
    "- Iteriere durch die erste 10 Zahlen und gib alle außer die $4$ und die $6$ auf der Konsole aus."
   ]
  },
  {
   "cell_type": "code",
   "execution_count": 2,
   "id": "80104553",
   "metadata": {},
   "outputs": [
    {
     "name": "stdout",
     "output_type": "stream",
     "text": [
      "1\n",
      "2\n",
      "3\n",
      "5\n",
      "7\n",
      "8\n",
      "9\n",
      "10\n"
     ]
    }
   ],
   "source": [
    "for zahlen in range(1,11):\n",
    "    if zahlen == 4 or zahlen == 6:\n",
    "        continue\n",
    "    \n",
    "    print(zahlen)"
   ]
  },
  {
   "cell_type": "markdown",
   "id": "809233e7",
   "metadata": {},
   "source": [
    "## Aufgabe 5\n",
    "\n",
    "- Schreibe eine `for`-Schleife, die alle Zahlen zwischen 0 und 200 in 7er-Schritten ausgibt.\n",
    "\n",
    "- Lass dir die gleichen Zahlen ausgeben wie oben, nur in umgekehrter Reihenfolge."
   ]
  },
  {
   "cell_type": "code",
   "execution_count": 4,
   "id": "7cb847f0",
   "metadata": {},
   "outputs": [
    {
     "name": "stdout",
     "output_type": "stream",
     "text": [
      "[0, 7, 14, 21, 28, 35, 42, 49, 56, 63, 70, 77, 84, 91, 98, 105, 112, 119, 126, 133, 140, 147, 154, 161, 168, 175, 182, 189, 196]\n",
      "[196, 189, 182, 175, 168, 161, 154, 147, 140, 133, 126, 119, 112, 105, 98, 91, 84, 77, 70, 63, 56, 49, 42, 35, 28, 21, 14, 7, 0]\n"
     ]
    }
   ],
   "source": [
    "zahlen = []                                \n",
    "\n",
    "for i in range(0, 201, 7):\n",
    "    zahlen.append(i)\n",
    "    \n",
    "print(zahlen)\n",
    "\n",
    "zahlen.sort(reverse = True)\n",
    "print(zahlen)"
   ]
  },
  {
   "cell_type": "code",
   "execution_count": 3,
   "id": "417fd2ab",
   "metadata": {},
   "outputs": [
    {
     "name": "stdout",
     "output_type": "stream",
     "text": [
      "196\n",
      "189\n",
      "182\n",
      "175\n",
      "168\n",
      "161\n",
      "154\n",
      "147\n",
      "140\n",
      "133\n",
      "126\n",
      "119\n",
      "112\n",
      "105\n",
      "98\n",
      "91\n",
      "84\n",
      "77\n",
      "70\n",
      "63\n",
      "56\n",
      "49\n",
      "42\n",
      "35\n",
      "28\n",
      "21\n",
      "14\n",
      "7\n",
      "0\n"
     ]
    }
   ],
   "source": [
    "for i in range (0, 201, 7) [::-1]:             # Alternative mit Syntax\n",
    "    print(i)"
   ]
  },
  {
   "cell_type": "markdown",
   "id": "03249b25",
   "metadata": {},
   "source": [
    "## Aufgabe 6\n",
    "\n",
    "- Berechne die Summe\n",
    "\\begin{align}\n",
    "1^2+2^2+3^2+4^2+5^2+6^2+7^2+8^2+9^2+10^2+11^2+12^2+13^2+14^2+15^2\n",
    "\\end{align}\n",
    "\n",
    "durch Benutzung einer `for`-Schleifen."
   ]
  },
  {
   "cell_type": "code",
   "execution_count": 5,
   "id": "df46ae3c",
   "metadata": {},
   "outputs": [
    {
     "name": "stdout",
     "output_type": "stream",
     "text": [
      "Das Ergebnis ist 1240\n"
     ]
    }
   ],
   "source": [
    "summe = 0\n",
    "\n",
    "for i in range(16):\n",
    "    summe += i**2\n",
    "       \n",
    "print(\"Das Ergebnis ist\", summe)"
   ]
  },
  {
   "cell_type": "markdown",
   "id": "2357132c",
   "metadata": {},
   "source": [
    "# Aufgabe 7\n",
    "\n",
    "- Erzeuge die folgenden Zeilen durch eine `for`-Schleife\n",
    "\n",
    "o <br>\n",
    "oo <br>\n",
    "ooo <br>\n",
    "oooo <br>\n",
    "ooooo <br>\n",
    "oooooo <br>\n",
    "ooooooo <br>\n",
    "oooooooo <br>\n",
    "ooooooooo <br>"
   ]
  },
  {
   "cell_type": "code",
   "execution_count": 1,
   "id": "4098d7ee",
   "metadata": {},
   "outputs": [
    {
     "name": "stdout",
     "output_type": "stream",
     "text": [
      "\n",
      "o\n",
      "oo\n",
      "ooo\n",
      "oooo\n",
      "ooooo\n",
      "oooooo\n",
      "ooooooo\n",
      "oooooooo\n",
      "ooooooooo\n"
     ]
    }
   ],
   "source": [
    "for i in range(10):\n",
    "    print(\"o\" * i)"
   ]
  },
  {
   "cell_type": "code",
   "execution_count": null,
   "id": "a773d960",
   "metadata": {},
   "outputs": [],
   "source": []
  }
 ],
 "metadata": {
  "kernelspec": {
   "display_name": "Python 3 (ipykernel)",
   "language": "python",
   "name": "python3"
  },
  "language_info": {
   "codemirror_mode": {
    "name": "ipython",
    "version": 3
   },
   "file_extension": ".py",
   "mimetype": "text/x-python",
   "name": "python",
   "nbconvert_exporter": "python",
   "pygments_lexer": "ipython3",
   "version": "3.10.9"
  }
 },
 "nbformat": 4,
 "nbformat_minor": 5
}
