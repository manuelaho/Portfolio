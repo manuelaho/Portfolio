{
 "cells": [
  {
   "cell_type": "markdown",
   "id": "17521c52",
   "metadata": {},
   "source": [
    "# Inhaltsverzeichnis \n",
    "\n",
    "- **Mengen Aufgaben**\n",
    "    - **Aufgabe 1 - Menge erstellen**\n",
    "    - **Aufgabe 2 - Menge ergänzen**\n",
    "    - **Aufgabe 3 - Gemeinsame Elemente**\n",
    "    - **Aufgabe 4 - Einzigartige Elemente**\n"
   ]
  },
  {
   "cell_type": "markdown",
   "id": "6487ed07",
   "metadata": {},
   "source": [
    "# Mengen Aufgaben\n",
    "\n",
    "## Aufgabe 1 - Menge erstellen\n",
    "\n",
    "- Erstelle eine Menge `colors` mit 3 unterschiedlichen Farben (z.b. \"blue\").\n",
    "- Füge nach der Initialisierung noch eine weitere Farbe dazu.\n",
    "- Entferne danach eine der 4 Farben in `colors`."
   ]
  },
  {
   "cell_type": "code",
   "execution_count": 3,
   "id": "b67b2e01",
   "metadata": {},
   "outputs": [],
   "source": [
    "colors = {\"red\", \"green\", \"blue\"}"
   ]
  },
  {
   "cell_type": "code",
   "execution_count": 4,
   "id": "b0ed992b",
   "metadata": {},
   "outputs": [
    {
     "name": "stdout",
     "output_type": "stream",
     "text": [
      "{'green', 'red', 'blue'}\n"
     ]
    }
   ],
   "source": [
    "print(colors)"
   ]
  },
  {
   "cell_type": "code",
   "execution_count": 6,
   "id": "99c52316",
   "metadata": {},
   "outputs": [],
   "source": [
    "colors.add(\"orange\")"
   ]
  },
  {
   "cell_type": "code",
   "execution_count": 7,
   "id": "2298e713",
   "metadata": {},
   "outputs": [
    {
     "name": "stdout",
     "output_type": "stream",
     "text": [
      "{'orange', 'green', 'red', 'blue'}\n"
     ]
    }
   ],
   "source": [
    "print(colors)"
   ]
  },
  {
   "cell_type": "code",
   "execution_count": 8,
   "id": "414e3ef8",
   "metadata": {},
   "outputs": [],
   "source": [
    "colors.remove(\"red\")"
   ]
  },
  {
   "cell_type": "code",
   "execution_count": 9,
   "id": "3b031e66",
   "metadata": {},
   "outputs": [
    {
     "name": "stdout",
     "output_type": "stream",
     "text": [
      "{'orange', 'green', 'blue'}\n"
     ]
    }
   ],
   "source": [
    "print(colors)"
   ]
  },
  {
   "cell_type": "markdown",
   "id": "50eb2cd2",
   "metadata": {},
   "source": [
    "## Aufgabe 2 - Menge ergänzen\n",
    "\n",
    "- Ergänze deine Menge mit der Liste von Farben `color_list` unten."
   ]
  },
  {
   "cell_type": "code",
   "execution_count": 16,
   "id": "f343c040",
   "metadata": {},
   "outputs": [
    {
     "data": {
      "text/plain": [
       "{'orange', 'pink', 'purple'}"
      ]
     },
     "execution_count": 16,
     "metadata": {},
     "output_type": "execute_result"
    }
   ],
   "source": [
    "color_list = ['pink', 'purple', 'orange']\n",
    "set(color_list)"
   ]
  },
  {
   "cell_type": "code",
   "execution_count": 19,
   "id": "4d09c34e",
   "metadata": {},
   "outputs": [
    {
     "name": "stdout",
     "output_type": "stream",
     "text": [
      "{'blue', 'green', 'orange', 'pink', 'purple'}\n"
     ]
    }
   ],
   "source": [
    "color_mix = colors.union(color_list)\n",
    "print(color_mix)"
   ]
  },
  {
   "cell_type": "markdown",
   "id": "554e9391",
   "metadata": {},
   "source": [
    "## Aufgabe 3 - Gemeinsame Elemente\n",
    "\n",
    "- Finde die gemeinsame Elemente aus dem Schnitt deiner Menge mit `new_colors`."
   ]
  },
  {
   "cell_type": "code",
   "execution_count": 22,
   "id": "fd3cf5ae",
   "metadata": {},
   "outputs": [
    {
     "name": "stdout",
     "output_type": "stream",
     "text": [
      "{'orange', 'blue'}\n"
     ]
    }
   ],
   "source": [
    "new_colors = {'red', 'blue', 'orange'}\n",
    "\n",
    "schnittmenge = color_mix.intersection(new_colors)\n",
    "\n",
    "print(schnittmenge)"
   ]
  },
  {
   "cell_type": "markdown",
   "id": "54d203bc",
   "metadata": {},
   "source": [
    "## Aufgabe 4 - Einzigartige Elemente\n",
    "\n",
    "- Finde die Elemente, die nur in der Menge `colors` und nicht in `new_colors` sind.\n",
    "- Finde die Elemente, die nur in der Menge `new_colors` und nicht in `colors` sind."
   ]
  },
  {
   "cell_type": "code",
   "execution_count": 24,
   "id": "e0adb75b",
   "metadata": {},
   "outputs": [
    {
     "name": "stdout",
     "output_type": "stream",
     "text": [
      "{'green'}\n"
     ]
    }
   ],
   "source": [
    "diffmenge_01 = colors.difference(new_colors)\n",
    "print(diffmenge_01)"
   ]
  },
  {
   "cell_type": "code",
   "execution_count": 26,
   "id": "f570d20f",
   "metadata": {},
   "outputs": [
    {
     "name": "stdout",
     "output_type": "stream",
     "text": [
      "{'red'}\n"
     ]
    }
   ],
   "source": [
    "diffmenge_02 = new_colors.difference(colors)\n",
    "print(diffmenge_02)"
   ]
  },
  {
   "cell_type": "code",
   "execution_count": null,
   "id": "c3fd86f3",
   "metadata": {},
   "outputs": [],
   "source": []
  }
 ],
 "metadata": {
  "kernelspec": {
   "display_name": "Python 3 (ipykernel)",
   "language": "python",
   "name": "python3"
  },
  "language_info": {
   "codemirror_mode": {
    "name": "ipython",
    "version": 3
   },
   "file_extension": ".py",
   "mimetype": "text/x-python",
   "name": "python",
   "nbconvert_exporter": "python",
   "pygments_lexer": "ipython3",
   "version": "3.10.9"
  }
 },
 "nbformat": 4,
 "nbformat_minor": 5
}
