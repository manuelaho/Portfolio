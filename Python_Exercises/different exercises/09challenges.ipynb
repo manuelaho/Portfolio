{
 "cells": [
  {
   "cell_type": "markdown",
   "id": "ec676a86",
   "metadata": {},
   "source": [
    "# Inhaltsverzeichnis \n",
    "\n",
    "- **Challenges**\n",
    "    - **Challenge 1: Liste abflachen**\n",
    "        - **Beispiele:**\n"
   ]
  },
  {
   "cell_type": "markdown",
   "id": "42b35768",
   "metadata": {},
   "source": [
    "# Challenges\n",
    "\n",
    "Einige knifflige Aufgaben zum Knobeln und ausprobieren! \n",
    "\n",
    "## Challenge 1: Liste abflachen\n",
    "\n",
    "Schreibe eine Funktion, die eine beliebige Liste von Listen übergeben bekommt, und als Ergebnis die abgeflachte Liste zurückgibt. Die Liste kann beliebig tief verschachtelt sein.\n",
    "\n",
    "### Beispiele:\n",
    "\n",
    "\\begin{align}\n",
    "f(\\text{[1,2,[1,2,[1,2,3]]])} &\\Longrightarrow [1, 2, 1, 2, 1, 2, 3] \\\\\n",
    "f([1,[1,2]]) &\\Longrightarrow [1,1,2] \\\\\n",
    "f([[[1,2]]]) &\\Longrightarrow [1,2] \\\\\n",
    "\\end{align}\n",
    "\n",
    "\n",
    "> <span style=\"color:blue\"> **_INFO:_** </span> Die Aufgabe lässt sich elegant mit Rekursion lösen."
   ]
  },
  {
   "cell_type": "code",
   "execution_count": 25,
   "id": "dd9bfcee",
   "metadata": {},
   "outputs": [
    {
     "data": {
      "text/plain": [
       "[1, 2, 1, 2, 1, 2, 3]"
      ]
     },
     "execution_count": 25,
     "metadata": {},
     "output_type": "execute_result"
    }
   ],
   "source": [
    "flach_liste = []\n",
    "\n",
    "def abgeflachte_liste(liste):\n",
    "    \n",
    "    for i in range(len(liste)):\n",
    "        if type(liste[i]) == int:\n",
    "            flach_liste.append(liste[i])\n",
    "        \n",
    "        else:\n",
    "            abgeflachte_liste(liste[i])\n",
    "        \n",
    "    return flach_liste\n",
    "        \n",
    "abgeflachte_liste([1,2,[1,2,[1,2,3]]])"
   ]
  },
  {
   "cell_type": "code",
   "execution_count": null,
   "id": "cd66729a",
   "metadata": {},
   "outputs": [],
   "source": []
  }
 ],
 "metadata": {
  "kernelspec": {
   "display_name": "Python 3 (ipykernel)",
   "language": "python",
   "name": "python3"
  },
  "language_info": {
   "codemirror_mode": {
    "name": "ipython",
    "version": 3
   },
   "file_extension": ".py",
   "mimetype": "text/x-python",
   "name": "python",
   "nbconvert_exporter": "python",
   "pygments_lexer": "ipython3",
   "version": "3.10.9"
  }
 },
 "nbformat": 4,
 "nbformat_minor": 5
}
