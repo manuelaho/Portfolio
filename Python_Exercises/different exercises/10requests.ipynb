{
 "cells": [
  {
   "cell_type": "markdown",
   "id": "4d08247b",
   "metadata": {},
   "source": [
    "\n",
    "# Aufgaben zu Requests\n",
    "\n",
    "Gehe auf die Seite https://uselessfacts.jsph.pl/ und versuche zu verstehen, wie die API funktioniert. \n",
    "\n",
    "Gib dazu z.B. URLs direkt im Browser ein und schaue dir das Ergebnis an. "
   ]
  },
  {
   "cell_type": "markdown",
   "id": "4a7a6b67",
   "metadata": {},
   "source": [
    "## Aufgabe 1\n",
    "\n",
    "Schreibe eine Funktion, die einen zufälligen Fakt von der Webseite abfragt. "
   ]
  },
  {
   "cell_type": "code",
   "execution_count": 1,
   "id": "2131842f",
   "metadata": {},
   "outputs": [],
   "source": [
    "import requests\n",
    "from pprint import pprint"
   ]
  },
  {
   "cell_type": "code",
   "execution_count": 2,
   "id": "8e36a67b",
   "metadata": {},
   "outputs": [],
   "source": [
    "def website():\n",
    "    fact = requests.get(\"https://uselessfacts.jsph.pl/api/v2/facts/random\")\n",
    "    \n",
    "    return fact.text"
   ]
  },
  {
   "cell_type": "code",
   "execution_count": 3,
   "id": "7913257c",
   "metadata": {},
   "outputs": [
    {
     "data": {
      "text/plain": [
       "'{\"id\":\"33b08091c6a3d5b87d048cf58522f8fd\",\"text\":\"The site with the highest number of women visitors between the age of 35 and 44 years old: Alka-Seltzer.com\",\"source\":\"djtech.net\",\"source_url\":\"http://www.djtech.net/humor/useless_facts.htm\",\"language\":\"en\",\"permalink\":\"https://uselessfacts.jsph.pl/api/v2/facts/33b08091c6a3d5b87d048cf58522f8fd\"}\\n'"
      ]
     },
     "execution_count": 3,
     "metadata": {},
     "output_type": "execute_result"
    }
   ],
   "source": [
    "website()"
   ]
  },
  {
   "cell_type": "markdown",
   "id": "03a5da7b",
   "metadata": {},
   "source": [
    "## Aufgabe 2\n",
    "\n",
    "Ergänze die Funktion, so dass man über einen Parameter bestimmen kann, ob man *deutsche* oder *englische* Fakten erhalten will."
   ]
  },
  {
   "cell_type": "code",
   "execution_count": 4,
   "id": "87b9da77",
   "metadata": {},
   "outputs": [],
   "source": [
    "def website(language):\n",
    "    \n",
    "    if language == \"de\":\n",
    "        fact = requests.get(\"https://uselessfacts.jsph.pl/api/v2/facts/random?language=de\")\n",
    "        \n",
    "    elif language == \"en\":\n",
    "        fact = requests.get(\"https://uselessfacts.jsph.pl/api/v2/facts/random?language=en\")\n",
    "    \n",
    "    return fact.text"
   ]
  },
  {
   "cell_type": "code",
   "execution_count": 5,
   "id": "691c6379",
   "metadata": {},
   "outputs": [
    {
     "data": {
      "text/plain": [
       "'{\"id\":\"1c81d77be344b4e708ffba77d0385052\",\"text\":\"Die Hälfte aller Piloten ist während des Fliegens schon mal eingenickt.\",\"source\":\"NEON\",\"source_url\":\"http://www.neon.de/artikel/kaufen/produkte/die-haelfte-aller-piloten-ist-waehrend-des-fliegens-schon-mal-eingenickt/1432686\",\"language\":\"de\",\"permalink\":\"https://uselessfacts.jsph.pl/api/v2/facts/1c81d77be344b4e708ffba77d0385052\"}\\n'"
      ]
     },
     "execution_count": 5,
     "metadata": {},
     "output_type": "execute_result"
    }
   ],
   "source": [
    "website(\"de\")"
   ]
  },
  {
   "cell_type": "markdown",
   "id": "bc6ce891",
   "metadata": {},
   "source": [
    "## Aufgabe 3\n",
    "\n",
    "Ergänze die Funktion weiter, so dass nur Antworten kommen, die im JSON-Format sind."
   ]
  },
  {
   "cell_type": "code",
   "execution_count": 6,
   "id": "bcfd3d65",
   "metadata": {},
   "outputs": [],
   "source": [
    "def website(language):\n",
    "    \n",
    "    if language == \"de\":\n",
    "        fact = requests.get(\"https://uselessfacts.jsph.pl/api/v2/facts/random?language=de\")\n",
    "        \n",
    "    elif language == \"en\":\n",
    "        fact = requests.get(\"https://uselessfacts.jsph.pl/api/v2/facts/random?language=en\")\n",
    "    \n",
    "    return fact.json()"
   ]
  },
  {
   "cell_type": "code",
   "execution_count": 7,
   "id": "b6bde078",
   "metadata": {},
   "outputs": [
    {
     "data": {
      "text/plain": [
       "{'id': '581d969d14f78d96b90e94fb98d9c517',\n",
       " 'text': 'Die teuerste App aller Zeiten hieß “I am Rich” und kostete 799 Euro. Sie zeigte lediglich einen roten Diamanten auf dem Display.',\n",
       " 'source': 'NEON',\n",
       " 'source_url': 'http://www.neon.de/artikel/wissen/alltag/die-teuerste-app-aller-zeiten-hiess-i-am-rich-und-kostete-799-euro-sie-zeigte-lediglich-einen-roten-diamanten-auf-dem-display/983835',\n",
       " 'language': 'de',\n",
       " 'permalink': 'https://uselessfacts.jsph.pl/api/v2/facts/581d969d14f78d96b90e94fb98d9c517'}"
      ]
     },
     "execution_count": 7,
     "metadata": {},
     "output_type": "execute_result"
    }
   ],
   "source": [
    "website(\"de\")"
   ]
  },
  {
   "cell_type": "markdown",
   "id": "1e9945aa",
   "metadata": {},
   "source": [
    "________________________________________________________________________________  \n",
    "\n",
    "Benutze im folgenden die [PoetryDB](https://poetrydb.org) um die Aufgaben zu lösen.\n",
    "\n",
    "## Aufgabe 4\n",
    "\n",
    "Wieviel Gedichte hat Emily Dickinson geschrieben?"
   ]
  },
  {
   "cell_type": "code",
   "execution_count": 8,
   "id": "1a951a28",
   "metadata": {},
   "outputs": [],
   "source": [
    "res_poetry01 = requests.get(\"https://poetrydb.org/author/Emily Dickinson/title\")"
   ]
  },
  {
   "cell_type": "code",
   "execution_count": 9,
   "id": "2e74e47a",
   "metadata": {},
   "outputs": [
    {
     "name": "stdout",
     "output_type": "stream",
     "text": [
      " Emily Dickinson hat 362 Gedichte geschrieben!\n"
     ]
    }
   ],
   "source": [
    "gedicht = res_poetry01.json()\n",
    "print(f\" Emily Dickinson hat {len(gedicht)} Gedichte geschrieben!\")"
   ]
  },
  {
   "cell_type": "markdown",
   "id": "76a0694e",
   "metadata": {},
   "source": [
    "## Aufgabe 5\n",
    "\n",
    "Welches Werk Shakespeares enhält die folgenden Zeilen:\n",
    "\n",
    "> *The little Love-god lying once asleep,<br>\n",
    "  Laid by his side his heart-inflaming brand*   "
   ]
  },
  {
   "cell_type": "code",
   "execution_count": 10,
   "id": "85261db9",
   "metadata": {},
   "outputs": [],
   "source": [
    "res_poetry02 = requests.get(\"https://poetrydb.org/author/William Shakespeare\")"
   ]
  },
  {
   "cell_type": "code",
   "execution_count": 11,
   "id": "86a9ba65",
   "metadata": {},
   "outputs": [
    {
     "name": "stdout",
     "output_type": "stream",
     "text": [
      "Sonnet 154: The little Love-god lying once asleep\n"
     ]
    }
   ],
   "source": [
    "werk = res_poetry02.json()\n",
    "\n",
    "zeile01 = \"The little Love-god lying once asleep,\"\n",
    "zeile02 = \"Laid by his side his heart-inflaming brand,\"\n",
    "\n",
    "for i in range(len(werk)):\n",
    "    if zeile01 in werk[i][\"lines\"] and zeile02 in werk[i][\"lines\"]:\n",
    "        print(werk[i][\"title\"])"
   ]
  },
  {
   "cell_type": "code",
   "execution_count": null,
   "id": "4663e7f0",
   "metadata": {},
   "outputs": [],
   "source": []
  }
 ],
 "metadata": {
  "kernelspec": {
   "display_name": "Python 3 (ipykernel)",
   "language": "python",
   "name": "python3"
  },
  "language_info": {
   "codemirror_mode": {
    "name": "ipython",
    "version": 3
   },
   "file_extension": ".py",
   "mimetype": "text/x-python",
   "name": "python",
   "nbconvert_exporter": "python",
   "pygments_lexer": "ipython3",
   "version": "3.10.9"
  }
 },
 "nbformat": 4,
 "nbformat_minor": 5
}
