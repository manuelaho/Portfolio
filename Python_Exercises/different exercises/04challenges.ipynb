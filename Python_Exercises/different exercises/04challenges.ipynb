{
 "cells": [
  {
   "cell_type": "markdown",
   "id": "876a28bf",
   "metadata": {},
   "source": [
    "# Inhaltsverzeichnis \n",
    "\n",
    "- **Challenges**\n",
    "- **Challenge 1: Zirkuläre Primzahlen**\n",
    "- **Challenge 2: Teiler**\n"
   ]
  },
  {
   "cell_type": "markdown",
   "id": "79dc3a78",
   "metadata": {},
   "source": [
    "# Challenges\n",
    "\n",
    "Einige knifflige Aufgaben zum Knobeln und ausprobieren! \n",
    "\n",
    "# Challenge 1: Zirkuläre Primzahlen\n",
    "\n",
    "Eine Zahl ist eine zirkuläre Primzahl, wenn alle \"Rotationen\" der Zahl Primzahlen sind. Z.B. ist die Zahl $719$ eine Primzahl, den 719,197 und 971 sind alles Primzahlen.\n",
    "\n",
    "Wieviele zirkuläre Primzahlen gibt es zwischen 2 und 1000?"
   ]
  },
  {
   "cell_type": "code",
   "execution_count": 1,
   "id": "5f9f2efc",
   "metadata": {},
   "outputs": [
    {
     "data": {
      "text/plain": [
       "{2,\n",
       " 3,\n",
       " 5,\n",
       " 7,\n",
       " 11,\n",
       " 13,\n",
       " 17,\n",
       " 31,\n",
       " 37,\n",
       " 71,\n",
       " 73,\n",
       " 79,\n",
       " 97,\n",
       " 113,\n",
       " 131,\n",
       " 197,\n",
       " 199,\n",
       " 311,\n",
       " 337,\n",
       " 373,\n",
       " 719,\n",
       " 733,\n",
       " 919,\n",
       " 971,\n",
       " 991}"
      ]
     },
     "execution_count": 1,
     "metadata": {},
     "output_type": "execute_result"
    }
   ],
   "source": [
    "def is_prim(x):\n",
    "    for e in range(2,x):\n",
    "        if x%e == 0:\n",
    "            return False\n",
    "    return True\n",
    "\n",
    "def mögliche_zahlen(zahl):\n",
    "    liste_mögl_prim = []\n",
    "    string = str(zahl)\n",
    "    if len(string) == 3:\n",
    "        string01 = string[0] + string[1] + string[2]\n",
    "        liste_mögl_prim.append(int(string01))\n",
    "        string02 = string[1] + string[2] + string[0]\n",
    "        liste_mögl_prim.append(int(string02))\n",
    "        string03 = string[2] + string[0] + string[1]\n",
    "        liste_mögl_prim.append(int(string03))\n",
    "    if len(string) == 2:\n",
    "        string01 = string[0] + string[1]\n",
    "        liste_mögl_prim.append(int(string01))\n",
    "        string02 = string[1] + string[0]\n",
    "        liste_mögl_prim.append(int(string02))\n",
    "    if len(string) == 1:\n",
    "        string01 = string[0]\n",
    "        liste_mögl_prim.append(int(string01))\n",
    "    return liste_mögl_prim\n",
    "\n",
    "def zirkuläre_prim():\n",
    "    \n",
    "    liste_prim = []\n",
    "    \n",
    "    for x in range(2,1000):\n",
    "        liste_zirk = []\n",
    "        if is_prim(x):\n",
    "            liste_zirk = mögliche_zahlen(x)\n",
    "            if len(liste_zirk) == 3:\n",
    "                if is_prim(liste_zirk[0]) and is_prim(liste_zirk[1]) and is_prim(liste_zirk[2]):\n",
    "                    for y in liste_zirk:\n",
    "                        liste_prim.append(y)\n",
    "            if len(liste_zirk) == 2:\n",
    "                if is_prim(liste_zirk[0]) and is_prim(liste_zirk[1]):\n",
    "                    for y in liste_zirk:\n",
    "                        liste_prim.append(y)\n",
    "            if len(liste_zirk) == 1:\n",
    "                if is_prim(liste_zirk[0]):\n",
    "                    for y in liste_zirk:\n",
    "                        liste_prim.append(y)\n",
    "                    \n",
    "    liste_set = set(liste_prim)\n",
    "    return liste_set\n",
    "\n",
    "zirkuläre_prim()"
   ]
  },
  {
   "cell_type": "markdown",
   "id": "35107955",
   "metadata": {},
   "source": [
    "# Challenge 2: Teiler\n",
    "\n",
    "Welche Zahl zwischen $2$ und $1000$ hat die meisten Teiler?"
   ]
  },
  {
   "cell_type": "code",
   "execution_count": 29,
   "id": "c9bf867c",
   "metadata": {},
   "outputs": [
    {
     "data": {
      "text/plain": [
       "840"
      ]
     },
     "execution_count": 29,
     "metadata": {},
     "output_type": "execute_result"
    }
   ],
   "source": [
    "def größtes_element(list):\n",
    "    erstes_element = list[0]\n",
    "    for c in list:\n",
    "        if c > erstes_element:\n",
    "            erstes_element = c\n",
    "    return erstes_element\n",
    "\n",
    "def meister_teiler(zahl):\n",
    "    \n",
    "    dict_zahl_teiler = {}\n",
    "    for a in range(zahl,1,-1):\n",
    "        count = 0\n",
    "        for b in range(1,zahl + 1):\n",
    "            if a % b == 0 and a >= b:\n",
    "                count += 1\n",
    "                dict_zahl_teiler[count] = a\n",
    "        \n",
    "    gr_teiler_liste = list(dict_zahl_teiler.keys())\n",
    "    gr_teiler = größtes_element(gr_teiler_liste)\n",
    "    gr_wert = dict_zahl_teiler[gr_teiler]        \n",
    "    \n",
    "    return gr_wert\n",
    "        \n",
    "meister_teiler(1000)"
   ]
  }
 ],
 "metadata": {
  "kernelspec": {
   "display_name": "Python 3 (ipykernel)",
   "language": "python",
   "name": "python3"
  },
  "language_info": {
   "codemirror_mode": {
    "name": "ipython",
    "version": 3
   },
   "file_extension": ".py",
   "mimetype": "text/x-python",
   "name": "python",
   "nbconvert_exporter": "python",
   "pygments_lexer": "ipython3",
   "version": "3.10.9"
  }
 },
 "nbformat": 4,
 "nbformat_minor": 5
}
