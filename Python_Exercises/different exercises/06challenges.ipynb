{
 "cells": [
  {
   "cell_type": "markdown",
   "id": "90cc3ef1",
   "metadata": {},
   "source": [
    "# Inhaltsverzeichnis \n",
    "\n",
    "- **Challenges**\n",
    "    - **Challenge 1:  Wilsons Formel**\n"
   ]
  },
  {
   "cell_type": "markdown",
   "id": "f787d7e1",
   "metadata": {},
   "source": [
    "# Challenges\n",
    "\n",
    "Einige knifflige Aufgaben zum Knobeln und ausprobieren! \n",
    "\n",
    "## Challenge 1:  Wilsons Formel\n",
    "\n",
    "- [Wilsons Formel](https://en.wikipedia.org/wiki/Formula_for_primes) ist eine exakte mathematische Formel um sich die $n$-te Primzahl auszurechnen. Ein Problem ist, dass sie sehr rechenaufwendig ist. \n",
    "\n",
    "- Implementiere unten stehende Formel von Wilson in einer Pythonfunktion namens `wil(n)`. Diese Funktion berechnet die $n-$te Primzahl. Lass dir die ersten 5 Primzahlen berechnen, d.h. `wil(1),wil(2),wil(3),wil(4),wil(5)`. Prüfe dadurch die implementierte Funktion auf Korrektheit.\n",
    "\n",
    "- In der unten stehenden Funktion bedeutet das Symbol $\\lfloor ... \\rfloor$ abrunden, d.h. z.b. \n",
    "\n",
    "\\begin{align}\n",
    "\\lfloor 3.5 \\rfloor &= 3 \\\\\n",
    "\\lfloor 3.9 \\rfloor &= 3 \\\\\n",
    "\\lfloor 2.1 \\rfloor &= 2 \\\\\n",
    "\\end{align}\n",
    "\n",
    "Beachte, dass in der Formel **zweimal** abgerundet wird. Du kannst dafür die Funktion `floor` aus dem Modul [math](https://docs.python.org/3/library/math.html) verwenden. Außerdem kannst du `cos` und `pi` aus `math` verwenden.\n",
    "\n",
    "**Wilsons Formel:** \n",
    "\\begin{align}\n",
    "p_n = 1 + \\sum_{i=1}^{2^n} \\Bigg\\lfloor \\Bigg( \\frac{n}{\\sum_{j=1}^{i} \\Big\\lfloor \\Big( \\cos \\frac{(j-1)!+1}{j}\\pi  \\Big)^2 \\Big\\rfloor }  \\Bigg)^\\frac{1}{n} \\Bigg\\rfloor\n",
    "\\end{align}\n",
    "\n",
    "**Anmerkung I:**\n",
    "\n",
    "Für diese Aufgabe lohnt es sich, unterschiedliche Funktionen zu definieren, z.b. eine Funktion die den Nenner ausrechnet. Man kann *theoretisch* alles in einer Funktion schreiben, ist aber aufgrund der Komplexität der Aufgabe **nicht** zu empfehlen.\n",
    "\n",
    "**Anmerkung II:**\n",
    "\n",
    "Leider gibt es für höhrere Werte von n, z.b. `wil(10)` Rechenfehler aufgrund der endlichen Genauigkeit von Computern. Lass dich also nicht irritieren, wenn hier *keine* Primzahl als Ergebnis herauskommt. Für $n=1,\\cdots,5$ sollten jedoch die richtigen Werte als Ergebnis herauskommen. "
   ]
  },
  {
   "cell_type": "code",
   "execution_count": 5,
   "id": "68684129",
   "metadata": {},
   "outputs": [],
   "source": [
    "import math as m\n",
    "\n",
    "def fak(j):\n",
    "    if j == 0:\n",
    "        return 1\n",
    "    else:\n",
    "        return j * fak(j - 1)\n",
    "    \n",
    "def nenner(i):\n",
    "    summe = 0\n",
    "    for j in range(1,i + 1):\n",
    "        summe += m.floor((m.cos(((fak(j - 1)) + 1) / j * m.pi))**2)\n",
    "        \n",
    "    return summe\n",
    "\n",
    "\n",
    "def wil(n):\n",
    "    \n",
    "    p_n = 0\n",
    "    \n",
    "    for i in range(1,(2**n) + 1):\n",
    "        \n",
    "        p_n += m.floor((n / nenner(i)) ** (1/n))\n",
    "    \n",
    "    p_n = 1 + p_n\n",
    "    \n",
    "    return p_n\n"
   ]
  },
  {
   "cell_type": "code",
   "execution_count": 8,
   "id": "006920ca",
   "metadata": {},
   "outputs": [
    {
     "name": "stdout",
     "output_type": "stream",
     "text": [
      "2\n",
      "3\n",
      "5\n",
      "7\n",
      "11\n"
     ]
    }
   ],
   "source": [
    "for i in range(1,6):\n",
    "    print(wil(i))"
   ]
  },
  {
   "cell_type": "code",
   "execution_count": null,
   "id": "adc96ce3",
   "metadata": {},
   "outputs": [],
   "source": []
  }
 ],
 "metadata": {
  "kernelspec": {
   "display_name": "Python 3 (ipykernel)",
   "language": "python",
   "name": "python3"
  },
  "language_info": {
   "codemirror_mode": {
    "name": "ipython",
    "version": 3
   },
   "file_extension": ".py",
   "mimetype": "text/x-python",
   "name": "python",
   "nbconvert_exporter": "python",
   "pygments_lexer": "ipython3",
   "version": "3.10.9"
  }
 },
 "nbformat": 4,
 "nbformat_minor": 5
}
