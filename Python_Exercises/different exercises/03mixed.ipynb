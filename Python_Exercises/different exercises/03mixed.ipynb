{
 "cells": [
  {
   "cell_type": "markdown",
   "id": "1aef4254",
   "metadata": {},
   "source": [
    "# Inhaltsverzeichnis \n",
    "\n",
    "- **Übungen Woche 3**\n",
    "    - **Aufgabe 1: Begrüßung**\n",
    "    - **Aufgabe 2: Kehrwert**\n",
    "    - **Aufgabe 3: Positive Zahl**\n",
    "    - **Aufgabe 4: Quadratzahl**\n",
    "    - **Aufgabe 5: Fahrenheit in Celsius umrechnen**\n",
    "    - **Aufgabe 6: Namen mit mehr als 5 Buchstaben**\n",
    "    - **Aufgabe 7: Längere Liste**\n",
    "    - **Aufgabe 8: Größtes Element einer Liste**\n"
   ]
  },
  {
   "cell_type": "markdown",
   "id": "f32dc316",
   "metadata": {},
   "source": [
    "## Aufgabe 1: Begrüßung\n",
    "\n",
    "- Schreibe eine Funktion `say_hello`, die eine Liste von Namen erwartet und dann jeden erhaltenen Namen persönlich begrüßt.\n"
   ]
  },
  {
   "cell_type": "code",
   "execution_count": 1,
   "id": "f3433427",
   "metadata": {},
   "outputs": [
    {
     "name": "stdout",
     "output_type": "stream",
     "text": [
      "Hallo  Fritz !\n",
      "Hallo  Paul !\n",
      "Hallo  Sabrina !\n",
      "Hallo  Sarah !\n",
      "Hallo  Klaus !\n"
     ]
    }
   ],
   "source": [
    "names = [\"Fritz\", \"Paul\", \"Sabrina\", \"Sarah\", \"Klaus\"]\n",
    "\n",
    "def say_hello(names):\n",
    "    for n in names:\n",
    "        print(\"Hallo \", n, \"!\")\n",
    "\n",
    "say_hello(names)"
   ]
  },
  {
   "cell_type": "markdown",
   "id": "3881dce1",
   "metadata": {},
   "source": [
    "## Aufgabe 2: Kehrwert\n",
    "\n",
    "-  Schreibe eine Funktion. die eine Zahl $x$ erwartet und den Kehrwert davon zurück gibt. \n",
    "Der Kehrwert von $x$ ist $\\frac{1}{x}$. \n",
    "- Die Funktion soll `None` zurück geben, wenn $x=0$ ist (Division durch Null nicht definiert).\n",
    "\n",
    "**Beispiel:**\n",
    "\n",
    "\\begin{align}\n",
    "f(1) &\\Longrightarrow 1 \\\\\n",
    "f(2) &\\Longrightarrow 0.5 \\\\\n",
    "f(100) &\\Longrightarrow 0.01 \\\\\n",
    "f(0) &\\Longrightarrow \\text{None} \\\\\n",
    "\\end{align}"
   ]
  },
  {
   "cell_type": "code",
   "execution_count": 2,
   "id": "5b4076e7",
   "metadata": {},
   "outputs": [
    {
     "data": {
      "text/plain": [
       "0.5"
      ]
     },
     "execution_count": 2,
     "metadata": {},
     "output_type": "execute_result"
    }
   ],
   "source": [
    "def kehrwert(x):\n",
    "    if x == 0:\n",
    "        print(None)\n",
    "    else:\n",
    "        return 1 / x\n",
    "\n",
    "kehrwert(2)"
   ]
  },
  {
   "cell_type": "markdown",
   "id": "a8b8d55f",
   "metadata": {},
   "source": [
    "## Aufgabe 3: Positive Zahl\n",
    "\n",
    "- Schreibe eine Funktion `positive(n)`, welche überprüft, ob die übergebene Zahl positiv ist. \n",
    "Falls ja, gibt `True` zurück, ansonsten `False`. <br>\n",
    "\n",
    "- Beispiele:\n",
    "\n",
    "\\begin{align}\n",
    "\\text{positive}(3) &\\Longrightarrow \\text{True} \\\\\n",
    "\\text{positive}(-3)&\\Longrightarrow \\text{False}\n",
    "\\end{align}\n"
   ]
  },
  {
   "cell_type": "code",
   "execution_count": 3,
   "id": "4083bc69",
   "metadata": {},
   "outputs": [
    {
     "data": {
      "text/plain": [
       "True"
      ]
     },
     "execution_count": 3,
     "metadata": {},
     "output_type": "execute_result"
    }
   ],
   "source": [
    "def positiv(zahl):\n",
    "    if zahl >= 0:\n",
    "        return True\n",
    "    else:\n",
    "        return False\n",
    "\n",
    "positiv(5)"
   ]
  },
  {
   "cell_type": "markdown",
   "id": "2d54652a",
   "metadata": {},
   "source": [
    "## Aufgabe 4: Quadratzahl\n",
    "\n",
    "- Schreibe eine Funktion `quadrat`, die eine Zahl $n$ erhält und einen Boolean zurückliefert, welcher aussagt, ob $n$ eine Quadratzahl ist. \n",
    "- D.h., ob es eine ganze Zahl $x$ gibt, sodass $x^2=n$.\n",
    "\n",
    "**Beispiele:**\n",
    "\n",
    "\\begin{align}\n",
    "\\text{quadrat}(15) \\Longrightarrow \\text{False} \\\\ \n",
    "\\text{quadrat}(16) \\Longrightarrow \\text{True} \\\\\n",
    "\\text{quadrat}(4) \\Longrightarrow \\text{True}\n",
    "\\end{align}\n",
    "\n",
    "- Benutze diese Funktion (`quadrat`), um dir alle Quadratzahlen zwischen $1$ und $100$ ausgeben zu lassen. \n"
   ]
  },
  {
   "cell_type": "code",
   "execution_count": 1,
   "id": "747e05b1",
   "metadata": {},
   "outputs": [
    {
     "name": "stdout",
     "output_type": "stream",
     "text": [
      "1 ist eine Quadratzahl\n",
      "4 ist eine Quadratzahl\n",
      "9 ist eine Quadratzahl\n",
      "16 ist eine Quadratzahl\n",
      "25 ist eine Quadratzahl\n",
      "36 ist eine Quadratzahl\n",
      "49 ist eine Quadratzahl\n",
      "64 ist eine Quadratzahl\n",
      "81 ist eine Quadratzahl\n",
      "100 ist eine Quadratzahl\n"
     ]
    }
   ],
   "source": [
    "def quadrat(zahl):\n",
    "    for i in range(1, zahl + 1):\n",
    "        \n",
    "        if (i ** 0.5) % 1 == 0:                           \n",
    "            print(i, \"ist eine Quadratzahl\")                       \n",
    "\n",
    "quadrat(100)"
   ]
  },
  {
   "cell_type": "markdown",
   "id": "057df6e6",
   "metadata": {},
   "source": [
    "## Aufgabe 5: Fahrenheit in Celsius umrechnen\n",
    "\n",
    "- Schreibe eine Funktion, die Temperaturen in verschiedene Skalen umwandelt. Die Funktion erwartet eine Temperatur in Fahrenheit und gibt die Temperatur in  Celsius zurück. \n",
    "Die Formel hierfür lautet <br>\n",
    "\n",
    "\\begin{align}\n",
    "\\text{Celsius} = \\frac{5}{9} * (\\text{Fahrenheit} -32)\n",
    "\\end{align}"
   ]
  },
  {
   "cell_type": "code",
   "execution_count": 2,
   "id": "b87c2e1c",
   "metadata": {},
   "outputs": [
    {
     "data": {
      "text/plain": [
       "26.666666666666668"
      ]
     },
     "execution_count": 2,
     "metadata": {},
     "output_type": "execute_result"
    }
   ],
   "source": [
    "def celsius(fahrenheit):\n",
    "    return (5/9) * (fahrenheit - 32)\n",
    "\n",
    "celsius(80)"
   ]
  },
  {
   "cell_type": "markdown",
   "id": "8d2d7c05",
   "metadata": {},
   "source": [
    "## Aufgabe 6: Namen mit mehr als 5 Buchstaben\n",
    "\n",
    "- Schreibe eine Funktion, die eine Liste von Namen enthält und die Anzahl an Namen zurück gibt, welche mehr als 5 Buchstaben haben. \n",
    "\n",
    "**Beispiel:** \n",
    "\n",
    "\\begin{align}\n",
    "f([\\text{\"Paul\"},\\text{\"Tom\"},\\text{\"Sabrina\"},\\text{\"Johanna\"}]) \\Longrightarrow 2\n",
    "\\end{align}\n"
   ]
  },
  {
   "cell_type": "code",
   "execution_count": 3,
   "id": "ea348ebd",
   "metadata": {},
   "outputs": [
    {
     "data": {
      "text/plain": [
       "3"
      ]
     },
     "execution_count": 3,
     "metadata": {},
     "output_type": "execute_result"
    }
   ],
   "source": [
    "list_names = [\"Dietmar\", \"Eva\", \"Manuela\", \"Alex\", \"Birgit\", \"Sepp\"]\n",
    "\n",
    "def anzahl_names(namen):\n",
    "    anzahl = 0\n",
    "    for i in namen:\n",
    "        if len(i) > 5:\n",
    "            anzahl += 1\n",
    "    return anzahl\n",
    "    \n",
    "anzahl_names(list_names)"
   ]
  },
  {
   "cell_type": "markdown",
   "id": "2d79a43b",
   "metadata": {},
   "source": [
    "## Aufgabe 7: Längere Liste\n",
    "\n",
    "- Schreibe eine Funktion, die zwei Listen als Argumente erwartet und die längere der beiden Listen zurück gibt.\n",
    "\n",
    "**Beispiele:** \n",
    "\n",
    "\\begin{align}\n",
    "f([1,2,3],[2,4]) &\\Longrightarrow [1,2,3] \\\\\n",
    "f([0,0,0],[1,1,1,1]) &\\Longrightarrow [1,1,1,1] \\\\\n",
    "\\end{align}"
   ]
  },
  {
   "cell_type": "code",
   "execution_count": 4,
   "id": "c46998b2",
   "metadata": {},
   "outputs": [
    {
     "data": {
      "text/plain": [
       "[1, 2, 3, 4, 5]"
      ]
     },
     "execution_count": 4,
     "metadata": {},
     "output_type": "execute_result"
    }
   ],
   "source": [
    "list01 = [1, 2, 3, 4, 5]\n",
    "list02 = [4, 5, 6]\n",
    "\n",
    "def länger(liste01, liste02):\n",
    "    if len(liste01) < len(liste02):\n",
    "        return liste02\n",
    "    elif len(liste01) > len(liste02):\n",
    "        return liste01\n",
    "    else:\n",
    "        print(\"Die beiden Listen sind gleich lang!\")\n",
    "        \n",
    "länger(list01, list02)   "
   ]
  },
  {
   "cell_type": "markdown",
   "id": "40984e16",
   "metadata": {},
   "source": [
    "## Aufgabe 8: Größtes Element einer Liste\n",
    "\n",
    "- Finde das größte Element in der folgenden Liste mittels einer `for`-Schleife.\n",
    "- Die Pythonmethode `max` ist in diesem Fall **nicht** erlaubt!"
   ]
  },
  {
   "cell_type": "code",
   "execution_count": 5,
   "id": "0f8929e6",
   "metadata": {},
   "outputs": [
    {
     "name": "stdout",
     "output_type": "stream",
     "text": [
      "Das größte Element der Liste [10, 28, 1, 3, 5, 18]  ist 28 !\n"
     ]
    }
   ],
   "source": [
    "my_list = [10, 28, 1, 3, 5, 18]\n",
    "\n",
    "max_element = 0\n",
    "\n",
    "for i in my_list:\n",
    "    if i > max_element:\n",
    "        max_element = i\n",
    "\n",
    "print(\"Das größte Element der Liste\", my_list, \" ist\", max_element, \"!\")"
   ]
  }
 ],
 "metadata": {
  "kernelspec": {
   "display_name": "Python 3 (ipykernel)",
   "language": "python",
   "name": "python3"
  },
  "language_info": {
   "codemirror_mode": {
    "name": "ipython",
    "version": 3
   },
   "file_extension": ".py",
   "mimetype": "text/x-python",
   "name": "python",
   "nbconvert_exporter": "python",
   "pygments_lexer": "ipython3",
   "version": "3.10.9"
  }
 },
 "nbformat": 4,
 "nbformat_minor": 5
}
