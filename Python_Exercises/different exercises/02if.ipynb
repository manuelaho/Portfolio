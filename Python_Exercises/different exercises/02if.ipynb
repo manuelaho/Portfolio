{
 "cells": [
  {
   "cell_type": "markdown",
   "id": "7e7fccd0",
   "metadata": {},
   "source": [
    "# Inhaltsverzeichnis \n",
    "\n",
    "- **`If` Aufgaben**\n",
    "    - **Aufgabe 1: Größere Zahl**\n",
    "    - **Aufgabe 2: Stringoperation I**\n",
    "    - **Aufgabe 3: Stringoperation II**\n",
    "    - **Aufgabe 4: Stringoperation III**\n",
    "    - **Aufgabe 5: Gerade Zahl**\n",
    "    - **Aufgabe 6: Palindrom**\n",
    "    - **Aufgabe 7: Summe einer Liste**\n"
   ]
  },
  {
   "cell_type": "markdown",
   "id": "9b8c9e34",
   "metadata": {},
   "source": [
    "# `If` Aufgaben\n",
    "\n",
    "## Aufgabe 1: Größere Zahl\n",
    "\n",
    "- So wie die Zelle unten steht, lassen sich zwei Zahlen eingeben. Finde heraus, welches die größere Zahl ist und gib sie mittels `print()` aus."
   ]
  },
  {
   "cell_type": "code",
   "execution_count": 1,
   "id": "2b41f80e",
   "metadata": {},
   "outputs": [
    {
     "name": "stdout",
     "output_type": "stream",
     "text": [
      "Number 1: 9\n",
      "Number 2: 4\n",
      "9 ist die größere Zahl!\n"
     ]
    }
   ],
   "source": [
    "zahl_1 = int(input(\"Number 1: \"))\n",
    "zahl_2 = int(input(\"Number 2: \"))\n",
    "\n",
    "if zahl_1 > zahl_2:\n",
    "    print(zahl_1, \"ist die größere Zahl!\")\n",
    "\n",
    "else:\n",
    "    print(zahl_2, \"ist die größere Zahl!\")"
   ]
  },
  {
   "cell_type": "code",
   "execution_count": 2,
   "id": "4cf655d6",
   "metadata": {},
   "outputs": [
    {
     "name": "stdout",
     "output_type": "stream",
     "text": [
      "Number 1: 3\n",
      "Number 2: 8\n",
      "8 ist die größere Zahl!\n"
     ]
    }
   ],
   "source": [
    "zahl_1 = int(input(\"Number 1: \"))\n",
    "zahl_2 = int(input(\"Number 2: \"))\n",
    "\n",
    "if zahl_1 > zahl_2:\n",
    "    print(zahl_1, \"ist die größere Zahl!\")\n",
    "\n",
    "else:\n",
    "    print(zahl_2, \"ist die größere Zahl!\")"
   ]
  },
  {
   "cell_type": "markdown",
   "id": "f8260357",
   "metadata": {},
   "source": [
    "## Aufgabe 2: Stringoperation I\n",
    "\n",
    "- Lasse über `input` einen Namen eingeben. Teile mit, ob dieser Name ein \"A\" _oder_ \"a\" enthält. Du kannst dafür den Operator `in` verwenden."
   ]
  },
  {
   "cell_type": "code",
   "execution_count": 5,
   "id": "22bfa2f2",
   "metadata": {},
   "outputs": [
    {
     "name": "stdout",
     "output_type": "stream",
     "text": [
      "Gib einen Namen ein: Manuela\n",
      "Manuela enthält ein 'A' oder 'a'!\n"
     ]
    }
   ],
   "source": [
    "name = input(\"Gib einen Namen ein: \")\n",
    "\n",
    "if \"A\" in name or  \"a\" in name :\n",
    "    print(name, \"enthält ein 'A' oder 'a'!\")\n",
    "\n",
    "else:\n",
    "    print(name, \"enthält kein 'A' oder 'a'!\")"
   ]
  },
  {
   "cell_type": "code",
   "execution_count": 6,
   "id": "b0220f1b",
   "metadata": {},
   "outputs": [
    {
     "name": "stdout",
     "output_type": "stream",
     "text": [
      "Gib einen Namen ein: Simon\n",
      "Simon enthält kein 'A' oder 'a'!\n"
     ]
    }
   ],
   "source": [
    "name = input(\"Gib einen Namen ein: \")\n",
    "\n",
    "if \"A\" in name or  \"a\" in name :\n",
    "    print(name, \"enthält ein 'A' oder 'a'!\")\n",
    "\n",
    "else:\n",
    "    print(name, \"enthält kein 'A' oder 'a'!\")"
   ]
  },
  {
   "cell_type": "markdown",
   "id": "307970d4",
   "metadata": {},
   "source": [
    "## Aufgabe 3: Stringoperation II\n",
    "\n",
    "- Lasse wieder einen Namen eingeben. Teile dem User mit, ob dieser Name mehr als 5 Zeichen enthält."
   ]
  },
  {
   "cell_type": "code",
   "execution_count": 29,
   "id": "b2ea5921",
   "metadata": {},
   "outputs": [
    {
     "name": "stdout",
     "output_type": "stream",
     "text": [
      "Gib einen Namen ein: Manuela\n",
      "Manuela enthält mehr als fünf Zeichen\n"
     ]
    }
   ],
   "source": [
    "name = input(\"Gib einen Namen ein: \")                            \n",
    "\n",
    "if len(name) > 5:\n",
    "    print(name, \"enthält mehr als fünf Zeichen\")\n",
    "\n",
    "else:\n",
    "    print(name, \"enthält nicht mehr als fünf Zeichen\")"
   ]
  },
  {
   "cell_type": "code",
   "execution_count": 30,
   "id": "7ed98ded",
   "metadata": {},
   "outputs": [
    {
     "name": "stdout",
     "output_type": "stream",
     "text": [
      "Gib einen Namen ein: Lisi\n",
      "Lisi enthält nicht mehr als fünf Zeichen\n"
     ]
    }
   ],
   "source": [
    "name = input(\"Gib einen Namen ein: \")\n",
    "\n",
    "if len(name) > 5:\n",
    "    print(name, \"enthält mehr als fünf Zeichen\")\n",
    "\n",
    "else:\n",
    "    print(name, \"enthält nicht mehr als fünf Zeichen\")"
   ]
  },
  {
   "cell_type": "markdown",
   "id": "2062c5cc",
   "metadata": {},
   "source": [
    "## Aufgabe 4: Stringoperation III\n",
    "\n",
    "- Lasse den Nutzer seinen Vor- *und* Nachnamen eingeben. Gib eine Fehlermeldung aus, wenn er weniger *oder* mehr als 2 Wörter eingegeben hat. ( *Eine* Möglichkeit dies zu checken, ist zu überprüfen, ob der eingegebene String *exakt* ein Leerzeichen enthält. Es gibt jedoch natürlich auch noch andere Möglichkeiten diese Aufgabe zu lösen.)"
   ]
  },
  {
   "cell_type": "code",
   "execution_count": 9,
   "id": "1f4848d8",
   "metadata": {},
   "outputs": [
    {
     "name": "stdout",
     "output_type": "stream",
     "text": [
      "Gib deinen Vor-und Nachnamen getrennt durch ein Leerzeichen ein: Manuela\n",
      "Du hast 1 Wort/Wörter eingegeben, gib deinen Namen getrennt durch ein Leerzeichen ein!\n"
     ]
    }
   ],
   "source": [
    "name = input(\"Gib deinen Vor-und Nachnamen getrennt durch ein Leerzeichen ein: \")\n",
    "\n",
    "if len(name.split(\" \")) < 2 or len(name.split(\" \")) > 2:\n",
    "    print(\"Du hast\", len(name.split(\" \")), \"Wort/Wörter eingegeben, gib deinen Namen getrennt durch ein Leerzeichen ein!\" )\n",
    "    \n",
    "else:\n",
    "    print(\"Du hast deinen Namen korrekt eingegeben!\")"
   ]
  },
  {
   "cell_type": "code",
   "execution_count": 10,
   "id": "969ff28e",
   "metadata": {},
   "outputs": [
    {
     "name": "stdout",
     "output_type": "stream",
     "text": [
      "Gib deinen Vor-und Nachnamen getrennt durch ein Leerzeichen ein: Manuela Holzner\n",
      "Du hast deinen Namen korrekt eingegeben!\n"
     ]
    }
   ],
   "source": [
    "name = input(\"Gib deinen Vor-und Nachnamen getrennt durch ein Leerzeichen ein: \")\n",
    "\n",
    "if len(name.split(\" \")) < 2 or len(name.split(\" \")) > 2:\n",
    "    print(\"Du hast\", len(name.split(\" \")), \"Wort/Wörter eingegeben, gib deinen Namen getrennt durch ein Leerzeichen ein!\" )\n",
    "    \n",
    "else:\n",
    "    print(\"Du hast deinen Namen korrekt eingegeben!\")"
   ]
  },
  {
   "cell_type": "markdown",
   "id": "2eec413a",
   "metadata": {},
   "source": [
    "## Aufgabe 5: Gerade Zahl\n",
    "\n",
    "- Lasse eine Zahl eingeben. Gib auf der Konsole `True` aus, wenn die Zahl gerade und positiv ist, und `False` in allen anderen Fällen."
   ]
  },
  {
   "cell_type": "code",
   "execution_count": 23,
   "id": "c53f3f22",
   "metadata": {},
   "outputs": [
    {
     "name": "stdout",
     "output_type": "stream",
     "text": [
      "Gib eine Zahl ein: 8\n",
      "True\n"
     ]
    }
   ],
   "source": [
    "zahl = input(\"Gib eine Zahl ein: \")\n",
    "\n",
    "if not int(zahl) % 2 and int(zahl) > 0:\n",
    "    print(\"True\")\n",
    "\n",
    "else:\n",
    "    print(\"False\")"
   ]
  },
  {
   "cell_type": "code",
   "execution_count": 24,
   "id": "aaf26a7c",
   "metadata": {},
   "outputs": [
    {
     "name": "stdout",
     "output_type": "stream",
     "text": [
      "Gib eine Zahl ein: 9\n",
      "False\n"
     ]
    }
   ],
   "source": [
    "zahl = input(\"Gib eine Zahl ein: \")\n",
    "\n",
    "if not int(zahl) % 2 and int(zahl) > 0:\n",
    "    print(\"True\")\n",
    "\n",
    "else:\n",
    "    print(\"False\")"
   ]
  },
  {
   "cell_type": "markdown",
   "id": "c922b7cc",
   "metadata": {},
   "source": [
    "## Aufgabe 6: Palindrom\n",
    "\n",
    "- Lasse ein beliebiges Wort eingeben. Ist dieses Wort ein Palindrom? Ein Palindrom ist ein Wort, welches sich rückwärts liest *wie* vorwärts, z.B. \"anna\". (Verwende dafür Stringslicing. Wie kann man sich ein Wort rückwärts ausgeben lassen?)"
   ]
  },
  {
   "cell_type": "code",
   "execution_count": 27,
   "id": "1aea09cf",
   "metadata": {},
   "outputs": [
    {
     "name": "stdout",
     "output_type": "stream",
     "text": [
      "Gib ein Wort ein: Manuela\n",
      "Manuela ist kein Palindrom\n",
      "Das Wort lautet rückwärts:  aleunaM\n"
     ]
    }
   ],
   "source": [
    "wort = input(\"Gib ein Wort ein: \")\n",
    "\n",
    "if wort[::-1].lower() == wort.lower():\n",
    "    print(wort, \"ist ein Palindrom\")\n",
    "\n",
    "else:\n",
    "    print(wort, \"ist kein Palindrom\")\n",
    "\n",
    "print(\"Das Wort lautet rückwärts: \", wort[::-1])"
   ]
  },
  {
   "cell_type": "code",
   "execution_count": 28,
   "id": "4c8c6ea0",
   "metadata": {},
   "outputs": [
    {
     "name": "stdout",
     "output_type": "stream",
     "text": [
      "Gib ein Wort ein: Anna\n",
      "Anna ist ein Palindrom\n",
      "Das Wort lautet rückwärts:  Anna\n"
     ]
    }
   ],
   "source": [
    "wort = input(\"Gib ein Wort ein: \")\n",
    "\n",
    "if wort[::-1].lower() == wort.lower():\n",
    "    print(wort, \"ist ein Palindrom\")\n",
    "\n",
    "else:\n",
    "    print(wort, \"ist kein Palindrom\")\n",
    "\n",
    "print(\"Das Wort lautet rückwärts: \", wort)"
   ]
  },
  {
   "cell_type": "markdown",
   "id": "9b672dbe",
   "metadata": {},
   "source": [
    "## Aufgabe 7: Summe einer Liste \n",
    "\n",
    "Ist die Summe der Elemente der Liste `l` größer als 400? (Benutze hierfür die [`sum`](https://docs.python.org/3/library/functions.html#sum)-Funktion in Python. `sum(a)` liefert die Summe _aller_ Elemente einer Liste `a`.)"
   ]
  },
  {
   "cell_type": "code",
   "execution_count": 20,
   "id": "037290b0",
   "metadata": {},
   "outputs": [
    {
     "name": "stdout",
     "output_type": "stream",
     "text": [
      "Die Summe der Elemente der Liste l ist nicht größer als 400!\n"
     ]
    }
   ],
   "source": [
    "l=list(range(2,50,3))\n",
    "\n",
    "if sum(l) > 400:\n",
    "    print(\"Die Summe der Elemente der Liste l ist größer als 400!\")\n",
    "\n",
    "else:\n",
    "    print(\"Die Summe der Elemente der Liste l ist nicht größer als 400!\")"
   ]
  },
  {
   "cell_type": "code",
   "execution_count": 22,
   "id": "2fa749ba",
   "metadata": {},
   "outputs": [
    {
     "name": "stdout",
     "output_type": "stream",
     "text": [
      "392\n"
     ]
    }
   ],
   "source": [
    "print(sum(l))"
   ]
  },
  {
   "cell_type": "code",
   "execution_count": null,
   "id": "6c265df0",
   "metadata": {},
   "outputs": [],
   "source": []
  }
 ],
 "metadata": {
  "kernelspec": {
   "display_name": "Python 3 (ipykernel)",
   "language": "python",
   "name": "python3"
  },
  "language_info": {
   "codemirror_mode": {
    "name": "ipython",
    "version": 3
   },
   "file_extension": ".py",
   "mimetype": "text/x-python",
   "name": "python",
   "nbconvert_exporter": "python",
   "pygments_lexer": "ipython3",
   "version": "3.10.9"
  }
 },
 "nbformat": 4,
 "nbformat_minor": 5
}
