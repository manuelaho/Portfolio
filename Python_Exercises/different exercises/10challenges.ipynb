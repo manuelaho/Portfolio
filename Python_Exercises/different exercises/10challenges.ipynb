{
 "cells": [
  {
   "cell_type": "markdown",
   "id": "f4e3193a",
   "metadata": {},
   "source": [
    "# Inhaltsverzeichnis \n",
    "\n",
    "- **Challenges**\n",
    "    - **Challenge 1: Binärzahl**\n"
   ]
  },
  {
   "cell_type": "markdown",
   "id": "b7c7d06d",
   "metadata": {},
   "source": [
    "# Challenges\n",
    "\n",
    "Einige knifflige Aufgaben zum Knobeln und ausprobieren! \n",
    "\n",
    "## Challenge 1: Binärzahl\n",
    "\n",
    "Um eine Dezimalzahl in eine Binärzahl umzurechnen, teilt man die Dezimalzahl solange durch 2, bis bei der ganzzahligen Division $0$ als Ergebnis herauskommt. Wenn das erreicht ist, gibt man sich die Reste der Divisionen in umgekehrter Reihenfolge aus.\n",
    "\n",
    "\n",
    "**Beispiel:** \n",
    "\n",
    "\\begin{align}\n",
    "\\textbf{10} \\, / \\, 2 &= 5 \\quad Rest \\, 0 \\\\\n",
    "5 \\, / \\, 2  &= 2 \\quad Rest \\, 1 \\\\\n",
    "2 \\, / \\, 2  &= 1 \\quad Rest \\, 0 \\\\\n",
    "1 \\, / \\, 2  &= \\textbf{0} \\quad Rest \\, 1\n",
    "\\end{align}\n",
    "\n",
    "Die Reste der Operationen in umgekehrter Reihenfolge lauten: 1010. \n",
    "Das bedeutet, die Binärdarstellung der Dezimalzahl $10_{10}$ ist $1010_2$. (Der Index soll hier signalisieren in welchem Zahlensystem die Zahl repräsentiert wird.)\n",
    "\n",
    "- Schreibe eine Funktion, die eine beliebige positive Dezimalzahl in ihre Binärdarstellung umwandeln kann.\n",
    "\n",
    "**Beispiel:**\n",
    "\\begin{align}\n",
    "f(10) &\\Longrightarrow 1010 \\\\\n",
    "f(5) &\\Longrightarrow 101 \n",
    "\\end{align}"
   ]
  },
  {
   "cell_type": "code",
   "execution_count": 33,
   "id": "a6583e4f",
   "metadata": {},
   "outputs": [
    {
     "data": {
      "text/plain": [
       "'1010'"
      ]
     },
     "execution_count": 33,
     "metadata": {},
     "output_type": "execute_result"
    }
   ],
   "source": [
    "def binaerzahl(zahl):\n",
    "    \n",
    "    ergebnis = \"\"\n",
    "    \n",
    "    while zahl > 0:\n",
    "        ergebnis = str(zahl % 2) + ergebnis\n",
    "        zahl //= 2\n",
    "    \n",
    "    return ergebnis \n",
    "        \n",
    "binaerzahl(10)"
   ]
  },
  {
   "cell_type": "code",
   "execution_count": 1,
   "id": "71448e6d",
   "metadata": {},
   "outputs": [
    {
     "data": {
      "text/plain": [
       "'1010'"
      ]
     },
     "execution_count": 1,
     "metadata": {},
     "output_type": "execute_result"
    }
   ],
   "source": [
    "def binär_umwandel(x):\n",
    "    \n",
    "    binar = \"\"\n",
    "    \n",
    "    while x > 0:\n",
    "        \n",
    "        if x % 2 == 0:\n",
    "            x = x / 2\n",
    "            binar += \"0\"\n",
    "            \n",
    "        elif x % 2 != 0:\n",
    "            x = x // 2\n",
    "            binar += \"1\"\n",
    "       \n",
    "    return binar[::-1]\n",
    "            \n",
    "binär_umwandel(10)"
   ]
  },
  {
   "cell_type": "code",
   "execution_count": null,
   "id": "00e377b6",
   "metadata": {},
   "outputs": [],
   "source": []
  }
 ],
 "metadata": {
  "kernelspec": {
   "display_name": "Python 3 (ipykernel)",
   "language": "python",
   "name": "python3"
  },
  "language_info": {
   "codemirror_mode": {
    "name": "ipython",
    "version": 3
   },
   "file_extension": ".py",
   "mimetype": "text/x-python",
   "name": "python",
   "nbconvert_exporter": "python",
   "pygments_lexer": "ipython3",
   "version": "3.10.9"
  }
 },
 "nbformat": 4,
 "nbformat_minor": 5
}
