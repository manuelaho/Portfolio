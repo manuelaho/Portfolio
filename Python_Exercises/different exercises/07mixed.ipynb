{
 "cells": [
  {
   "cell_type": "markdown",
   "id": "c000e1d2",
   "metadata": {},
   "source": [
    "# Inhaltsverzeichnis \n",
    "\n",
    "- **Übungen Woche 7**\n",
    "    - **Aufgabe 1: Wörterbuch erzeugen**\n",
    "    - **Aufgabe 2: Zahlen addieren**\n",
    "    - **Aufgabe 3: Alternierende Summe**\n",
    "    - **Aufgabe 4: Gemeinsame Elemente**\n",
    "    - **Aufgabe 5: Kombinationen**\n",
    "    - **Aufgabe 6: Permutationen**\n",
    "    - **Aufgabe 7: 2 neben 2**\n",
    "    - **Aufgabe 8: Eulersche Zahl**\n",
    "    - **Aufgabe 9: Schaltjahr**\n"
   ]
  },
  {
   "cell_type": "markdown",
   "id": "bdc7f4e4",
   "metadata": {},
   "source": [
    "## Aufgabe 1: Wörterbuch erzeugen\n",
    "\n",
    "Schreibe eine Funktion, die eine ganze Zahl $n$ als Argument erwartet. Es soll nun ein Wörterbuch mit den Schlüssel-Wert Paaren <br>\n",
    "\n",
    "\\begin{align}\n",
    "(i,i^2)\n",
    "\\end{align}\n",
    "\n",
    "zurückgegeben werden.\n",
    "\n",
    "**Beispiele:**\n",
    "\n",
    "\\begin{align}\n",
    "f(2) &\\Longrightarrow \\{ 1:1,2:4 \\} \\\\\n",
    "f(3) &\\Longrightarrow \\{ 1:1,2:4, 3:9\\} \\\\\n",
    "\\end{align}"
   ]
  },
  {
   "cell_type": "code",
   "execution_count": 1,
   "id": "5bb85530",
   "metadata": {},
   "outputs": [
    {
     "data": {
      "text/plain": [
       "{1: 1, 2: 4, 3: 9}"
      ]
     },
     "execution_count": 1,
     "metadata": {},
     "output_type": "execute_result"
    }
   ],
   "source": [
    "def dict_erzeugen(n):\n",
    "    \n",
    "    dict_keys = []\n",
    "    dict_values = []\n",
    "    n_dict = {}\n",
    "    \n",
    "    for i in range(1, n+1):\n",
    "        dict_keys.append(i)\n",
    "        dict_values.append(i **2)\n",
    "    \n",
    "    n_dict = dict(zip(dict_keys,dict_values))\n",
    "    return n_dict\n",
    " \n",
    "dict_erzeugen(3)"
   ]
  },
  {
   "cell_type": "markdown",
   "id": "d6cbf4b0",
   "metadata": {},
   "source": [
    "## Aufgabe 2: Zahlen addieren\n",
    "\n",
    "Schreibe eine Funktion, die eine ganze Zahl $n$ als Argument erwartet. Die Funktion soll dann das Ergebnis von \n",
    "\n",
    "\\begin{align}\n",
    "n+nn+nnn+nnnn+nnnnn\n",
    "\\end{align}\n",
    "zurückliefern.\n",
    "\n",
    "**Beispiele:**\n",
    "\n",
    "\\begin{align}\n",
    "f(1) &\\Longrightarrow 12345   \\quad ( 1+11+111+1111+11111) \\\\\n",
    "f(3) &\\Longrightarrow 37035   \\quad ( 3+33+333+3333+33333) \\\\\n",
    "\\end{align}"
   ]
  },
  {
   "cell_type": "code",
   "execution_count": 2,
   "id": "52897228",
   "metadata": {},
   "outputs": [
    {
     "data": {
      "text/plain": [
       "37035"
      ]
     },
     "execution_count": 2,
     "metadata": {},
     "output_type": "execute_result"
    }
   ],
   "source": [
    "def n_addieren(n):\n",
    "    \n",
    "    zahl = 0\n",
    "    for i in range(1, 6):\n",
    "        zahl += int(i * str(n))\n",
    "    \n",
    "    return zahl\n",
    "        \n",
    "n_addieren(3)"
   ]
  },
  {
   "cell_type": "markdown",
   "id": "ec9a3d97",
   "metadata": {},
   "source": [
    "## Aufgabe 3: Alternierende Summe \n",
    "\n",
    "- Schreibe eine Funktion, die eine ganze Zahl $n$ als Arugment erwartet und die Summe \n",
    "\n",
    "\\begin{align}\n",
    "1 - 2 + 3 - 4  + ... \\pm n \n",
    "\\end{align}\n",
    "berechnet. \n",
    "\n",
    "**Beispiele:**\n",
    "\n",
    "\\begin{align}\n",
    "f(3) &\\Longrightarrow 2 \\quad ( 1 - 2 + 3) \\\\\n",
    "f(4) &\\Longrightarrow -2 \\quad ( 1 - 2 + 3 - 4)\n",
    "\\end{align}"
   ]
  },
  {
   "cell_type": "code",
   "execution_count": 3,
   "id": "08424666",
   "metadata": {},
   "outputs": [
    {
     "data": {
      "text/plain": [
       "-2"
      ]
     },
     "execution_count": 3,
     "metadata": {},
     "output_type": "execute_result"
    }
   ],
   "source": [
    "def n_addieren(n):\n",
    "    \n",
    "    zahl = 0\n",
    "    for i in range(1, n+1):\n",
    "        \n",
    "        if i%2 == 0:\n",
    "            zahl -= i\n",
    "            \n",
    "        else:\n",
    "            zahl += i\n",
    "            \n",
    "    return zahl    \n",
    "\n",
    "n_addieren(4)"
   ]
  },
  {
   "cell_type": "markdown",
   "id": "48f58083",
   "metadata": {},
   "source": [
    "## Aufgabe 4: Gemeinsame Elemente\n",
    "\n",
    "- Schreibe eine Funktion die zwei Listen `L1` und `L2` erwartet. Gib eine Liste zurück, die alle Elemente enthält die *sowohl* in `L1` *als auch* in `L2` sind.\n",
    "\n",
    "**Beispiele:**\n",
    "\n",
    "\\begin{align}\n",
    "f([1,2,3],[1,2,4]) &\\Longrightarrow [1,2] \\\\\n",
    "f([5,5,4],[5,10,12] &\\Longrightarrow [5] \\\\\n",
    "f([1,2,3],[4,5,6] &\\Longrightarrow [] \\\\\n",
    "\\end{align}"
   ]
  },
  {
   "cell_type": "code",
   "execution_count": 4,
   "id": "5727340a",
   "metadata": {},
   "outputs": [
    {
     "data": {
      "text/plain": [
       "[5]"
      ]
     },
     "execution_count": 4,
     "metadata": {},
     "output_type": "execute_result"
    }
   ],
   "source": [
    "def gemeinsame_elemente(l1, l2):\n",
    "    \n",
    "    neue_liste = []\n",
    "    \n",
    "    for i in l1:\n",
    "        if i in l2 and not i in neue_liste:\n",
    "                neue_liste.append(i)\n",
    "      \n",
    "    return neue_liste\n",
    "            \n",
    "x = [5, 5, 4]\n",
    "y = [5, 10, 12]  \n",
    "\n",
    "gemeinsame_elemente(x, y)"
   ]
  },
  {
   "cell_type": "markdown",
   "id": "1a79a495",
   "metadata": {},
   "source": [
    "## Aufgabe 5: Kombinationen\n",
    "\n",
    "- Schreibe ein Programm, welches alle möglichen Kombinationen mit 3 Buchstaben aus den Vokalen \"A\",\"E\",\"O\",\"U\",\"I\" erzeugt. \n",
    " \n",
    "    - \"AAA\"\n",
    "    - \"AEO\"\n",
    "    - \"IIU\"\n",
    "    - usw.\n",
    "    \n",
    "> <span style=\"color:green\"> **_TIPP:_** </span> Die Verwendung von drei verschachtelten for-Schleifen hilft hier!"
   ]
  },
  {
   "cell_type": "code",
   "execution_count": 6,
   "id": "4457ff5d",
   "metadata": {},
   "outputs": [
    {
     "data": {
      "text/plain": [
       "['AAA',\n",
       " 'AAE',\n",
       " 'AAO',\n",
       " 'AAU',\n",
       " 'AAI',\n",
       " 'AEA',\n",
       " 'AEE',\n",
       " 'AEO',\n",
       " 'AEU',\n",
       " 'AEI',\n",
       " 'AOA',\n",
       " 'AOE',\n",
       " 'AOO',\n",
       " 'AOU',\n",
       " 'AOI',\n",
       " 'AUA',\n",
       " 'AUE',\n",
       " 'AUO',\n",
       " 'AUU',\n",
       " 'AUI',\n",
       " 'AIA',\n",
       " 'AIE',\n",
       " 'AIO',\n",
       " 'AIU',\n",
       " 'AII',\n",
       " 'EAA',\n",
       " 'EAE',\n",
       " 'EAO',\n",
       " 'EAU',\n",
       " 'EAI',\n",
       " 'EEA',\n",
       " 'EEE',\n",
       " 'EEO',\n",
       " 'EEU',\n",
       " 'EEI',\n",
       " 'EOA',\n",
       " 'EOE',\n",
       " 'EOO',\n",
       " 'EOU',\n",
       " 'EOI',\n",
       " 'EUA',\n",
       " 'EUE',\n",
       " 'EUO',\n",
       " 'EUU',\n",
       " 'EUI',\n",
       " 'EIA',\n",
       " 'EIE',\n",
       " 'EIO',\n",
       " 'EIU',\n",
       " 'EII',\n",
       " 'OAA',\n",
       " 'OAE',\n",
       " 'OAO',\n",
       " 'OAU',\n",
       " 'OAI',\n",
       " 'OEA',\n",
       " 'OEE',\n",
       " 'OEO',\n",
       " 'OEU',\n",
       " 'OEI',\n",
       " 'OOA',\n",
       " 'OOE',\n",
       " 'OOO',\n",
       " 'OOU',\n",
       " 'OOI',\n",
       " 'OUA',\n",
       " 'OUE',\n",
       " 'OUO',\n",
       " 'OUU',\n",
       " 'OUI',\n",
       " 'OIA',\n",
       " 'OIE',\n",
       " 'OIO',\n",
       " 'OIU',\n",
       " 'OII',\n",
       " 'UAA',\n",
       " 'UAE',\n",
       " 'UAO',\n",
       " 'UAU',\n",
       " 'UAI',\n",
       " 'UEA',\n",
       " 'UEE',\n",
       " 'UEO',\n",
       " 'UEU',\n",
       " 'UEI',\n",
       " 'UOA',\n",
       " 'UOE',\n",
       " 'UOO',\n",
       " 'UOU',\n",
       " 'UOI',\n",
       " 'UUA',\n",
       " 'UUE',\n",
       " 'UUO',\n",
       " 'UUU',\n",
       " 'UUI',\n",
       " 'UIA',\n",
       " 'UIE',\n",
       " 'UIO',\n",
       " 'UIU',\n",
       " 'UII',\n",
       " 'IAA',\n",
       " 'IAE',\n",
       " 'IAO',\n",
       " 'IAU',\n",
       " 'IAI',\n",
       " 'IEA',\n",
       " 'IEE',\n",
       " 'IEO',\n",
       " 'IEU',\n",
       " 'IEI',\n",
       " 'IOA',\n",
       " 'IOE',\n",
       " 'IOO',\n",
       " 'IOU',\n",
       " 'IOI',\n",
       " 'IUA',\n",
       " 'IUE',\n",
       " 'IUO',\n",
       " 'IUU',\n",
       " 'IUI',\n",
       " 'IIA',\n",
       " 'IIE',\n",
       " 'IIO',\n",
       " 'IIU',\n",
       " 'III']"
      ]
     },
     "execution_count": 6,
     "metadata": {},
     "output_type": "execute_result"
    }
   ],
   "source": [
    "def kombinationen():\n",
    "\n",
    "    vokale_liste = [\"A\", \"E\", \"O\", \"U\", \"I\"]\n",
    "    vokale_möglichkeiten = \"\"\n",
    "    vokale_kombinationen = []\n",
    "    \n",
    "    for i in range(len(vokale_liste)):  \n",
    "        for j in range(len(vokale_liste)):\n",
    "            for k in range(len(vokale_liste)):\n",
    "                vokale_möglichkeiten = vokale_liste [i] + vokale_liste[j] + vokale_liste[k]\n",
    "                if vokale_möglichkeiten not in vokale_kombinationen:\n",
    "                    vokale_kombinationen.append(vokale_möglichkeiten)\n",
    "            \n",
    "    return vokale_kombinationen\n",
    "    \n",
    "kombinationen()"
   ]
  },
  {
   "cell_type": "markdown",
   "id": "7b7809b0",
   "metadata": {},
   "source": [
    "## Aufgabe 6: Permutationen\n",
    "\n",
    "- Schreibe eine Programm, welches alle Permutationen der Liste [1,2,3] ausgibt.\n",
    "- Eine Permutation ist eine beliebige Vertauschung der Elemente, also z.B. [1,3,2] und [2,3,1]. Aber **nicht** [1,1,2] (Element doppelt!).\n",
    "- Für diese Aufgabe darfst du **keine** weitere Pythonbibliothek importieren!\n",
    "- Erweitere dein Code, damit Permutationen von der Liste [5,4,5] auch möglich sind.\n",
    " \n",
    "> <span style=\"color:green\"> **_TIPP:_** </span> Die Verwendung von drei verschachtelten for-Schleifen hilft hier!"
   ]
  },
  {
   "cell_type": "code",
   "execution_count": 7,
   "id": "3be6286b",
   "metadata": {},
   "outputs": [
    {
     "data": {
      "text/plain": [
       "[[4, 5, 6], [4, 6, 5], [5, 4, 6], [5, 6, 4], [6, 4, 5], [6, 5, 4]]"
      ]
     },
     "execution_count": 7,
     "metadata": {},
     "output_type": "execute_result"
    }
   ],
   "source": [
    "def permutationen(liste):\n",
    "    \n",
    "    perm_list = []\n",
    "    dreier_list = []\n",
    "    \n",
    "    for i in range(len(liste)):\n",
    "        for j in range(len(liste)):\n",
    "            for k in range(len(liste)):\n",
    "                \n",
    "                if liste[i] != liste[j] and liste[i] != liste[k] and liste[k] != liste[j]:\n",
    "\n",
    "                    dreier_list.append(liste [i])\n",
    "                    dreier_list.append(liste [j])\n",
    "                    dreier_list.append(liste [k])\n",
    "\n",
    "                    if len(dreier_list) == 3 and not dreier_list in perm_list: \n",
    "                        perm_list.append(dreier_list)\n",
    "\n",
    "                        dreier_list = []\n",
    "                                  \n",
    "    return perm_list      \n",
    "                \n",
    "permutationen([4,5,6])"
   ]
  },
  {
   "cell_type": "code",
   "execution_count": 8,
   "id": "50ed5e09",
   "metadata": {},
   "outputs": [
    {
     "data": {
      "text/plain": [
       "[[4, 4, 5],\n",
       " [4, 4, 6],\n",
       " [4, 5, 4],\n",
       " [4, 5, 5],\n",
       " [4, 5, 6],\n",
       " [4, 6, 4],\n",
       " [4, 6, 5],\n",
       " [4, 6, 6],\n",
       " [5, 4, 4],\n",
       " [5, 4, 5],\n",
       " [5, 4, 6],\n",
       " [5, 5, 4],\n",
       " [5, 5, 6],\n",
       " [5, 6, 4],\n",
       " [5, 6, 5],\n",
       " [5, 6, 6],\n",
       " [6, 4, 4],\n",
       " [6, 4, 5],\n",
       " [6, 4, 6],\n",
       " [6, 5, 4],\n",
       " [6, 5, 5],\n",
       " [6, 5, 6],\n",
       " [6, 6, 4],\n",
       " [6, 6, 5]]"
      ]
     },
     "execution_count": 8,
     "metadata": {},
     "output_type": "execute_result"
    }
   ],
   "source": [
    "# Erweiterung\n",
    "\n",
    "def permutationen(liste):\n",
    "    \n",
    "    perm_list = []\n",
    "    dreier_list = []\n",
    "    \n",
    "    for i in range(len(liste)):\n",
    "        for j in range(len(liste)):\n",
    "            for k in range(len(liste)):\n",
    "                \n",
    "                if liste[i] != liste[j] or liste[i] != liste[k] or liste[k] != liste[j]:\n",
    "\n",
    "                    dreier_list.append(liste [i])\n",
    "                    dreier_list.append(liste [j])\n",
    "                    dreier_list.append(liste [k])\n",
    "\n",
    "                    if len(dreier_list) == 3 and not dreier_list in perm_list: \n",
    "                        perm_list.append(dreier_list)\n",
    "\n",
    "                        dreier_list = []\n",
    "                                  \n",
    "    return perm_list      \n",
    "                \n",
    "permutationen([4,5,6])"
   ]
  },
  {
   "cell_type": "markdown",
   "id": "a5f3854c",
   "metadata": {},
   "source": [
    "## Aufgabe 7: 2 neben 2 \n",
    "\n",
    "- Schreibe eine Funktion, die eine Liste als Argument erwartet und `True` zurückliefert, wenn in der Liste eine 2 neben einer 2 steht. \n",
    "\n",
    "**Beispiele:**\n",
    "\n",
    "\\begin{align}\n",
    "f([1,2,1,2]) &\\Longrightarrow \\text{False} \\\\\n",
    "f([1,2,2]) &\\Longrightarrow \\text{True} \\\\ \n",
    "f([3,2,0,2]) &\\Longrightarrow \\text{False} \\\\\n",
    "\\end{align}"
   ]
  },
  {
   "cell_type": "code",
   "execution_count": 9,
   "id": "54eddecd",
   "metadata": {},
   "outputs": [
    {
     "data": {
      "text/plain": [
       "False"
      ]
     },
     "execution_count": 9,
     "metadata": {},
     "output_type": "execute_result"
    }
   ],
   "source": [
    "def zwei(liste):\n",
    "    \n",
    "    for i in range(len(liste) - 1):\n",
    "        if liste[i] == 2 and liste[i+1] == 2:\n",
    "\n",
    "            return True         \n",
    "        \n",
    "    return False\n",
    "\n",
    "\n",
    "zwei([3,2,0,2])"
   ]
  },
  {
   "cell_type": "markdown",
   "id": "6f703c81",
   "metadata": {},
   "source": [
    "## Aufgabe 8: Eulersche Zahl\n",
    "\n",
    "- Die [**eulersche Zahl**](https://de.wikipedia.org/wiki/Eulersche_Zahl) ist eine wichtige Konstante in der Mathematik (und Natur). Sie wird mit $e$ abgekürzt. Ihr Wert ist $e = 2,718281...$.\n",
    "\n",
    "- _Eine_ Art $e$ zu berechnen ist über die Formel\n",
    "\\begin{align}\n",
    "e = 1 + 1 + \\frac{1}{1\\cdot2}+ \\frac{1}{1\\cdot2\\cdot3}+\\frac{1}{1\\cdot2\\cdot3\\cdot4}+ ... = \\sum_{k=0}^\\infty\\frac{1}{k!}\n",
    "\\end{align}\n",
    "\n",
    "- Schreibe ein Programm, welches das Ergebnis von \n",
    "$\\sum_{k=0}^{1000}\\frac{1}{k!}$ berechnet. Sind wir nahe an $e$?\n",
    "\n",
    "- Für diese Aufgabe ist es praktisch, eine Funktion zu schreiben, die die Fakultät einer Zahl $n$ berechnet. Diese Funktion müssen wir öfters im Hauptprogramm aufrufen."
   ]
  },
  {
   "cell_type": "code",
   "execution_count": 10,
   "id": "0630c644",
   "metadata": {},
   "outputs": [
    {
     "data": {
      "text/plain": [
       "2.7182818284590455"
      ]
     },
     "execution_count": 10,
     "metadata": {},
     "output_type": "execute_result"
    }
   ],
   "source": [
    "def fakultaet(n):\n",
    "    \n",
    "    if n == 0:\n",
    "        return 1\n",
    "\n",
    "    else:\n",
    "        return n * fakultaet(n - 1)     \n",
    "    \n",
    "def euler(k):\n",
    "    \n",
    "    euler_zahl = 0\n",
    "    \n",
    "    for i in range(k + 1):\n",
    "        euler_zahl += 1/fakultaet(i)\n",
    "        \n",
    "    return euler_zahl\n",
    "\n",
    "euler(1000)"
   ]
  },
  {
   "cell_type": "markdown",
   "id": "5d70219a",
   "metadata": {},
   "source": [
    "## Aufgabe 9: Schaltjahr\n",
    "\n",
    "- Schreibe eine Funktion, die eine Jahreszahl bekommt und `True` oder `False` zurück gibt, je nachdem ob das Jahr ein Schaltjahr ist. <br> \n",
    "\n",
    "- Die Regeln für ein Schaltjahr lautet\n",
    "    - Jahr nicht durch 4 teilbar $\\Longrightarrow$ kein Schaltjahr\n",
    "    - Jahr durch 4 teilbar $\\Longrightarrow$ Schaltjahr\n",
    "    - Jahr durch 100 teilbar $\\Longrightarrow$ kein Schaltjahr \n",
    "    - Jahr durch 400 teilbar $\\Longrightarrow$ Schaltjahr\n",
    "    \n",
    "    \n",
    "**Beispiele:**\n",
    "\n",
    "\\begin{align}\n",
    "f(1900)  &\\Longrightarrow \\text{False} \\\\\n",
    "f(2000) &\\Longrightarrow \\text{True} \\\\\n",
    "f(2010) &\\Longrightarrow \\text{False}\n",
    "\\end{align}"
   ]
  },
  {
   "cell_type": "code",
   "execution_count": 11,
   "id": "8a353daf",
   "metadata": {},
   "outputs": [
    {
     "data": {
      "text/plain": [
       "False"
      ]
     },
     "execution_count": 11,
     "metadata": {},
     "output_type": "execute_result"
    }
   ],
   "source": [
    "def schaltjahr(jahr):\n",
    "    if not jahr % 4 == 0:\n",
    "        return False\n",
    "    elif jahr % 4 == 0 and jahr % 100 != 0:\n",
    "        return True\n",
    "    elif jahr % 100 == 0 and jahr % 400 != 0:\n",
    "        return False\n",
    "    elif jahr % 400 == 0:\n",
    "        return True\n",
    "\n",
    "schaltjahr(1900)"
   ]
  },
  {
   "cell_type": "code",
   "execution_count": null,
   "id": "f57f987b",
   "metadata": {},
   "outputs": [],
   "source": []
  }
 ],
 "metadata": {
  "kernelspec": {
   "display_name": "Python 3 (ipykernel)",
   "language": "python",
   "name": "python3"
  },
  "language_info": {
   "codemirror_mode": {
    "name": "ipython",
    "version": 3
   },
   "file_extension": ".py",
   "mimetype": "text/x-python",
   "name": "python",
   "nbconvert_exporter": "python",
   "pygments_lexer": "ipython3",
   "version": "3.10.9"
  }
 },
 "nbformat": 4,
 "nbformat_minor": 5
}
