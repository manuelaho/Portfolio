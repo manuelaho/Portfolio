{
 "cells": [
  {
   "cell_type": "markdown",
   "id": "80923d7e",
   "metadata": {},
   "source": [
    "# Inhaltsverzeichnis \n",
    "\n",
    "- **Aufgaben: lambda-Funktionen**\n",
    "    - **Aufgabe 1**\n",
    "    - **Aufgabe 2**\n"
   ]
  },
  {
   "cell_type": "markdown",
   "id": "124ee81b",
   "metadata": {},
   "source": [
    "## Aufgabe 1\n",
    "\n",
    "- Schreibe die folgenden Funktionen als Lambda Funktionen\n",
    "- Teste, ob deine Funktionen funktionieren\n"
   ]
  },
  {
   "cell_type": "code",
   "execution_count": null,
   "id": "014f82fe",
   "metadata": {},
   "outputs": [],
   "source": [
    "def f1(x,y):\n",
    "    return x * y\n",
    "\n",
    "def f2():\n",
    "    return \"Hallo\"\n",
    "\n",
    "def f3(x):\n",
    "    return x % 2 == 0"
   ]
  },
  {
   "cell_type": "code",
   "execution_count": null,
   "id": "c07007d1",
   "metadata": {},
   "outputs": [],
   "source": [
    "lambda x,y: x * y\n",
    "\n",
    "lambda: \"Hallo\"\n",
    "\n",
    "lambda x: x % 2 == 0"
   ]
  },
  {
   "cell_type": "markdown",
   "id": "58c67f39",
   "metadata": {},
   "source": [
    "## Aufgabe 2\n",
    "\n",
    "- Schreibe eine `lambda` Funktion zu der jeweiligen Aufgabenstellung."
   ]
  },
  {
   "cell_type": "code",
   "execution_count": 1,
   "id": "61203991",
   "metadata": {},
   "outputs": [
    {
     "name": "stdout",
     "output_type": "stream",
     "text": [
      "16\n",
      "24\n",
      "12\n"
     ]
    }
   ],
   "source": [
    "number_a = 6\n",
    "number_b = 2\n",
    "\n",
    "# Addiere 10\n",
    "add_10 = lambda x: x + 10\n",
    "\n",
    "# Multipliziere mit 4\n",
    "mult_4 = lambda x: x * 4\n",
    "\n",
    "# Multipliziere A mit B\n",
    "mult_AB = lambda x,y: x * y\n",
    "\n",
    "\n",
    "print(add_10(number_a))  #16\n",
    "print(mult_4(number_a))  #24\n",
    "print(mult_AB(number_a, number_b)) #12"
   ]
  },
  {
   "cell_type": "code",
   "execution_count": null,
   "id": "cd53612b",
   "metadata": {},
   "outputs": [],
   "source": []
  }
 ],
 "metadata": {
  "kernelspec": {
   "display_name": "Python 3 (ipykernel)",
   "language": "python",
   "name": "python3"
  },
  "language_info": {
   "codemirror_mode": {
    "name": "ipython",
    "version": 3
   },
   "file_extension": ".py",
   "mimetype": "text/x-python",
   "name": "python",
   "nbconvert_exporter": "python",
   "pygments_lexer": "ipython3",
   "version": "3.10.9"
  }
 },
 "nbformat": 4,
 "nbformat_minor": 5
}
