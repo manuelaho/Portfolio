{
 "cells": [
  {
   "cell_type": "markdown",
   "id": "c8eacfcf",
   "metadata": {},
   "source": [
    "# Inhaltsverzeichnis \n",
    "\n",
    "- **Übungen Woche 9**\n",
    "    - **Aufgabe 1: Wörterbuch umdrehen**\n",
    "    - **Aufgabe 2: Summe fehlender Zahlen**\n",
    "    - **Aufgabe 3: Harshad-Zahl**\n",
    "    - **Aufgabe 4: Letzte Ziffer**\n",
    "    - **Aufgabe 5: Summe einer Reihe**\n",
    "    - **Aufgabe 6: Perfekte Zahl**\n"
   ]
  },
  {
   "cell_type": "markdown",
   "id": "190c581f",
   "metadata": {},
   "source": [
    "## Aufgabe 1: Wörterbuch umdrehen\n",
    "\n",
    "- Schreibe eine Funktion, die eine Wörterbuch als Argument erhält. Die Funktion soll die Schlüssel und Werte umtauschen und das neue Wörterbuch zurückgeben.\n",
    "\n",
    "**Beispiele:** \n",
    "\n",
    "\\begin{align}\n",
    "f(\\text{ \\{\"A\":\"a\",\"B\":\"b\" \\} }) &\\Longrightarrow \\text{ \\{\"a\":\"A\",\"b\":\"B\" \\} } \\\\\n",
    "f(\\text{ \\{\"A\":2,\"B\":\"a\" \\} }) &\\Longrightarrow \\text{ \\{2:\"A\",\"a\":\"B\" \\} } \\\\\n",
    "\\end{align}"
   ]
  },
  {
   "cell_type": "code",
   "execution_count": 1,
   "id": "6eeba654",
   "metadata": {},
   "outputs": [
    {
     "data": {
      "text/plain": [
       "{2: 'A', 'a': 'B'}"
      ]
     },
     "execution_count": 1,
     "metadata": {},
     "output_type": "execute_result"
    }
   ],
   "source": [
    "def dict_umdrehen(d):\n",
    "    \n",
    "    dict_keys = []\n",
    "    dict_values = []\n",
    "    dictionary = {}\n",
    "    \n",
    "    for k, v in d.items():\n",
    "        dict_keys.append(v)\n",
    "        dict_values.append(k)\n",
    "        \n",
    "    dictionary = dict(zip(dict_keys, dict_values))\n",
    "    return dictionary\n",
    "\n",
    "dict_umdrehen({\"A\":2,\"B\":\"a\" })"
   ]
  },
  {
   "cell_type": "markdown",
   "id": "b3e0b80b",
   "metadata": {},
   "source": [
    "## Aufgabe 2: Summe fehlender Zahlen\n",
    "\n",
    "- Schreibe eine Funktion, welche eine Liste mit Zahlen bekommt. Die Funktion soll die Summe der Zahlen zurückgeben, die zwischen dem Maximalwert und dem Minimalwert **fehlen**, zurückliefern.\n",
    "\n",
    "**Beispiele:**\n",
    "\n",
    "\\begin{align}\n",
    "f([1,3,5]) &\\Longrightarrow 6    \\qquad ( = 4+ 2) \\\\\n",
    "f([1,2,3]) &\\Longrightarrow 0   \\\\\n",
    "f([1,4,3,7]) &\\Longrightarrow 13 \\qquad ( = 2 + 5 + 6 ) \\\\\n",
    "\\end{align}"
   ]
  },
  {
   "cell_type": "code",
   "execution_count": 2,
   "id": "914ef85d",
   "metadata": {},
   "outputs": [
    {
     "data": {
      "text/plain": [
       "6"
      ]
     },
     "execution_count": 2,
     "metadata": {},
     "output_type": "execute_result"
    }
   ],
   "source": [
    "def fehlende_zahlen(liste):\n",
    "\n",
    "    summe = 0\n",
    "    \n",
    "    for i in range(min(liste), max(liste)):\n",
    "        if i not in liste:\n",
    "            summe += i\n",
    "\n",
    "    return summe\n",
    "    \n",
    "fehlende_zahlen([1,3,5])"
   ]
  },
  {
   "cell_type": "markdown",
   "id": "2d1af93f",
   "metadata": {},
   "source": [
    "## Aufgabe 3: Harshad-Zahl\n",
    "\n",
    "Eine [Harshad-Zahl](https://de.wikipedia.org/wiki/Harshad-Zahl) ist eine Zahl, die ohne Rest durch die Summe ihrer Ziffern teilbar ist. \n",
    "\n",
    "- Schreibe eine Funktion, die eine Zahl übergeben bekommt und überprüft, ob diese Zahl eine Harshad-Zahl ist.\n",
    "\n",
    "**Beispiele:** \n",
    "\n",
    "\\begin{align}\n",
    "f(10) &\\Longrightarrow \\text{True} \\\\\n",
    "f(12) &\\Longrightarrow \\text{True} \\\\ \n",
    "f(15) &\\Longrightarrow \\text{False} \\\\ \n",
    "f(49) &\\Longrightarrow \\text{False} \\\\\n",
    "f(777) &\\Longrightarrow \\text{True} \\\\\n",
    "\\end{align}"
   ]
  },
  {
   "cell_type": "code",
   "execution_count": 3,
   "id": "b4bee4de",
   "metadata": {},
   "outputs": [
    {
     "data": {
      "text/plain": [
       "False"
      ]
     },
     "execution_count": 3,
     "metadata": {},
     "output_type": "execute_result"
    }
   ],
   "source": [
    "def harshad(zahl):\n",
    "    \n",
    "    summe = 0\n",
    "    for z in str(zahl):\n",
    "        summe += int(z)\n",
    "\n",
    "    if zahl % summe == 0:\n",
    "        return True\n",
    "    \n",
    "    return False\n",
    "    \n",
    "harshad(15)"
   ]
  },
  {
   "cell_type": "markdown",
   "id": "c01a8245",
   "metadata": {},
   "source": [
    "## Aufgabe 4: Letzte Ziffer\n",
    "\n",
    "- Schreibe eine Funktion die 3 Zahlen *x,y* und *z* übergeben bekommt. Die Funktion soll ` True` zurückgeben, wenn die letzte Ziffer von <br><br>\n",
    "\\begin{align}\n",
    "x \\cdot y\n",
    "\\end{align}\n",
    "der letzten Ziffer von $z$ enspricht.\n",
    "\n",
    "**Beispiele:**\n",
    "\n",
    "\\begin{align}\n",
    "f(5,5,105) &\\Longrightarrow \\text{True} \\\\\n",
    "f(1,1,12) &\\Longrightarrow \\text{False} \\\\\n",
    "f(15,12,100) &\\Longrightarrow \\text{True} \\\\\n",
    "\\end{align}"
   ]
  },
  {
   "cell_type": "code",
   "execution_count": 4,
   "id": "1db80fdb",
   "metadata": {},
   "outputs": [
    {
     "data": {
      "text/plain": [
       "True"
      ]
     },
     "execution_count": 4,
     "metadata": {},
     "output_type": "execute_result"
    }
   ],
   "source": [
    "def letzte_ziffer(x, y, z):\n",
    "    \n",
    "    ergebnis = str(x * y)\n",
    "    z = str(z)\n",
    "\n",
    "    if z[-1] == ergebnis[-1]:\n",
    "        return True\n",
    "    \n",
    "    return False\n",
    "\n",
    "letzte_ziffer(5, 5, 105)"
   ]
  },
  {
   "cell_type": "markdown",
   "id": "c6ae284b",
   "metadata": {},
   "source": [
    "## Aufgabe 5: Summe einer Reihe\n",
    "\n",
    "\n",
    "- Schreibe eine Funktion, die für ein übergebenes $n$ die Summe <br><br>\n",
    "\\begin{align}\n",
    "\\sum_{k=1}^n \\frac{1}{k^2}= \\frac{1}{1^2} + \\frac{1}{2^2} + ... + \\frac{1}{n^2}\n",
    "\\end{align} \n",
    "<br>\n",
    "berechnet. Lass dir das Ergebnis für unterschiedliche $n$ ausgeben. Was fällt auf?"
   ]
  },
  {
   "cell_type": "code",
   "execution_count": 5,
   "id": "27d46235",
   "metadata": {},
   "outputs": [
    {
     "data": {
      "text/plain": [
       "1.6439345666815615"
      ]
     },
     "execution_count": 5,
     "metadata": {},
     "output_type": "execute_result"
    }
   ],
   "source": [
    "def summe_reihe(n):\n",
    "    if n == 0:\n",
    "        return 0\n",
    "    else:\n",
    "        return 1/(n**2) + summe_reihe(n - 1)\n",
    "\n",
    "summe_reihe(1000)\n",
    "\n",
    "# umso höher n, desto geringer der Anstieg der Zahl"
   ]
  },
  {
   "cell_type": "markdown",
   "id": "01b9e9e8",
   "metadata": {},
   "source": [
    "## Aufgabe 6: Perfekte Zahl\n",
    "\n",
    "- Eine **perfekte Zahl** ist eine Zahl, bei der die Summe aller Teiler (außer sie selbst) wieder die Zahl ergibt. \n",
    "\n",
    "- Ein Beispiel für eine perfekte Zahl ist die Zahl $6$, denn ihre Teiler sind 1,2 und 3 und es gilt\n",
    "\n",
    "\\begin{align}\n",
    "1+2+3 =6\n",
    "\\end{align}.\n",
    "\n",
    "- Schreibe ein Programm, welches dir alle **perfekten Zahlen** zwischen 0 und 1000 ausgibt."
   ]
  },
  {
   "cell_type": "code",
   "execution_count": 6,
   "id": "cce64684",
   "metadata": {},
   "outputs": [
    {
     "data": {
      "text/plain": [
       "[6, 28, 496]"
      ]
     },
     "execution_count": 6,
     "metadata": {},
     "output_type": "execute_result"
    }
   ],
   "source": [
    "def perfekte_zahl(n):\n",
    "    \n",
    "    perfekte_zahl = []\n",
    "    \n",
    "    for p in range(1, n + 1):\n",
    "        \n",
    "        teiler = []                             \n",
    "        for i in range(1, p + 1):\n",
    "            if p % i == 0 and p != i:\n",
    "                teiler.append(i)\n",
    "    \n",
    "        summe = 0                              \n",
    "        for j in teiler:\n",
    "            summe += j\n",
    "        \n",
    "        if summe == p:\n",
    "            perfekte_zahl.append(p)\n",
    "                \n",
    "    return perfekte_zahl\n",
    "        \n",
    "perfekte_zahl(1000)         "
   ]
  },
  {
   "cell_type": "code",
   "execution_count": null,
   "id": "d4e48683",
   "metadata": {},
   "outputs": [],
   "source": []
  }
 ],
 "metadata": {
  "kernelspec": {
   "display_name": "Python 3 (ipykernel)",
   "language": "python",
   "name": "python3"
  },
  "language_info": {
   "codemirror_mode": {
    "name": "ipython",
    "version": 3
   },
   "file_extension": ".py",
   "mimetype": "text/x-python",
   "name": "python",
   "nbconvert_exporter": "python",
   "pygments_lexer": "ipython3",
   "version": "3.10.9"
  },
  "vscode": {
   "interpreter": {
    "hash": "26de051ba29f2982a8de78e945f0abaf191376122a1563185a90213a26c5da77"
   }
  }
 },
 "nbformat": 4,
 "nbformat_minor": 5
}
