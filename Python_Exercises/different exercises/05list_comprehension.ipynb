{
 "cells": [
  {
   "cell_type": "markdown",
   "id": "e445d72c",
   "metadata": {},
   "source": [
    "# Inhaltsverzeichnis \n",
    "\n",
    "- **List Comprehension Aufgaben**\n",
    "    - **Aufgabe 1 - Zufällige Zahlen**\n",
    "    - **Aufgabe 2 - Addition**\n",
    "    - **Aufgabe 3 - Bedingung in einer List Comprehension**\n",
    "    - **Aufgabe 4 - Quadratzahlen**\n",
    "    - **Aufgabe 5 - Bedingungen I**\n",
    "    - **Aufgabe 6 - Bedingungen II**\n",
    "    - **Aufgabe 7 - String**\n"
   ]
  },
  {
   "cell_type": "markdown",
   "id": "bd822104",
   "metadata": {},
   "source": [
    "# List Comprehension Aufgaben\n",
    "\n",
    "**Im folgenden sind `for`-Schleifen *nicht* erlaubt!**  <br>\n",
    "**Jede Aufgabe soll mit List-Comprehensions gelöst werden!**\n",
    "\n",
    "## Aufgabe 1 - Zufällige Zahlen\n",
    "\n",
    "- Erstelle eine Liste `ints` durch Verwendung einer List Comprehension, welche aus 10 zufälligen ganzen Zahlen besteht.\n",
    "- Benutze dafür die Funktion `randint` mit Parameter `0, 100`. Die Funktion `range` könnte hier helfen."
   ]
  },
  {
   "cell_type": "code",
   "execution_count": 1,
   "id": "aeee1630",
   "metadata": {},
   "outputs": [
    {
     "name": "stdout",
     "output_type": "stream",
     "text": [
      "[86, 57, 2, 90, 25, 93, 41, 0, 53, 95]\n"
     ]
    }
   ],
   "source": [
    "from random import randint\n",
    "\n",
    "ints = [randint(0, 100) for i in range(10)]\n",
    "print(ints)"
   ]
  },
  {
   "cell_type": "markdown",
   "id": "850975cd",
   "metadata": {},
   "source": [
    "## Aufgabe 2 - Addition\n",
    "\n",
    "- Erstelle eine neue Liste `int_plus`. Diese Liste enthält die Zahlen aus `ints` inkrementiert um 5."
   ]
  },
  {
   "cell_type": "code",
   "execution_count": 2,
   "id": "b29c3368",
   "metadata": {},
   "outputs": [
    {
     "name": "stdout",
     "output_type": "stream",
     "text": [
      "[91, 62, 7, 95, 30, 98, 46, 5, 58, 100]\n"
     ]
    }
   ],
   "source": [
    "ints_plus = [i + 5 for i in ints]\n",
    "\n",
    "print(ints_plus)"
   ]
  },
  {
   "cell_type": "markdown",
   "id": "8c91ded0",
   "metadata": {},
   "source": [
    "## Aufgabe 3 - Bedingung in einer List Comprehension\n",
    "\n",
    "- Erstelle eine neue Liste `ints_condition`. Diese Liste enthält alle Zahlen aus `ints_plus`, welche größer als 50 sind."
   ]
  },
  {
   "cell_type": "code",
   "execution_count": 3,
   "id": "b5725404",
   "metadata": {},
   "outputs": [
    {
     "name": "stdout",
     "output_type": "stream",
     "text": [
      "[91, 62, 95, 98, 58, 100]\n"
     ]
    }
   ],
   "source": [
    "ints_condition = [i for i in ints_plus if i > 50]\n",
    "\n",
    "print(ints_condition)"
   ]
  },
  {
   "cell_type": "markdown",
   "id": "1870a663",
   "metadata": {},
   "source": [
    "## Aufgabe 4 - Quadratzahlen\n",
    "\n",
    "- Erstelle eine Liste mit den Quadratzahlen zwischen $1$ und $1000$. "
   ]
  },
  {
   "cell_type": "code",
   "execution_count": 4,
   "id": "18f1d76a",
   "metadata": {},
   "outputs": [
    {
     "name": "stdout",
     "output_type": "stream",
     "text": [
      "[0, 1, 4, 9, 16, 25, 36, 49, 64, 81, 100, 121, 144, 169, 196, 225, 256, 289, 324, 361, 400, 441, 484, 529, 576, 625, 676, 729, 784, 841, 900, 961]\n"
     ]
    }
   ],
   "source": [
    "quadratzahlen = [i * i for i in range(1001) if i * i <= 1000]\n",
    "\n",
    "print(quadratzahlen)"
   ]
  },
  {
   "cell_type": "markdown",
   "id": "c7b4cf25",
   "metadata": {},
   "source": [
    "## Aufgabe 5 - Bedingungen I\n",
    "\n",
    "- Erstelle eine Liste mit sämtlichen Zahlen zwischen $1$ und $1000$ die **sowohl** durch $3$ **als auch** durch $5$ teilbar sind. "
   ]
  },
  {
   "cell_type": "code",
   "execution_count": 5,
   "id": "659206f0",
   "metadata": {},
   "outputs": [
    {
     "name": "stdout",
     "output_type": "stream",
     "text": [
      "[15, 30, 45, 60, 75, 90, 105, 120, 135, 150, 165, 180, 195, 210, 225, 240, 255, 270, 285, 300, 315, 330, 345, 360, 375, 390, 405, 420, 435, 450, 465, 480, 495, 510, 525, 540, 555, 570, 585, 600, 615, 630, 645, 660, 675, 690, 705, 720, 735, 750, 765, 780, 795, 810, 825, 840, 855, 870, 885, 900, 915, 930, 945, 960, 975, 990]\n"
     ]
    }
   ],
   "source": [
    "zahlen_teilbar = [i for i in range(1, 1001) if i %3 == 0 and i %5 == 0]\n",
    "\n",
    "print(zahlen_teilbar)"
   ]
  },
  {
   "cell_type": "markdown",
   "id": "6a065f88",
   "metadata": {},
   "source": [
    "## Aufgabe 6 - Bedingungen II\n",
    "\n",
    "- Erstelle eine Liste mit sämtlichen Zahlen zwischen $1$ und $1000$ die **entweder** durch $3$ **oder** durch $5$ teilbar sind (oder beides). "
   ]
  },
  {
   "cell_type": "code",
   "execution_count": 6,
   "id": "51504e17",
   "metadata": {},
   "outputs": [
    {
     "name": "stdout",
     "output_type": "stream",
     "text": [
      "[3, 5, 6, 9, 10, 12, 15, 18, 20, 21, 24, 25, 27, 30, 33, 35, 36, 39, 40, 42, 45, 48, 50, 51, 54, 55, 57, 60, 63, 65, 66, 69, 70, 72, 75, 78, 80, 81, 84, 85, 87, 90, 93, 95, 96, 99, 100, 102, 105, 108, 110, 111, 114, 115, 117, 120, 123, 125, 126, 129, 130, 132, 135, 138, 140, 141, 144, 145, 147, 150, 153, 155, 156, 159, 160, 162, 165, 168, 170, 171, 174, 175, 177, 180, 183, 185, 186, 189, 190, 192, 195, 198, 200, 201, 204, 205, 207, 210, 213, 215, 216, 219, 220, 222, 225, 228, 230, 231, 234, 235, 237, 240, 243, 245, 246, 249, 250, 252, 255, 258, 260, 261, 264, 265, 267, 270, 273, 275, 276, 279, 280, 282, 285, 288, 290, 291, 294, 295, 297, 300, 303, 305, 306, 309, 310, 312, 315, 318, 320, 321, 324, 325, 327, 330, 333, 335, 336, 339, 340, 342, 345, 348, 350, 351, 354, 355, 357, 360, 363, 365, 366, 369, 370, 372, 375, 378, 380, 381, 384, 385, 387, 390, 393, 395, 396, 399, 400, 402, 405, 408, 410, 411, 414, 415, 417, 420, 423, 425, 426, 429, 430, 432, 435, 438, 440, 441, 444, 445, 447, 450, 453, 455, 456, 459, 460, 462, 465, 468, 470, 471, 474, 475, 477, 480, 483, 485, 486, 489, 490, 492, 495, 498, 500, 501, 504, 505, 507, 510, 513, 515, 516, 519, 520, 522, 525, 528, 530, 531, 534, 535, 537, 540, 543, 545, 546, 549, 550, 552, 555, 558, 560, 561, 564, 565, 567, 570, 573, 575, 576, 579, 580, 582, 585, 588, 590, 591, 594, 595, 597, 600, 603, 605, 606, 609, 610, 612, 615, 618, 620, 621, 624, 625, 627, 630, 633, 635, 636, 639, 640, 642, 645, 648, 650, 651, 654, 655, 657, 660, 663, 665, 666, 669, 670, 672, 675, 678, 680, 681, 684, 685, 687, 690, 693, 695, 696, 699, 700, 702, 705, 708, 710, 711, 714, 715, 717, 720, 723, 725, 726, 729, 730, 732, 735, 738, 740, 741, 744, 745, 747, 750, 753, 755, 756, 759, 760, 762, 765, 768, 770, 771, 774, 775, 777, 780, 783, 785, 786, 789, 790, 792, 795, 798, 800, 801, 804, 805, 807, 810, 813, 815, 816, 819, 820, 822, 825, 828, 830, 831, 834, 835, 837, 840, 843, 845, 846, 849, 850, 852, 855, 858, 860, 861, 864, 865, 867, 870, 873, 875, 876, 879, 880, 882, 885, 888, 890, 891, 894, 895, 897, 900, 903, 905, 906, 909, 910, 912, 915, 918, 920, 921, 924, 925, 927, 930, 933, 935, 936, 939, 940, 942, 945, 948, 950, 951, 954, 955, 957, 960, 963, 965, 966, 969, 970, 972, 975, 978, 980, 981, 984, 985, 987, 990, 993, 995, 996, 999, 1000]\n"
     ]
    }
   ],
   "source": [
    "zahlen_teilbar_or = [i for i in range(1, 1001) if i %3 == 0 or i %5 == 0]\n",
    "\n",
    "print(zahlen_teilbar_or)"
   ]
  },
  {
   "cell_type": "markdown",
   "id": "c04234ca",
   "metadata": {},
   "source": [
    "## Aufgabe 7 - String \n",
    "\n",
    "- Erstelle aus dem String `s=\"Hallo\"` in einer Zeile die Liste `[\"H\",\"a\",\"l\",\"l\",\"o\"]`.\n",
    "\n",
    "- Erstelle aus dem String `s=\"Hallo\"` in einer Zeile die Liste `[\"H\",\"A\",\"L\",\"L\",\"O\"]`.\n",
    "\n",
    "- Erstelle aus dem String `s=\"Hallo\"` in einer Zeile die Liste `[\"o\",\"l\",\"l\",\"a\",\"h\"]`."
   ]
  },
  {
   "cell_type": "code",
   "execution_count": 7,
   "id": "836acdbb",
   "metadata": {},
   "outputs": [
    {
     "name": "stdout",
     "output_type": "stream",
     "text": [
      "['H', 'a', 'l', 'l', 'o']\n",
      "['H', 'A', 'L', 'L', 'O']\n",
      "['o', 'l', 'l', 'a', 'h']\n"
     ]
    }
   ],
   "source": [
    "s = \"Hallo\"\n",
    "\n",
    "hallo_01 = [i for i in s]\n",
    "print(hallo_01)\n",
    "\n",
    "hallo_02 = [i for i in s.upper()]\n",
    "print(hallo_02)\n",
    "\n",
    "hallo_03 = [i for i in s.lower()[::-1]]\n",
    "print(hallo_03)"
   ]
  },
  {
   "cell_type": "code",
   "execution_count": null,
   "id": "d227efdb",
   "metadata": {},
   "outputs": [],
   "source": []
  }
 ],
 "metadata": {
  "kernelspec": {
   "display_name": "Python 3 (ipykernel)",
   "language": "python",
   "name": "python3"
  },
  "language_info": {
   "codemirror_mode": {
    "name": "ipython",
    "version": 3
   },
   "file_extension": ".py",
   "mimetype": "text/x-python",
   "name": "python",
   "nbconvert_exporter": "python",
   "pygments_lexer": "ipython3",
   "version": "3.10.9"
  }
 },
 "nbformat": 4,
 "nbformat_minor": 5
}
