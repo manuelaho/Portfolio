{
 "cells": [
  {
   "cell_type": "markdown",
   "id": "b72d0c12",
   "metadata": {},
   "source": [
    "# Inhaltsverzeichnis \n",
    "\n",
    "- **Challenges**\n",
    "    - **Challenge 1: Häufigkeit**\n",
    "    - **Challenge 2: Permutationen**\n"
   ]
  },
  {
   "cell_type": "markdown",
   "id": "cda65583",
   "metadata": {},
   "source": [
    "# Challenges\n",
    "\n",
    "Einige knifflige Aufgaben zum Knobeln und ausprobieren! \n",
    "\n",
    "## Challenge 1: Häufigkeit\n",
    "\n",
    "Schreibe eine Funktion $f$, die für eine Zahl $n$ berechnet, _wie oft_ die Ziffer \"1\" erscheint, wenn man alle Zahlen von $1$ bis inklusive $n$ ausschreibt. Hier - zur Kontrolle - einige richtige Antworten, für spezielle Werte von $n$:\n",
    "\n",
    "\\begin{align}\n",
    "f(1) &= 1 \\\\\n",
    "f(5) &= 1 \\\\\n",
    "f(10) &= 2 \\\\\n",
    "f(1234) &= 689 \\\\\n",
    "f(123321) &= 93395 \\\\\n",
    "\\end{align}"
   ]
  },
  {
   "cell_type": "code",
   "execution_count": 1,
   "id": "c3c07787",
   "metadata": {},
   "outputs": [
    {
     "data": {
      "text/plain": [
       "93395"
      ]
     },
     "execution_count": 1,
     "metadata": {},
     "output_type": "execute_result"
    }
   ],
   "source": [
    "def häufigkeit(n):\n",
    "    \n",
    "    liste = []\n",
    "    summe = 0\n",
    "    \n",
    "    for i in range(n + 1):\n",
    "\n",
    "        for j in str(i):\n",
    "            liste.append(j)\n",
    "            \n",
    "        if \"1\" in liste:\n",
    "            for k in liste:\n",
    "                if k == \"1\":\n",
    "                    summe += 1\n",
    "                    liste = []\n",
    "                \n",
    "    return summe\n",
    "        \n",
    "häufigkeit(123321)       "
   ]
  },
  {
   "cell_type": "markdown",
   "id": "25e980ea",
   "metadata": {},
   "source": [
    "## Challenge 2: Permutationen\n",
    "\n",
    "Schreibe eine Funktion $permutation$, die die Aufgabe aus der Woche erweitert, indem nun Permutationen von beliebig vielen Elementen möglich sind. Hierfür kann dir eine rekursive Funktion helfen.\n",
    "\n",
    "\\begin{align}\n",
    "f([2, 3]) &= [[2,3], [3,2]] \\\\\n",
    "f([1, 2, 3]) &= [[1,2,3], [2,1,3], ...] \\\\\n",
    "f([1, 2, 3, 4]) &= [[1,2,3,4], [2,1,3,4], [2,3,1,4],...]\n",
    "\\end{align}"
   ]
  },
  {
   "cell_type": "code",
   "execution_count": 2,
   "id": "3352e58f",
   "metadata": {},
   "outputs": [
    {
     "data": {
      "text/plain": [
       "[[1, 2, 3, 4],\n",
       " [1, 2, 4, 3],\n",
       " [1, 3, 2, 4],\n",
       " [1, 3, 4, 2],\n",
       " [1, 4, 2, 3],\n",
       " [1, 4, 3, 2],\n",
       " [2, 1, 3, 4],\n",
       " [2, 1, 4, 3],\n",
       " [2, 3, 1, 4],\n",
       " [2, 3, 4, 1],\n",
       " [2, 4, 1, 3],\n",
       " [2, 4, 3, 1],\n",
       " [3, 1, 2, 4],\n",
       " [3, 1, 4, 2],\n",
       " [3, 2, 1, 4],\n",
       " [3, 2, 4, 1],\n",
       " [3, 4, 1, 2],\n",
       " [3, 4, 2, 1],\n",
       " [4, 1, 2, 3],\n",
       " [4, 1, 3, 2],\n",
       " [4, 2, 1, 3],\n",
       " [4, 2, 3, 1],\n",
       " [4, 3, 1, 2],\n",
       " [4, 3, 2, 1]]"
      ]
     },
     "execution_count": 2,
     "metadata": {},
     "output_type": "execute_result"
    }
   ],
   "source": [
    "def permutationen(liste):    \n",
    "    if len(liste) <= 1:         \n",
    "        return [liste]     \n",
    "    else:        \n",
    "        perm = []         \n",
    "        for i in range(len(liste)):             \n",
    "            for p in permutationen(liste[:i] + liste[i+1:]):                 \n",
    "                perm.append([liste[i]] + p)         \n",
    "        return perm\n",
    "    \n",
    "permutationen([1, 2, 3, 4])"
   ]
  },
  {
   "cell_type": "code",
   "execution_count": null,
   "id": "ba325687",
   "metadata": {},
   "outputs": [],
   "source": []
  }
 ],
 "metadata": {
  "kernelspec": {
   "display_name": "Python 3 (ipykernel)",
   "language": "python",
   "name": "python3"
  },
  "language_info": {
   "codemirror_mode": {
    "name": "ipython",
    "version": 3
   },
   "file_extension": ".py",
   "mimetype": "text/x-python",
   "name": "python",
   "nbconvert_exporter": "python",
   "pygments_lexer": "ipython3",
   "version": "3.10.9"
  }
 },
 "nbformat": 4,
 "nbformat_minor": 5
}
