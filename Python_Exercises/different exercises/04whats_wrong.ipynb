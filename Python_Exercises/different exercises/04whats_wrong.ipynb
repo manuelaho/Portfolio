{
 "cells": [
  {
   "cell_type": "markdown",
   "id": "517048e2",
   "metadata": {},
   "source": [
    "# Inhaltsverzeichnis \n",
    "\n",
    "- **'Was ist falsch im Code?' - Aufgaben**\n",
    "    - **Aufgabe 1: 9er**\n",
    "    - **Aufgabe 2: Listen addieren**\n",
    "    - **Aufgabe 3: Mittelwert**\n",
    "    - **Aufgabe 4: Element finden**\n",
    "    - **Aufgabe 5: Duplikate**\n",
    "    - **Aufgabe 6: Minimaler Wert eines Dictionary**\n"
   ]
  },
  {
   "cell_type": "markdown",
   "id": "f6e48f7a",
   "metadata": {},
   "source": [
    "# 'Was ist falsch im Code?' - Aufgaben\n",
    "\n",
    "In diesem Notebook findest du einen neuen Typ von Aufgaben. Hier sollst du nicht mehr die Lösung einer Aufgabe in eine leere Zelle implementieren, sondern du sollst den Fehler in den schon gegebenen Code-Snippets finden und dann beheben. Die Zelle sollte für alle Tests (`asserts`) ohne eine Fehlermeldung ausführbar sein. Viel Spass!"
   ]
  },
  {
   "cell_type": "markdown",
   "id": "aa216069",
   "metadata": {},
   "source": [
    "## Aufgabe 1: 9er\n",
    "\n",
    "Die Funktion `gerade_zahlen_reverse` erwartet eine Liste als Argument und gibt die Elemente der Liste zurück, die ohne Rest durch $9$ teilbar sind und _zusätzlich_ in umgekehrter Reihenfolge. "
   ]
  },
  {
   "cell_type": "code",
   "execution_count": 1,
   "id": "01ccea3c",
   "metadata": {
    "scrolled": true
   },
   "outputs": [
    {
     "data": {
      "text/plain": [
       "[99, 90, 81, 72, 63, 54, 45, 36, 27, 18, 9, 0]"
      ]
     },
     "execution_count": 1,
     "metadata": {},
     "output_type": "execute_result"
    }
   ],
   "source": [
    "def gerade_zahlen_reverse(input_liste):\n",
    "    \n",
    "    gerade_liste = []\n",
    "    \n",
    "    \n",
    "    for element in input_liste:\n",
    "        \n",
    "        if element % 9 == 0:\n",
    "\n",
    "            gerade_liste.append(element)\n",
    "        \n",
    "    return gerade_liste[::-1]\n",
    "\n",
    "gerade_zahlen_reverse(range(100))"
   ]
  },
  {
   "cell_type": "code",
   "execution_count": 2,
   "id": "f5349a01",
   "metadata": {},
   "outputs": [],
   "source": [
    "# Überprüfe, ob das Ergebnis korrekt ist. Diese Zelle musst du nur ausführen.\n",
    "assert gerade_zahlen_reverse(range(100)) == [99, 90, 81, 72, 63, 54, 45, 36, 27, 18, 9, 0]\n",
    "assert gerade_zahlen_reverse(range( 50)) == [45, 36, 27, 18, 9, 0]\n",
    "assert gerade_zahlen_reverse(range( 20)) == [18, 9, 0]"
   ]
  },
  {
   "cell_type": "markdown",
   "id": "6a785f41",
   "metadata": {},
   "source": [
    "## Aufgabe 2: Listen addieren\n",
    "\n",
    "Die Funktion `add_two_lists` erhält zwei Listen als Argumente und gibt eine Liste zurück, wobei die Elemente die Summe der Elemente aus den übergebenen Listen ist."
   ]
  },
  {
   "cell_type": "code",
   "execution_count": 3,
   "id": "08f0623a",
   "metadata": {},
   "outputs": [
    {
     "data": {
      "text/plain": [
       "[8, 12, 19]"
      ]
     },
     "execution_count": 3,
     "metadata": {},
     "output_type": "execute_result"
    }
   ],
   "source": [
    "def add_two_lists(liste1, liste2):\n",
    "    \n",
    "    new_list = []\n",
    "    \n",
    "    for e1, e2 in zip(liste1, liste2):\n",
    "        \n",
    "        if type(e1) is int and type(e2) is int:     \n",
    "            new_list.append(int(e1) + int(e2))\n",
    "                     \n",
    "    return(new_list)\n",
    "        \n",
    "add_two_lists([2, 4, 10], [6, 8, 9])"
   ]
  },
  {
   "cell_type": "code",
   "execution_count": 4,
   "id": "97a933c2",
   "metadata": {},
   "outputs": [],
   "source": [
    "# Überprüfe, ob das Ergebnis korrekt ist. Diese Zelle musst du nur ausführen.\n",
    "assert add_two_lists([2, 4, 10], [6, 8, 9]) == [8, 12, 19]\n",
    "assert add_two_lists([1, '3', 3], [1, 3, 6]) == [2, 9]\n",
    "assert add_two_lists([1, '3', 3, 4], [1, 3, '6', 4]) == [2, 8]"
   ]
  },
  {
   "cell_type": "markdown",
   "id": "607798fc",
   "metadata": {},
   "source": [
    "## Aufgabe 3: Mittelwert\n",
    "\n",
    "Die Funktion `list_mean` erwartet eine beliebige Anzahl von Listen als Argument. Nachdem die Listen zusammengeführt werden, wird davon das arithmetische Mittel ausgerechnet und zurückgeliefert."
   ]
  },
  {
   "cell_type": "code",
   "execution_count": 5,
   "id": "f4eac39d",
   "metadata": {},
   "outputs": [
    {
     "data": {
      "text/plain": [
       "5.0"
      ]
     },
     "execution_count": 5,
     "metadata": {},
     "output_type": "execute_result"
    }
   ],
   "source": [
    "def list_mean(*listen):\n",
    "    \n",
    "    all_list = []\n",
    "    anzahl_listen = 0\n",
    "    \n",
    "    for l in listen:\n",
    "        all_list += l\n",
    "        anzahl_listen += len(l)\n",
    "        \n",
    "    mean = sum(all_list) / anzahl_listen\n",
    "    \n",
    "    return mean\n",
    "        \n",
    "list_mean([1,2,3], [4,5,6], [7,8,9])"
   ]
  },
  {
   "cell_type": "code",
   "execution_count": 6,
   "id": "38f3689a",
   "metadata": {},
   "outputs": [],
   "source": [
    "# Überprüfe, ob das Ergebnis korrekt ist. Diese Zelle musst du nur ausführen.\n",
    "assert list_mean([1,2,3], [4,5,6], [7,8,9]) == 5.0\n",
    "assert list_mean([1,2,3], [7,8,9]) == 5.0\n",
    "assert list_mean([15,2,3]) == 6.666666666666667"
   ]
  },
  {
   "cell_type": "markdown",
   "id": "b39dbbb8",
   "metadata": {},
   "source": [
    "## Aufgabe 4: Element finden\n",
    "\n",
    "Die Funktion `search_index` erwartet eine Liste und ein Target als Argument. Sollte das Target Element in der Liste existieren, dann gibt die Funkion den Index des ersten Treffers zurück, sonst `-1`."
   ]
  },
  {
   "cell_type": "code",
   "execution_count": 7,
   "id": "e76fffdd",
   "metadata": {},
   "outputs": [
    {
     "data": {
      "text/plain": [
       "2"
      ]
     },
     "execution_count": 7,
     "metadata": {},
     "output_type": "execute_result"
    }
   ],
   "source": [
    "def search_index(liste, target):\n",
    "    \n",
    "    for element in liste:\n",
    "        \n",
    "        if target == element:\n",
    "            index = liste.index(element)\n",
    "            return index\n",
    "            break\n",
    "\n",
    "    return -1\n",
    "        \n",
    "search_index([1,5,7,9], 7)"
   ]
  },
  {
   "cell_type": "code",
   "execution_count": 8,
   "id": "09a08ff4",
   "metadata": {},
   "outputs": [],
   "source": [
    "# Überprüfe, ob das Ergebnis korrekt ist. Diese Zelle musst du nur ausführen.\n",
    "assert search_index([1,5,7,9], 7) == 2\n",
    "assert search_index(['a','b','c'], 'a') == 0\n",
    "assert search_index(['a','b','c'], 'd') == -1"
   ]
  },
  {
   "cell_type": "markdown",
   "id": "4585f21e",
   "metadata": {},
   "source": [
    "## Aufgabe 5: Duplikate \n",
    "\n",
    "Die Funktion `unique_words` erwartet einen Satz als Argument und gibt eine Liste aller eindeutigen Wörter _und_ die Anzahl der Duplikate zurück."
   ]
  },
  {
   "cell_type": "code",
   "execution_count": 9,
   "id": "81b47c1b",
   "metadata": {},
   "outputs": [
    {
     "data": {
      "text/plain": [
       "(['eine', 'banane', 'und', 'ein', 'apfel'], 6)"
      ]
     },
     "execution_count": 9,
     "metadata": {},
     "output_type": "execute_result"
    }
   ],
   "source": [
    "def unique_words(langer_satz):\n",
    "    \n",
    "    langer_satz = langer_satz.lower()\n",
    "    langer_satz = langer_satz.split(\" \")\n",
    "    \n",
    "    uniques = []\n",
    "    dupli = 0\n",
    "    \n",
    "    for wort in langer_satz:\n",
    "        \n",
    "        if langer_satz.count(wort) == 2 or langer_satz.count(wort) == 3:\n",
    "            if not wort in uniques:\n",
    "                uniques.append(wort)\n",
    "                if langer_satz.count(wort) == 2:\n",
    "                    dupli += 1\n",
    "                if langer_satz.count(wort) == 3:\n",
    "                    dupli += 2\n",
    "        elif not wort in uniques:\n",
    "            uniques.append(wort)\n",
    "    \n",
    "    return uniques, dupli\n",
    "\n",
    "\n",
    "unique_words(\"Eine Banane und ein Apfel und ein Apfel und eine Banane\")"
   ]
  },
  {
   "cell_type": "code",
   "execution_count": 10,
   "id": "48428136",
   "metadata": {},
   "outputs": [],
   "source": [
    "# Überprüfe, ob das Ergebnis korrekt ist. Diese Zelle musst du nur ausführen.\n",
    "assert unique_words(\"Eine Banane und ein Apfel und ein Apfel und eine Banane\") == (['eine', 'banane', 'und', 'ein', 'apfel'], 6)\n",
    "assert unique_words(\"Lorem ipsus oder lipsum\") == (['lorem', 'ipsus', 'oder', 'lipsum'], 0)\n",
    "assert unique_words(\"Das ist der Test und es ist der wichtigste Test\") == (['das', 'ist', 'der', 'test', 'und', 'es', 'wichtigste'], 3)"
   ]
  },
  {
   "cell_type": "markdown",
   "id": "41ad12fd",
   "metadata": {},
   "source": [
    "## Aufgabe 6: Minimaler Wert eines Dictionary\n",
    " \n",
    "Die Funktion `max_key_value` erwartet ein Dictionary als Argument und liefert das Key-Value Paar mit dem Maximalen Wert zurück."
   ]
  },
  {
   "cell_type": "code",
   "execution_count": 1,
   "id": "daf116f5",
   "metadata": {},
   "outputs": [
    {
     "data": {
      "text/plain": [
       "('CA', 212)"
      ]
     },
     "execution_count": 1,
     "metadata": {},
     "output_type": "execute_result"
    }
   ],
   "source": [
    "def max_key_value(dictionary):\n",
    "\n",
    "    key_list = list(dictionary.keys())\n",
    "    value_list = list(dictionary.values())\n",
    "    max_value = int(value_list[0])\n",
    "        \n",
    "    for value in value_list:\n",
    "            \n",
    "        if value > max_value:            \n",
    "            max_value = value            \n",
    "    \n",
    "    max_index = value_list.index(max_value)\n",
    "    max_key = key_list[max_index]\n",
    "    \n",
    "    return max_key,max_value\n",
    "\n",
    "\n",
    "max_key_value({'CA':212, 'DE':29,  'GR':39})"
   ]
  },
  {
   "cell_type": "code",
   "execution_count": 2,
   "id": "11efc0c6",
   "metadata": {},
   "outputs": [],
   "source": [
    "# Überprüfe, ob das Ergebnis korrekt ist. Diese Zelle musst du nur ausführen.\n",
    "assert max_key_value({'CA':212, 'DE':29,  'GR':39}) == ('CA', 212)\n",
    "assert max_key_value({'CA':21 , 'DE':290, 'GR':39}) == ('DE', 290)"
   ]
  },
  {
   "cell_type": "code",
   "execution_count": null,
   "id": "4c950033",
   "metadata": {},
   "outputs": [],
   "source": []
  }
 ],
 "metadata": {
  "kernelspec": {
   "display_name": "Python 3 (ipykernel)",
   "language": "python",
   "name": "python3"
  },
  "language_info": {
   "codemirror_mode": {
    "name": "ipython",
    "version": 3
   },
   "file_extension": ".py",
   "mimetype": "text/x-python",
   "name": "python",
   "nbconvert_exporter": "python",
   "pygments_lexer": "ipython3",
   "version": "3.10.9"
  }
 },
 "nbformat": 4,
 "nbformat_minor": 5
}
