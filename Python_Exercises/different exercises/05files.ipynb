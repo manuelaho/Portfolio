{
 "cells": [
  {
   "cell_type": "markdown",
   "id": "283380fb",
   "metadata": {},
   "source": [
    "# Inhaltsverzeichnis \n",
    "\n",
    "- **Dateien - Aufgaben**\n",
    "    - **Aufgabe 1 - Informationen speichern**\n",
    "    - **Aufgabe 2 - Mehr Nutzer anlegen**\n",
    "    - **Aufgabe 3 - Nutzer auslesen**\n"
   ]
  },
  {
   "cell_type": "markdown",
   "id": "83a8e815",
   "metadata": {},
   "source": [
    "# Dateien - Aufgaben"
   ]
  },
  {
   "cell_type": "markdown",
   "id": "cba832a4",
   "metadata": {},
   "source": [
    "## Aufgabe 1 - Informationen speichern"
   ]
  },
  {
   "cell_type": "markdown",
   "id": "c7e64e99",
   "metadata": {},
   "source": [
    "- Lass einen Nutzer seinen **Nachnamen, Vornamen** und **Alter** eingeben. Speichere diese Informationen in einer Datei namens `info.txt`. \n",
    "- Die Informationen sollten alle in einer Zeile im Format `Nachname,Vorname,Alter` stehen."
   ]
  },
  {
   "cell_type": "code",
   "execution_count": 28,
   "id": "a385dfb8",
   "metadata": {},
   "outputs": [
    {
     "name": "stdout",
     "output_type": "stream",
     "text": [
      "Gib bitte deinen Vornamen, deinen Nachnamen und dein Alter durch Komma getrennt ein! Manuela, Holzner, 48\n",
      "Manuela, Holzner, 48\n"
     ]
    }
   ],
   "source": [
    "user_input = input(\"Gib bitte deinen Vornamen, deinen Nachnamen und dein Alter durch Komma getrennt ein! \")\n",
    "\n",
    "with open(\"info.txt\", \"w\") as f: \n",
    "    f.write(user_input) \n",
    "\n",
    "with open(\"info.txt\", \"r\") as f: \n",
    "    ausdruck = f.read()\n",
    "    print(ausdruck)"
   ]
  },
  {
   "cell_type": "markdown",
   "id": "0865be06",
   "metadata": {},
   "source": [
    "## Aufgabe 2 - Mehr Nutzer anlegen\n",
    "\n",
    "- Wir wollen die Informationen von mehreren Nutzern speichern. \n",
    "- Schreibe eine Funktion `addUser`, die die Datei `info.txt` öffnet und um eine neue Zeile mit den Informationen des neuen Nutzers ergänzt. \n",
    "- Führe die Funktion aus und überzeugt dich, dass sie funktioniert. Schau dir die Datei `info.txt` auf deiner Festplatte an. Sie sollte nun aus mehreren Zeilen mit jeweils 3 Informationen bestehen. Jede Zeile entspricht einem Nutzer."
   ]
  },
  {
   "cell_type": "code",
   "execution_count": 32,
   "id": "1173d65b",
   "metadata": {},
   "outputs": [
    {
     "name": "stdout",
     "output_type": "stream",
     "text": [
      "Gib bitte deinen Vornamen, deinen Nachnamen und dein Alter durch Komma getrennt ein!Sabrina, Holzner, 41\n"
     ]
    },
    {
     "data": {
      "text/plain": [
       "['Manuela, Holzner, 48\\n',\n",
       " 'Birgit, Kaserer, 76\\n',\n",
       " 'Sepp, Kaserer, 82\\n',\n",
       " 'Sabrina, Holzner, 41']"
      ]
     },
     "execution_count": 32,
     "metadata": {},
     "output_type": "execute_result"
    }
   ],
   "source": [
    "def addUser():\n",
    "    user_neu = input(\"Gib bitte deinen Vornamen, deinen Nachnamen und dein Alter durch Komma getrennt ein!\")\n",
    "    liste_user = []\n",
    "    \n",
    "    with open(\"info.txt\",\"r\") as f:\n",
    "        liste_user = f.readlines()\n",
    "    \n",
    "    with open(\"info.txt\",\"w\") as f:\n",
    "        liste_user.append(user_neu)\n",
    "        \n",
    "        for i in liste_user:\n",
    "            f.write(i)\n",
    "        f.write(\"\\n\")   \n",
    "   \n",
    "    return liste_user\n",
    "\n",
    "addUser()"
   ]
  },
  {
   "cell_type": "markdown",
   "id": "300abfe8",
   "metadata": {},
   "source": [
    "## Aufgabe 3 - Nutzer auslesen \n",
    "\n",
    "- Schreibe eine Funktion `getData(n)` die die Informationen über den n-ten Nutzer in der Datei `info.txt` ausgibt.\n",
    "\n",
    "def getData(n):\n",
    "    with open(\"info.txt\",\"r\") as f:\n",
    "        liste_user = f.readlines()\n",
    "    return (liste_user[n-1])[:-1]\n",
    "\n",
    "\n",
    "getData(2)"
   ]
  },
  {
   "cell_type": "code",
   "execution_count": 34,
   "id": "a1c832cd",
   "metadata": {},
   "outputs": [
    {
     "data": {
      "text/plain": [
       "'Birgit, Kaserer, 76'"
      ]
     },
     "execution_count": 34,
     "metadata": {},
     "output_type": "execute_result"
    }
   ],
   "source": [
    "def getData(n):\n",
    "    with open(\"info.txt\",\"r\") as f:\n",
    "        liste_user = f.readlines()\n",
    "    return (liste_user[n-1])[:-1]\n",
    "\n",
    "\n",
    "getData(2)"
   ]
  },
  {
   "cell_type": "code",
   "execution_count": null,
   "id": "fd4fc050",
   "metadata": {},
   "outputs": [],
   "source": []
  }
 ],
 "metadata": {
  "kernelspec": {
   "display_name": "Python 3 (ipykernel)",
   "language": "python",
   "name": "python3"
  },
  "language_info": {
   "codemirror_mode": {
    "name": "ipython",
    "version": 3
   },
   "file_extension": ".py",
   "mimetype": "text/x-python",
   "name": "python",
   "nbconvert_exporter": "python",
   "pygments_lexer": "ipython3",
   "version": "3.10.9"
  }
 },
 "nbformat": 4,
 "nbformat_minor": 5
}
