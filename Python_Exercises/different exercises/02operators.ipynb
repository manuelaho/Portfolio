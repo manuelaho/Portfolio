{
 "cells": [
  {
   "cell_type": "markdown",
   "id": "154d3540",
   "metadata": {},
   "source": [
    "# Inhaltsverzeichnis \n",
    "\n",
    "- **Operatoren Aufgaben**\n",
    "    - **Aufgabe 1 - Vergleichsoperatoren**\n",
    "    - **Aufgabe 2 - Logische Operatoren**\n",
    "    - **Aufgabe 3 - Identitätsoperator**\n",
    "    - **Aufgabe 4 - Mitgliedschaftsoperator**\n",
    "    - **Aufgabe 5 - Operatoren in Verbindung mit anderen Datentypen**\n",
    "    - **Aufgabe 6 - `or`**\n",
    "    - **Aufgabe 7 - `and`**\n",
    "    - **Aufgabe 8 - `not`**\n"
   ]
  },
  {
   "cell_type": "markdown",
   "id": "f11f13f0",
   "metadata": {},
   "source": [
    "# Operatoren Aufgaben\n",
    "\n",
    "## Aufgabe 1 - Vergleichsoperatoren\n",
    "\n",
    "Bevor du die folgenden Zellen ausführst, überlege dir was das Ergebnis der jeweiligen Ausgabe ist:"
   ]
  },
  {
   "cell_type": "code",
   "execution_count": null,
   "id": "ccf38e3a",
   "metadata": {},
   "outputs": [],
   "source": [
    "print(False == False)         # True\n",
    "print(3 == 5)                 # False\n",
    "print(3 != 5)                 # True\n",
    "print(3 == 7 % 4)             # True"
   ]
  },
  {
   "cell_type": "code",
   "execution_count": null,
   "id": "25f0f4fa",
   "metadata": {},
   "outputs": [],
   "source": [
    "print(True == 1)              # True\n",
    "print(True == 3)              # False"
   ]
  },
  {
   "cell_type": "code",
   "execution_count": null,
   "id": "69049dd9",
   "metadata": {},
   "outputs": [],
   "source": [
    "print(True + True)            # 2\n",
    "print(True + (False / True) ) # 1"
   ]
  },
  {
   "cell_type": "code",
   "execution_count": null,
   "id": "0516a492",
   "metadata": {},
   "outputs": [],
   "source": [
    "print((3 > 5) or True)        # True\n",
    "print((5 >= 5) and False)     # False"
   ]
  },
  {
   "cell_type": "code",
   "execution_count": null,
   "id": "e14d490a",
   "metadata": {},
   "outputs": [],
   "source": [
    "print(\"sentence\" != \"Sentence\")  # True\n",
    "print(\"Apple\" <= \"banana\")       # True\n",
    "print(\"This\" > \"That\")           # True"
   ]
  },
  {
   "cell_type": "code",
   "execution_count": 23,
   "id": "96c98db8",
   "metadata": {},
   "outputs": [
    {
     "name": "stdout",
     "output_type": "stream",
     "text": [
      "84\n",
      "104\n",
      "105\n",
      "97\n",
      "115\n",
      "116\n"
     ]
    }
   ],
   "source": [
    "print(ord('T'))                  # Überprüfung zu Aufgabe This > That\n",
    "print(ord('h'))\n",
    "print(ord('i'))\n",
    "print(ord('a'))\n",
    "print(ord('s'))\n",
    "print(ord('t'))"
   ]
  },
  {
   "cell_type": "markdown",
   "id": "0d2ddf72",
   "metadata": {},
   "source": [
    "## Aufgabe 2 - Logische Operatoren\n",
    "\n",
    "Was ist der Wert von `x` in den folgenden Zellen? Überlege dir die Antwort, **bevor** du die Zelle ausführst. Hattest du recht?"
   ]
  },
  {
   "cell_type": "code",
   "execution_count": null,
   "id": "2d2c0b77",
   "metadata": {},
   "outputs": [],
   "source": [
    "x = 21 % 7 == 0                   # True\n",
    "print(x)"
   ]
  },
  {
   "cell_type": "code",
   "execution_count": null,
   "id": "d1ce5ff8",
   "metadata": {},
   "outputs": [],
   "source": [
    "x = not (5 > 1 or 2 > 3)          # False\n",
    "print(x)"
   ]
  },
  {
   "cell_type": "code",
   "execution_count": null,
   "id": "cb6e9128",
   "metadata": {},
   "outputs": [],
   "source": [
    "x = not (5 > 1 and 2 > 3)         # True\n",
    "print(x)"
   ]
  },
  {
   "cell_type": "code",
   "execution_count": null,
   "id": "694290af",
   "metadata": {},
   "outputs": [],
   "source": [
    "f = False                         # True                  \n",
    "x = not 8 < 5 and not f\n",
    "print(x)"
   ]
  },
  {
   "cell_type": "markdown",
   "id": "592305d0",
   "metadata": {},
   "source": [
    "## Aufgabe 3 - Identitätsoperator\n",
    "\n",
    "Zeigen die Objekte `dict_1` und `dict_2` im folgenden auf die selbe Stelle im Speicher?\n",
    "Was passiert wenn man den Wert des Schlüssel `\"key_A\"` in `dict_1` ändert? Wie sieht `dict_2` danach aus?"
   ]
  },
  {
   "cell_type": "code",
   "execution_count": 4,
   "id": "07722bca",
   "metadata": {},
   "outputs": [],
   "source": [
    "dict_1 = {\"key_A\" : 1} # Ja, die selbe Stelle, es ist eine Zuweisung und man hat keine Kopie mit .copy erstellt\n",
    "dict_2 = dict_1"
   ]
  },
  {
   "cell_type": "code",
   "execution_count": 7,
   "id": "b8f0ac2a",
   "metadata": {},
   "outputs": [
    {
     "name": "stdout",
     "output_type": "stream",
     "text": [
      "{'key_A': 5}\n"
     ]
    }
   ],
   "source": [
    "dict_1[\"key_A\"] = 5        # Wert in dict_1 ändert sich\n",
    "print(dict_1)"
   ]
  },
  {
   "cell_type": "code",
   "execution_count": 8,
   "id": "b6cf5aa6",
   "metadata": {},
   "outputs": [
    {
     "name": "stdout",
     "output_type": "stream",
     "text": [
      "{'key_A': 5}\n"
     ]
    }
   ],
   "source": [
    "print(dict_2)              # in dict_2 ändert sich der Wert genau so"
   ]
  },
  {
   "cell_type": "code",
   "execution_count": 11,
   "id": "e5a37995",
   "metadata": {},
   "outputs": [
    {
     "data": {
      "text/plain": [
       "True"
      ]
     },
     "execution_count": 11,
     "metadata": {},
     "output_type": "execute_result"
    }
   ],
   "source": [
    "dict_1 == dict_2"
   ]
  },
  {
   "cell_type": "markdown",
   "id": "59127de3",
   "metadata": {},
   "source": [
    "## Aufgabe 4 - Mitgliedschaftsoperator\n",
    "\n",
    "Überprüfe mittels dem `in` Operator ob das Element `2` in der Liste `my_list` ist. Überprüfe dann, ob die Liste `['A', 'B']` in der Liste `my_list` ist."
   ]
  },
  {
   "cell_type": "code",
   "execution_count": 9,
   "id": "c1902d8a",
   "metadata": {},
   "outputs": [
    {
     "data": {
      "text/plain": [
       "True"
      ]
     },
     "execution_count": 9,
     "metadata": {},
     "output_type": "execute_result"
    }
   ],
   "source": [
    "my_list = [1, 2, ['A', 'B']]\n",
    "2 in my_list"
   ]
  },
  {
   "cell_type": "code",
   "execution_count": 10,
   "id": "46eb7b16",
   "metadata": {},
   "outputs": [
    {
     "data": {
      "text/plain": [
       "True"
      ]
     },
     "execution_count": 10,
     "metadata": {},
     "output_type": "execute_result"
    }
   ],
   "source": [
    "[\"A\", \"B\"] in my_list"
   ]
  },
  {
   "cell_type": "markdown",
   "id": "5ee01ee6",
   "metadata": {},
   "source": [
    "## Aufgabe 5 - Operatoren in Verbindung mit anderen Datentypen\n",
    "\n",
    "Was ist die Ausgabe der folgenden Zellen? Was bedeutet das?"
   ]
  },
  {
   "cell_type": "code",
   "execution_count": 12,
   "id": "240d4661",
   "metadata": {},
   "outputs": [
    {
     "name": "stdout",
     "output_type": "stream",
     "text": [
      "True\n"
     ]
    }
   ],
   "source": [
    "print(\"Hallo\".upper() == \"HALLO\")\n",
    "# Durch \"Hallo\".upper() Umwandlung in Großbuchstaben --> deshalb \"HALLO\" == \"HALLO\" --> TRUE"
   ]
  },
  {
   "cell_type": "code",
   "execution_count": 13,
   "id": "e07f090c",
   "metadata": {},
   "outputs": [
    {
     "name": "stdout",
     "output_type": "stream",
     "text": [
      "True\n",
      "False\n"
     ]
    }
   ],
   "source": [
    "my_list = [1, 2, 3]\n",
    "my_list.append(4)\n",
    "\n",
    "print(my_list == [1, 2, 3, 4])          # Werte werden auf Gleichheit überprüft --> TRUE\n",
    "                                        \n",
    "\n",
    "print(id(my_list) == id([1, 2, 3, 4]))  # die gesamten Listen werden auf Gleichheit überprüft mit id --> FALSE\n",
    "                                        # --> [1, 2, 3, 4] --> hat keine id, weil keine Zuweisung, deshalb FALSE\n"
   ]
  },
  {
   "cell_type": "markdown",
   "id": "7598eaa8",
   "metadata": {},
   "source": [
    "## Aufgabe 6 - `or`\n",
    "\n",
    "Erstelle einen `True` boolischen Ausdruck, der aus 3 mit **`or`** verknüpften Ausdrücke besteht. Der erste soll Nummern und der zweite soll Strings vergleichen, während der dritte den boolischen Wert einer Nummer enthalten soll. "
   ]
  },
  {
   "cell_type": "code",
   "execution_count": 4,
   "id": "66da7eb0",
   "metadata": {},
   "outputs": [
    {
     "data": {
      "text/plain": [
       "True"
      ]
     },
     "execution_count": 4,
     "metadata": {},
     "output_type": "execute_result"
    }
   ],
   "source": [
    "4 > 5 or 10 != 20 or 5 > 5"
   ]
  },
  {
   "cell_type": "code",
   "execution_count": 10,
   "id": "84dd3bcc",
   "metadata": {},
   "outputs": [
    {
     "data": {
      "text/plain": [
       "True"
      ]
     },
     "execution_count": 10,
     "metadata": {},
     "output_type": "execute_result"
    }
   ],
   "source": [
    "\"Satz\" == \"Satz\" or \"10\" == \"Apfel\" or \"Innsbruck\" < \"Bozen\""
   ]
  },
  {
   "cell_type": "code",
   "execution_count": 13,
   "id": "704522f0",
   "metadata": {},
   "outputs": [
    {
     "data": {
      "text/plain": [
       "True"
      ]
     },
     "execution_count": 13,
     "metadata": {},
     "output_type": "execute_result"
    }
   ],
   "source": [
    "True == 1 or False == 1 or True == 0"
   ]
  },
  {
   "cell_type": "markdown",
   "id": "f88cd941",
   "metadata": {},
   "source": [
    "## Aufgabe 7 - `and`\n",
    "\n",
    "Erstelle einen `True` boolischen Ausdruck, der aus 3 mit **`and`** verknüpften Ausdrücke besteht. Der erste soll Nummern und der zweite soll Strings vergleichen, während der dritte eine Zahl in ein Boolean umwandelt. "
   ]
  },
  {
   "cell_type": "code",
   "execution_count": 17,
   "id": "4ba87e59",
   "metadata": {},
   "outputs": [
    {
     "data": {
      "text/plain": [
       "True"
      ]
     },
     "execution_count": 17,
     "metadata": {},
     "output_type": "execute_result"
    }
   ],
   "source": [
    "4 > 2 and 10 != 20 and 5 == 5"
   ]
  },
  {
   "cell_type": "code",
   "execution_count": 18,
   "id": "d83f22a2",
   "metadata": {},
   "outputs": [
    {
     "data": {
      "text/plain": [
       "True"
      ]
     },
     "execution_count": 18,
     "metadata": {},
     "output_type": "execute_result"
    }
   ],
   "source": [
    "\"Satz\" == \"Satz\" and \"Apfel\" == \"Apfel\" and \"Innsbruck\" != \"Bozen\""
   ]
  },
  {
   "cell_type": "code",
   "execution_count": 19,
   "id": "73dd35e4",
   "metadata": {},
   "outputs": [
    {
     "data": {
      "text/plain": [
       "True"
      ]
     },
     "execution_count": 19,
     "metadata": {},
     "output_type": "execute_result"
    }
   ],
   "source": [
    "True == 1 and False == 0 and True != False"
   ]
  },
  {
   "cell_type": "markdown",
   "id": "9bb6801b",
   "metadata": {},
   "source": [
    "## Aufgabe 8 - `not`\n",
    "\n",
    "Erstelle einen `True` boolischen Ausdruck, der aus 3 mit `and` verknüpften **`not`** Ausdrücke besteht. Der erste soll Nummern und der zweite soll Strings vergleichen, während der dritte eine Zahl in ein Boolean umwandelt. "
   ]
  },
  {
   "cell_type": "code",
   "execution_count": 20,
   "id": "1242152d",
   "metadata": {},
   "outputs": [
    {
     "data": {
      "text/plain": [
       "True"
      ]
     },
     "execution_count": 20,
     "metadata": {},
     "output_type": "execute_result"
    }
   ],
   "source": [
    "not(4 > 2 and 10 != 20 and 5 < 5)"
   ]
  },
  {
   "cell_type": "code",
   "execution_count": 21,
   "id": "8aded4be",
   "metadata": {},
   "outputs": [
    {
     "data": {
      "text/plain": [
       "True"
      ]
     },
     "execution_count": 21,
     "metadata": {},
     "output_type": "execute_result"
    }
   ],
   "source": [
    "not(\"Satz\" != \"Satz\" and \"Apfel\" == \"Apfel\" and \"Innsbruck\" != \"Bozen\")"
   ]
  },
  {
   "cell_type": "code",
   "execution_count": 22,
   "id": "7bd65aff",
   "metadata": {},
   "outputs": [
    {
     "data": {
      "text/plain": [
       "True"
      ]
     },
     "execution_count": 22,
     "metadata": {},
     "output_type": "execute_result"
    }
   ],
   "source": [
    "not(True == 1 and False > 0 and True != False)"
   ]
  },
  {
   "cell_type": "code",
   "execution_count": null,
   "id": "cac5707c",
   "metadata": {},
   "outputs": [],
   "source": []
  }
 ],
 "metadata": {
  "kernelspec": {
   "display_name": "Python 3 (ipykernel)",
   "language": "python",
   "name": "python3"
  },
  "language_info": {
   "codemirror_mode": {
    "name": "ipython",
    "version": 3
   },
   "file_extension": ".py",
   "mimetype": "text/x-python",
   "name": "python",
   "nbconvert_exporter": "python",
   "pygments_lexer": "ipython3",
   "version": "3.10.9"
  }
 },
 "nbformat": 4,
 "nbformat_minor": 5
}
