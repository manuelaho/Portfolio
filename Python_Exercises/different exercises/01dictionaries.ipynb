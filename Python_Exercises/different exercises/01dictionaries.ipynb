{
 "cells": [
  {
   "cell_type": "markdown",
   "id": "88fdd860",
   "metadata": {},
   "source": [
    "# Inhaltsverzeichnis \n",
    "\n",
    "- **Wörterbücher Aufgaben**\n",
    "    - **Aufgabe 1 - Dictionary erstellen**\n",
    "    - **Aufgabe 2 - Werte ändern**\n",
    "    - **Aufgabe 3 - Dimensionen**\n",
    "    - **Aufgabe 4 - Werte lesen**\n"
   ]
  },
  {
   "cell_type": "markdown",
   "id": "64b5a1f1",
   "metadata": {},
   "source": [
    "# Wörterbücher Aufgaben"
   ]
  },
  {
   "cell_type": "markdown",
   "id": "6487ed07",
   "metadata": {},
   "source": [
    "## Aufgabe 1 - Dictionary erstellen\n",
    "\n",
    "- Erstelle ein Wörterbuch eines Hundes mit `name` (String), `breed` (String), `age` (Integer)."
   ]
  },
  {
   "cell_type": "code",
   "execution_count": 2,
   "id": "b67b2e01",
   "metadata": {},
   "outputs": [
    {
     "name": "stdout",
     "output_type": "stream",
     "text": [
      "{'Name': 'Flockie', 'Rasse': 'Dackel', 'Alter': 4}\n"
     ]
    }
   ],
   "source": [
    "hund = {\"Name\" : \"Flockie\", \"Rasse\" : \"Dackel\", \"Alter\" : 4}\n",
    "print(hund)"
   ]
  },
  {
   "cell_type": "markdown",
   "id": "4a6d89d3",
   "metadata": {},
   "source": [
    "## Aufgabe 2 - Werte ändern\n",
    "\n",
    "- Füge nach der Initialisierung den Schlüssel `good_dog` (Boolean) ein.\n",
    "- Überschreib den Wert für `age` mit `5`. "
   ]
  },
  {
   "cell_type": "code",
   "execution_count": 3,
   "id": "28240558",
   "metadata": {},
   "outputs": [
    {
     "name": "stdout",
     "output_type": "stream",
     "text": [
      "{'Name': 'Flockie', 'Rasse': 'Dackel', 'Alter': 4, 'braver Hund': True}\n"
     ]
    }
   ],
   "source": [
    "hund[\"braver Hund\"] = True\n",
    "print(hund)"
   ]
  },
  {
   "cell_type": "code",
   "execution_count": 4,
   "id": "c4a52390",
   "metadata": {},
   "outputs": [
    {
     "name": "stdout",
     "output_type": "stream",
     "text": [
      "{'Name': 'Flockie', 'Rasse': 'Dackel', 'Alter': 5, 'braver Hund': True}\n"
     ]
    }
   ],
   "source": [
    "hund[\"Alter\"] = 5\n",
    "print(hund)"
   ]
  },
  {
   "cell_type": "markdown",
   "id": "cd71826f",
   "metadata": {},
   "source": [
    "## Aufgabe 3 - Dimensionen\n",
    "\n",
    "- Gib die Anzahl der Schlüssel auf der Konsole aus.\n",
    "- Gib die Schlüssel auf der Konsole aus. "
   ]
  },
  {
   "cell_type": "code",
   "execution_count": 6,
   "id": "8ce00eac",
   "metadata": {},
   "outputs": [
    {
     "name": "stdout",
     "output_type": "stream",
     "text": [
      "4\n"
     ]
    }
   ],
   "source": [
    "print(len(hund))"
   ]
  },
  {
   "cell_type": "code",
   "execution_count": 7,
   "id": "e2b14c20",
   "metadata": {},
   "outputs": [
    {
     "name": "stdout",
     "output_type": "stream",
     "text": [
      "dict_keys(['Name', 'Rasse', 'Alter', 'braver Hund'])\n"
     ]
    }
   ],
   "source": [
    "print(hund.keys())"
   ]
  },
  {
   "cell_type": "markdown",
   "id": "a3b77a76",
   "metadata": {},
   "source": [
    "## Aufgabe 4 - Werte lesen\n",
    "\n",
    "- Gib alle Werte auf der Konsole aus.\n",
    "- Gib die Key-Value Tupeln auf der Konsole aus.\n",
    "- Gib nur den Wert für `name` auf der Konsole aus."
   ]
  },
  {
   "cell_type": "code",
   "execution_count": 9,
   "id": "2b848008",
   "metadata": {},
   "outputs": [
    {
     "name": "stdout",
     "output_type": "stream",
     "text": [
      "dict_values(['Flockie', 'Dackel', 5, True])\n"
     ]
    }
   ],
   "source": [
    "print(hund.values())"
   ]
  },
  {
   "cell_type": "code",
   "execution_count": 10,
   "id": "61500c61",
   "metadata": {},
   "outputs": [
    {
     "name": "stdout",
     "output_type": "stream",
     "text": [
      "dict_items([('Name', 'Flockie'), ('Rasse', 'Dackel'), ('Alter', 5), ('braver Hund', True)])\n"
     ]
    }
   ],
   "source": [
    "print(hund.items())"
   ]
  },
  {
   "cell_type": "code",
   "execution_count": 12,
   "id": "ee3ad000",
   "metadata": {},
   "outputs": [
    {
     "name": "stdout",
     "output_type": "stream",
     "text": [
      "Flockie\n"
     ]
    }
   ],
   "source": [
    "print(hund[\"Name\"])"
   ]
  },
  {
   "cell_type": "code",
   "execution_count": null,
   "id": "814906ce",
   "metadata": {},
   "outputs": [],
   "source": []
  }
 ],
 "metadata": {
  "kernelspec": {
   "display_name": "Python 3 (ipykernel)",
   "language": "python",
   "name": "python3"
  },
  "language_info": {
   "codemirror_mode": {
    "name": "ipython",
    "version": 3
   },
   "file_extension": ".py",
   "mimetype": "text/x-python",
   "name": "python",
   "nbconvert_exporter": "python",
   "pygments_lexer": "ipython3",
   "version": "3.10.9"
  }
 },
 "nbformat": 4,
 "nbformat_minor": 5
}
