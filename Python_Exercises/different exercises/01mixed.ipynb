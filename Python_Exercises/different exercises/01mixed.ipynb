{
 "cells": [
  {
   "cell_type": "markdown",
   "id": "efcd05e1",
   "metadata": {},
   "source": [
    "# Inhaltsverzeichnis \n",
    "\n",
    "- **Übungen Woche 1**\n",
    "    - **Aufgabe 1: Mittelwert**\n",
    "    - **Aufgabe 2: Tage in Sekunden umrechnen**\n",
    "    - **Aufgabe 3: Dollar in Euro umrechnen**\n",
    "    - **Aufgabe 4: Eulersche Zahl**\n",
    "    - **Aufgabe 5: Zahlen addieren**\n",
    "    - **Aufgabe 6: Fläche eines Kreises**\n",
    "    - **Aufgabe 7: Ausgabe**\n",
    "    - **Aufgabe 8: Variablen vertauschen**\n"
   ]
  },
  {
   "cell_type": "markdown",
   "id": "a1a5ef1b",
   "metadata": {},
   "source": [
    "# Übungen Woche 1\n",
    "\n",
    "In diesem Übungsblatt befinden sich Aufgaben, welche die Konzepte der letzten Woche wiederholen. \n",
    "\n",
    "## Aufgabe 1: Mittelwert\n",
    "\n",
    "- Schreibe ein Programm, das 2 Zahlen von dem\\*der Nutzer\\*in als Input erwartet und daraufhin den Mittelwert der beiden Zahlen auf der Konsole ausgibt. \n",
    "- Der Mittelwert zweier Zahlen $a$ und $b$ ist definiert als\n",
    "\n",
    "\\begin{align}\n",
    "\\frac{a+b}{2}\n",
    "\\end{align}.\n",
    "\n",
    "> <span style=\"color:green\"> **_ERINNERUNG:_** </span> Vergiss nicht, die Eingabe mittels `int()` in Zahlen umzuwandeln!"
   ]
  },
  {
   "cell_type": "code",
   "execution_count": 13,
   "id": "6a756c42",
   "metadata": {},
   "outputs": [
    {
     "name": "stdout",
     "output_type": "stream",
     "text": [
      "Wie alt bist du? 48\n",
      "Wie alt bist du? 54\n"
     ]
    }
   ],
   "source": [
    "alter01 = input(\"Wie alt bist du? \")\n",
    "alter02 = input(\"Wie alt bist du? \")"
   ]
  },
  {
   "cell_type": "code",
   "execution_count": 14,
   "id": "42b6385f",
   "metadata": {},
   "outputs": [
    {
     "name": "stdout",
     "output_type": "stream",
     "text": [
      "51.0\n"
     ]
    }
   ],
   "source": [
    "alter_durchschnitt = ((int(alter01) + int(alter02)) / 2)\n",
    "print(alter_durchschnitt)"
   ]
  },
  {
   "cell_type": "markdown",
   "id": "78932044",
   "metadata": {},
   "source": [
    "## Aufgabe 2: Tage in Sekunden umrechnen\n",
    "\n",
    "- Schreibe ein Programm, welches eine Zahl, die einer Anzahl an Tagen entspricht, als Input erbittet. Gibt die Dauer dieser Tage in Sekunden auf der Konsole aus."
   ]
  },
  {
   "cell_type": "code",
   "execution_count": 15,
   "id": "15d12fff",
   "metadata": {},
   "outputs": [
    {
     "name": "stdout",
     "output_type": "stream",
     "text": [
      "Wie viele Tage hast du frei? 3\n"
     ]
    }
   ],
   "source": [
    "tage = input(\"Wie viele Tage hast du frei? \")"
   ]
  },
  {
   "cell_type": "code",
   "execution_count": 18,
   "id": "b901a05b",
   "metadata": {},
   "outputs": [
    {
     "name": "stdout",
     "output_type": "stream",
     "text": [
      "Drei Tage sind  259200 Sekunden\n"
     ]
    }
   ],
   "source": [
    "sekunden = int(tage) * 24 * 60 * 60 \n",
    "print(\"Drei Tage sind \", sekunden, \"Sekunden\")"
   ]
  },
  {
   "cell_type": "markdown",
   "id": "1b2bd39a",
   "metadata": {},
   "source": [
    "## Aufgabe 3: Dollar in Euro umrechnen\n",
    "\n",
    "- Schreibe ein Programm, welches den\\*die Nutzer\\*in nach einem Betrag in Dollar fragt. Gib ihm\\*ihr den Betrag in Euro aus. \n",
    "- Der (fiktive) Umrechnungskurs lautet \n",
    "\n",
    "\\begin{align}\n",
    "1\\$ = 0.83 €.\n",
    "\\end{align}\n"
   ]
  },
  {
   "cell_type": "code",
   "execution_count": 19,
   "id": "9d523ba6",
   "metadata": {},
   "outputs": [
    {
     "name": "stdout",
     "output_type": "stream",
     "text": [
      "Wie viele Dollar hast du dabei? 100\n"
     ]
    }
   ],
   "source": [
    "dollar = input(\"Wie viele Dollar hast du dabei? \")"
   ]
  },
  {
   "cell_type": "code",
   "execution_count": 20,
   "id": "248dc236",
   "metadata": {},
   "outputs": [
    {
     "name": "stdout",
     "output_type": "stream",
     "text": [
      "100 Dollar sind 83.0 Euro\n"
     ]
    }
   ],
   "source": [
    "euro = float(dollar) * 0.83\n",
    "print(\"100 Dollar sind\", euro, \"Euro\")"
   ]
  },
  {
   "cell_type": "markdown",
   "id": "1b793e61",
   "metadata": {},
   "source": [
    "## Aufgabe 4: Eulersche Zahl\n",
    "\n",
    " - Die [**eulersche Zahl**](https://de.wikipedia.org/wiki/Eulersche_Zahl) ist eine wichtige Konstante in der Mathematik (und Natur). Sie wird mit $e$ abgekürzt und ihr Wert ist $e = 2,71828182...$.\n",
    "\n",
    "- Eine mögliche Art $e$ zu berechnen ist über die Formel\n",
    "\\begin{align}\n",
    "e = \\lim_{t\\rightarrow\\infty}(1+\\frac{1}{t})^t\n",
    "\\end{align}\n",
    "\n",
    "- Wir wollen uns nun das Ergebnis für unterschiedliche Wert von $t$ anschauen.\n",
    "\n",
    "- Schreibe ein Programm, welches dir die folgenden Zahlen $A,B$ und $C$ berechnet:\n",
    "\n",
    "\\begin{align}\n",
    "A = (1+\\frac{1}{200})^{200} \\\\\n",
    "B = (1+\\frac{1}{500})^{500} \\\\\n",
    "C = (1+\\frac{1}{1000})^{1000} \\\\\n",
    "\\end{align}"
   ]
  },
  {
   "cell_type": "code",
   "execution_count": 22,
   "id": "488e3842",
   "metadata": {},
   "outputs": [
    {
     "name": "stdout",
     "output_type": "stream",
     "text": [
      "A ergibt 2.711517122929317\n",
      "B ergibt 2.715568520651728\n",
      "C ergibt 2.7169239322355936\n"
     ]
    }
   ],
   "source": [
    "a = (1 + (1/200)) ** 200\n",
    "print(\"A ergibt\", a)\n",
    "b = (1 + (1/500)) ** 500\n",
    "print(\"B ergibt\", b)\n",
    "c = (1 + (1/1000)) ** 1000\n",
    "print(\"C ergibt\", c)"
   ]
  },
  {
   "cell_type": "markdown",
   "id": "898f4ddf",
   "metadata": {},
   "source": [
    "## Aufgabe 5: Zahlen addieren\n",
    "\n",
    "- Schreibe ein Programm, welches von dem\\*der Nutzer\\*in 2 Zahlen erfragt. Addiere beide Zahlen und teile ihm\\*ihr das Ergebnis in einer erklärenden Ausgabe auf der Konsole mit."
   ]
  },
  {
   "cell_type": "code",
   "execution_count": 24,
   "id": "0e5d40fe",
   "metadata": {},
   "outputs": [
    {
     "name": "stdout",
     "output_type": "stream",
     "text": [
      "Sag mir eine Zahl 33\n",
      "Sag mir noch eine Zahl 27\n"
     ]
    }
   ],
   "source": [
    "zahl01 = input(\"Sag mir eine Zahl \")\n",
    "zahl02 = input(\"Sag mir noch eine Zahl \")"
   ]
  },
  {
   "cell_type": "code",
   "execution_count": 25,
   "id": "2e28feea",
   "metadata": {},
   "outputs": [
    {
     "name": "stdout",
     "output_type": "stream",
     "text": [
      "Die Summe der beiden Zahlen ist 60\n"
     ]
    }
   ],
   "source": [
    "ergebnis = int(zahl01) + int(zahl02)\n",
    "print(\"Die Summe der beiden Zahlen ist\", ergebnis)   #ODER"
   ]
  },
  {
   "cell_type": "code",
   "execution_count": 36,
   "id": "6b5c408f",
   "metadata": {},
   "outputs": [
    {
     "name": "stdout",
     "output_type": "stream",
     "text": [
      "33 + 27 = 60\n"
     ]
    }
   ],
   "source": [
    "print(zahl01, \"+\", zahl02, \"=\", ergebnis)"
   ]
  },
  {
   "cell_type": "markdown",
   "id": "de9a8184",
   "metadata": {},
   "source": [
    "## Aufgabe 6: Fläche eines Kreises \n",
    "\n",
    "- Schreibe ein Programm, welches einen Radius als Input erwartet. Teile ihm daraufhin die [Fläche eines Kreises](https://de.wikipedia.org/wiki/Kreis#Kreisfl%C3%A4che) mit diesem Radius mit. \n",
    "\n"
   ]
  },
  {
   "cell_type": "code",
   "execution_count": 6,
   "id": "b1b2ed76",
   "metadata": {},
   "outputs": [
    {
     "name": "stdout",
     "output_type": "stream",
     "text": [
      "Welchen Radius hat dieser Kreis 5.5\n"
     ]
    }
   ],
   "source": [
    "radius = input(\"Welchen Radius hat dieser Kreis \")"
   ]
  },
  {
   "cell_type": "code",
   "execution_count": 12,
   "id": "30aaa629",
   "metadata": {},
   "outputs": [
    {
     "name": "stdout",
     "output_type": "stream",
     "text": [
      "Die Fläche des Kreises ist 95.0334\n"
     ]
    }
   ],
   "source": [
    "fläche =  (((float(radius)) * 2) ** 2) * 0.78540\n",
    "print(\"Die Fläche des Kreises ist\", fläche)\n"
   ]
  },
  {
   "cell_type": "markdown",
   "id": "5b374893",
   "metadata": {},
   "source": [
    "## Aufgabe 7: Ausgabe \n",
    "\n",
    "- Die Variablen `x=4` und `y=3` seien gegeben. Erzeugt mit diesen Variablen die Ausgabe \n",
    "\n",
    "> `4 + 3 = 7`"
   ]
  },
  {
   "cell_type": "code",
   "execution_count": 14,
   "id": "f72bb9ef",
   "metadata": {},
   "outputs": [
    {
     "name": "stdout",
     "output_type": "stream",
     "text": [
      "4 + 3 = 7\n"
     ]
    }
   ],
   "source": [
    "x=4\n",
    "y=3\n",
    "z= x+y\n",
    "print(x, \"+\", y, \"=\", z)"
   ]
  },
  {
   "cell_type": "markdown",
   "id": "d360cdce",
   "metadata": {},
   "source": [
    "## Aufgabe 8: Variablen vertauschen\n",
    "\n",
    "- Schreibe ein Programm, welches die Werte der Variablen `x` und `y` vertauscht. "
   ]
  },
  {
   "cell_type": "code",
   "execution_count": 22,
   "id": "9a30a824",
   "metadata": {},
   "outputs": [
    {
     "name": "stdout",
     "output_type": "stream",
     "text": [
      "Der Wert von x = 6\n",
      "Der Wert von y = 5\n"
     ]
    }
   ],
   "source": [
    "x = 5 \n",
    "y = 6 \n",
    "x,y = y,x\n",
    "print(\"Der Wert von x =\", x)\n",
    "print(\"Der Wert von y =\", y)                # ODER\n"
   ]
  },
  {
   "cell_type": "code",
   "execution_count": 34,
   "id": "6798a9bd",
   "metadata": {},
   "outputs": [
    {
     "name": "stdout",
     "output_type": "stream",
     "text": [
      "Der Wert von x = 6\n",
      "Der Wert von y = 5\n"
     ]
    }
   ],
   "source": [
    "x = 5\n",
    "y = 6\n",
    "z = x + y\n",
    "x = z - x\n",
    "y = z - y\n",
    "print(\"Der Wert von x =\", x)\n",
    "print(\"Der Wert von y =\", y)"
   ]
  },
  {
   "cell_type": "code",
   "execution_count": null,
   "id": "bae97d6e",
   "metadata": {},
   "outputs": [],
   "source": []
  }
 ],
 "metadata": {
  "kernelspec": {
   "display_name": "Python 3 (ipykernel)",
   "language": "python",
   "name": "python3"
  },
  "language_info": {
   "codemirror_mode": {
    "name": "ipython",
    "version": 3
   },
   "file_extension": ".py",
   "mimetype": "text/x-python",
   "name": "python",
   "nbconvert_exporter": "python",
   "pygments_lexer": "ipython3",
   "version": "3.10.9"
  }
 },
 "nbformat": 4,
 "nbformat_minor": 5
}
