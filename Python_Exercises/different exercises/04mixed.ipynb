{
 "cells": [
  {
   "cell_type": "markdown",
   "id": "bf69b428",
   "metadata": {},
   "source": [
    "# Inhaltsverzeichnis \n",
    "\n",
    "- **Übungen Woche 4**\n",
    "    - **Aufgabe 1: Negative Zahlen**\n",
    "    - **Aufgabe 2: Zwischenwert**\n",
    "    - **Aufgabe 3: Pi**\n",
    "    - **Aufgabe 4: Verschachtelte Listen**\n",
    "    - **Aufgabe 5: Sortierte Liste**\n",
    "    - **Aufgabe 6: Teiler**\n",
    "    - **Aufgabe 7: Satz umkehren**\n"
   ]
  },
  {
   "cell_type": "markdown",
   "id": "618f3309",
   "metadata": {},
   "source": [
    "## Aufgabe 1: Negative Zahlen\n",
    "\n",
    "- Wandel in der folgenden Liste jeden Wert in sein Negatives um, aus `[3, 2, 1]` wird `[-3, -2, -1]`. Auch hier gibt es mehrere Möglichkeiten. "
   ]
  },
  {
   "cell_type": "code",
   "execution_count": 1,
   "id": "e2645308",
   "metadata": {},
   "outputs": [
    {
     "name": "stdout",
     "output_type": "stream",
     "text": [
      "[-3, -2, -1]\n"
     ]
    }
   ],
   "source": [
    "numbers = [3, 2, 1]\n",
    "list_neg = []\n",
    "for z in numbers:\n",
    "    if z > 0:\n",
    "        list_neg.append(z * (-1))\n",
    "print(list_neg)"
   ]
  },
  {
   "cell_type": "markdown",
   "id": "44305778",
   "metadata": {},
   "source": [
    "## Aufgabe 2: Zwischenwert"
   ]
  },
  {
   "cell_type": "markdown",
   "id": "5a8b87bb",
   "metadata": {},
   "source": [
    "- Schreibe eine Funktion die 3 Zahlen $x,y,z$ als Argumente erhält. Die Funktion soll `True` zurückgeben, wenn $y$ zwischen $x$ und $z$ liegt, d.h. wenn gilt \n",
    "\n",
    "\\begin{align}\n",
    "x \\leq y \\leq z\n",
    "\\end{align}\n",
    "\n",
    "- Falls dies nicht erfüllt ist, soll `False` zurückgegeben werden.\n",
    "\n",
    "\\begin{align}\n",
    "f(1,2,3) &\\Longrightarrow \\text{True} \\\\\n",
    "f(1,3,2) &\\Longrightarrow \\text{False}\n",
    "\\end{align}\n"
   ]
  },
  {
   "cell_type": "code",
   "execution_count": 2,
   "id": "b46c1ff1",
   "metadata": {},
   "outputs": [
    {
     "data": {
      "text/plain": [
       "True"
      ]
     },
     "execution_count": 2,
     "metadata": {},
     "output_type": "execute_result"
    }
   ],
   "source": [
    "def zahlen(x,y,z):\n",
    "\n",
    "    if x <= y <= z:\n",
    "        return True\n",
    "    else:\n",
    "        return False\n",
    "\n",
    "zahlen(1,2,3)"
   ]
  },
  {
   "cell_type": "markdown",
   "id": "720a4cd4",
   "metadata": {},
   "source": [
    "## Aufgabe 3: Pi\n",
    "\n",
    "Die [Leibniz-Reihe](https://de.wikipedia.org/wiki/Leibniz-Reihe) ist eine Formel mit welcher der Wert von $\\pi$ angenähert werden kann. Sie ist definiert als\n",
    "\n",
    "\\begin{align}\n",
    "\\sum_{k=0}^{\\infty} \\frac{4 \\cdot (-1)^k}{2k+1} =4\\cdot (1 - \\frac{1}{3} + \\frac{1}{5} - \\frac{1}{7} + \\frac{1}{9} - ... )=  \\pi\n",
    "\\end{align}\n",
    "\n",
    "Berechne die Summe für die ersten $1000$ Glieder der Summe und bestätige damit, dass der Wert tatsächliche nahe an der Zahl $\\pi=3.1415...$ liegt.\n",
    "\n",
    "\n"
   ]
  },
  {
   "cell_type": "code",
   "execution_count": 3,
   "id": "c601b418",
   "metadata": {},
   "outputs": [
    {
     "name": "stdout",
     "output_type": "stream",
     "text": [
      "3.140592653839794\n"
     ]
    }
   ],
   "source": [
    "summe = 0\n",
    "for k in range(1000):\n",
    "    operation = 4 * ((-1) ** k) / ((2 * k) + 1)\n",
    "    \n",
    "    summe+= operation\n",
    "    \n",
    "\n",
    "print(summe)"
   ]
  },
  {
   "cell_type": "markdown",
   "id": "a182caf5",
   "metadata": {},
   "source": [
    "## Aufgabe 4: Verschachtelte Listen\n",
    "\n",
    "- Schreibe eine Funktion, welche als Argument eine Liste bekommt. Diese Liste *kann* eine Liste von Listen sein (_muss_ aber nicht - siehe erstes Beispiel). \n",
    "   Die Funktion soll die Summe **aller** Zahlen in dieser Liste zurückliefern.\n",
    "   \n",
    "**Beispiele:**\n",
    "   \n",
    "\\begin{align}\n",
    "       f([1,2,3]) &\\Longrightarrow 6 \\\\\n",
    "       f([1,[2,4],3]) &\\Longrightarrow 10 \\\\\n",
    "       f([1,[2,4],[3], [1,2,3],4,5]) &\\Longrightarrow 25\n",
    "\\end{align}\n",
    "\n",
    "- Die Funktion `isinstance(e,list)` um zu überprüfen, ob `e` eine Liste ist, ist sehr hilfreich!"
   ]
  },
  {
   "cell_type": "code",
   "execution_count": 4,
   "id": "71456d39",
   "metadata": {},
   "outputs": [
    {
     "data": {
      "text/plain": [
       "25"
      ]
     },
     "execution_count": 4,
     "metadata": {},
     "output_type": "execute_result"
    }
   ],
   "source": [
    "def schachtel_list(liste):\n",
    "    summe = 0\n",
    "    \n",
    "    for e in liste:\n",
    "        \n",
    "        if not isinstance(e, list):\n",
    "            summe+= e\n",
    "            \n",
    "        else:\n",
    "            for i in e:\n",
    "                summe += i\n",
    "                \n",
    "    return summe\n",
    "    \n",
    "schachtel_list([1,[2,4],[3],[1,2,3],4,5])     "
   ]
  },
  {
   "cell_type": "markdown",
   "id": "65ccabdb",
   "metadata": {},
   "source": [
    "## Aufgabe 5: Sortierte Liste \n",
    "\n",
    "- Schreibe eine Funktion, die eine Liste als Argument erwartet. Die Funktion soll `True` zurückgegeben, wenn die Elemente von klein nach groß sortiert sind.\n",
    "\n",
    "**Beispiele:**\n",
    "\n",
    "\\begin{align}\n",
    "f([1,2,3]) &\\Longrightarrow \\text{True} \\\\\n",
    "f([1,3,2,4,5] &\\Longrightarrow \\text{False} \\\\\n",
    "f([100,200,300]) &\\Longrightarrow \\text{True}\n",
    "\\end{align}"
   ]
  },
  {
   "cell_type": "code",
   "execution_count": 5,
   "id": "6f3be292",
   "metadata": {},
   "outputs": [
    {
     "data": {
      "text/plain": [
       "True"
      ]
     },
     "execution_count": 5,
     "metadata": {},
     "output_type": "execute_result"
    }
   ],
   "source": [
    "def klein_groß(liste):\n",
    "    \n",
    "    for i in range(1, len(liste)):                  \n",
    "        \n",
    "        if liste[i] < liste[i - 1]:\n",
    "            return False                          \n",
    "        \n",
    "    return True\n",
    "    \n",
    "klein_groß([1,2,3,4,5])"
   ]
  },
  {
   "cell_type": "markdown",
   "id": "384dd606",
   "metadata": {},
   "source": [
    "## Aufgabe 6: Teiler \n",
    "\n",
    "- Schreibe eine Funktion die eine ganze Zahl als Argument übergeben bekommt. Die Funktion soll eine Liste mit allen Teilern dieser Zahl zurückgeben.\n",
    "\n",
    "\\begin{align}\n",
    "f(17) &\\Longrightarrow [1,17] \\\\\n",
    "f(8) &\\Longrightarrow [1,2,4,8]\n",
    "\\end{align}\n",
    "\n",
    "- **Optional:** Ist es (mit einer List-Comprehension) möglich, dass die gesuchte Funktion nur aus **einer** Zeile Code besteht?"
   ]
  },
  {
   "cell_type": "code",
   "execution_count": 6,
   "id": "6af6382e",
   "metadata": {},
   "outputs": [
    {
     "data": {
      "text/plain": [
       "[1, 2, 4, 8]"
      ]
     },
     "execution_count": 6,
     "metadata": {},
     "output_type": "execute_result"
    }
   ],
   "source": [
    "def teiler(zahl):\n",
    "    \n",
    "    ergebnis = []\n",
    "    \n",
    "    for i in range(1, zahl +1):\n",
    "        \n",
    "        if zahl % i == 0:\n",
    "            ergebnis.append(i)\n",
    "    return ergebnis\n",
    "\n",
    "teiler(8)"
   ]
  },
  {
   "cell_type": "code",
   "execution_count": 7,
   "id": "fefb2456",
   "metadata": {},
   "outputs": [
    {
     "name": "stdout",
     "output_type": "stream",
     "text": [
      "[1, 2, 4, 8]\n"
     ]
    }
   ],
   "source": [
    "# optional mit list-comprehension\n",
    "\n",
    "zahl = 8\n",
    "\n",
    "liste = [teiler for teiler in range(1, zahl + 1) if zahl % teiler == 0]\n",
    "\n",
    "print(liste)"
   ]
  },
  {
   "cell_type": "markdown",
   "id": "d849014e",
   "metadata": {},
   "source": [
    "## Aufgabe 7: Satz umkehren\n",
    "\n",
    "- Schreibe eine Funktion die einen Satz übergeben bekommt, und als Ergebnis die Wörter des Satzes in umgekehrter Reihenfolge zurück gibt. \n",
    "\n",
    "**Beispiel**:\n",
    "\n",
    "\\begin{align}\n",
    "f(\\text{\"Das ist ein Satz\"}) &\\Longrightarrow \\text{\"Satz ein ist Das\"}\n",
    "\\end{align}"
   ]
  },
  {
   "cell_type": "code",
   "execution_count": 10,
   "id": "a050dba1",
   "metadata": {},
   "outputs": [
    {
     "data": {
      "text/plain": [
       "'Satz ein ist Das'"
      ]
     },
     "execution_count": 10,
     "metadata": {},
     "output_type": "execute_result"
    }
   ],
   "source": [
    "def drehen(satz):\n",
    "    split_satz = satz.split()\n",
    "    umwandlung = \"\"\n",
    "    \n",
    "    for i in range(len(split_satz) - 1, -1, -1):              \n",
    "        \n",
    "        if i == 0:\n",
    "            umwandlung += split_satz[i]\n",
    "            \n",
    "        else:\n",
    "            umwandlung += split_satz[i] + \" \"\n",
    "        \n",
    "    return umwandlung\n",
    "    \n",
    "drehen(\"Das ist ein Satz\") "
   ]
  },
  {
   "cell_type": "code",
   "execution_count": null,
   "id": "fc027c4b",
   "metadata": {},
   "outputs": [],
   "source": []
  }
 ],
 "metadata": {
  "kernelspec": {
   "display_name": "Python 3 (ipykernel)",
   "language": "python",
   "name": "python3"
  },
  "language_info": {
   "codemirror_mode": {
    "name": "ipython",
    "version": 3
   },
   "file_extension": ".py",
   "mimetype": "text/x-python",
   "name": "python",
   "nbconvert_exporter": "python",
   "pygments_lexer": "ipython3",
   "version": "3.10.9"
  }
 },
 "nbformat": 4,
 "nbformat_minor": 5
}
