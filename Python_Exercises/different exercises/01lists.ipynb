{
 "cells": [
  {
   "cell_type": "markdown",
   "id": "f030c202",
   "metadata": {},
   "source": [
    "# Inhaltsverzeichnis \n",
    "\n",
    "- **Übungen zu Listen**\n",
    "    - **Aufgabe 1 - Länge einer Liste**\n",
    "    - **Aufgabe 2 - Liste erzeugen**\n",
    "    - **Aufgabe 3 - Liste erzeugen**\n",
    "    - **Aufgabe 4 - Liste erzeugen**\n",
    "    - **Aufgabe 5 - Liste erzeugen**\n",
    "    - **Aufgabe 6 - Slicing**\n",
    "    - **Aufgabe 7 - Listen zusammenfügen**\n",
    "    - **Aufgabe 8 - Element abfragen**\n",
    "    - **Aufgabe 9 - Element ändern**\n",
    "    - **Aufgabe 10 - Element entfernen**\n",
    "    - **Aufgabe 11 - Liste umdrehen**\n"
   ]
  },
  {
   "cell_type": "markdown",
   "id": "a69e4a25",
   "metadata": {},
   "source": [
    "# Übungen zu Listen\n",
    "\n",
    "## Aufgabe 1 - Länge einer Liste\n",
    "\n",
    "Lass dir von den folgenden Listen die Länge ausgeben. Nutzt dafür den `len`-Befehl."
   ]
  },
  {
   "cell_type": "code",
   "execution_count": 48,
   "id": "cb64d0ec",
   "metadata": {},
   "outputs": [
    {
     "name": "stdout",
     "output_type": "stream",
     "text": [
      "5\n",
      "0\n",
      "4\n",
      "2\n"
     ]
    }
   ],
   "source": [
    "list1 = [1, 2, 3, 4, 5]\n",
    "list2 = []\n",
    "list3 = [1, 2, \"A\", \"B\"]\n",
    "list4 = [1, [2, 3]]\n",
    "\n",
    "print(len(list1))\n",
    "print(len(list2))\n",
    "print(len(list3))\n",
    "print(len(list4))"
   ]
  },
  {
   "cell_type": "markdown",
   "id": "6cf6f8c0",
   "metadata": {},
   "source": [
    "## Aufgabe 2 - Liste erzeugen\n",
    "\n",
    "- Erzeuge eine Liste `[0,1,2,3,4,5,6,7,8,9,10,11]`. Nutze hierfür die `range()`-Funktion.\n"
   ]
  },
  {
   "cell_type": "code",
   "execution_count": 49,
   "id": "5f9d6616",
   "metadata": {},
   "outputs": [
    {
     "name": "stdout",
     "output_type": "stream",
     "text": [
      "[0, 1, 2, 3, 4, 5, 6, 7, 8, 9, 10, 11]\n"
     ]
    }
   ],
   "source": [
    "x = range(12)\n",
    "print(list(x))                                   # ODER"
   ]
  },
  {
   "cell_type": "code",
   "execution_count": 50,
   "id": "aab9a4df",
   "metadata": {},
   "outputs": [
    {
     "name": "stdout",
     "output_type": "stream",
     "text": [
      "[0, 1, 2, 3, 4, 5, 6, 7, 8, 9, 10, 11]\n"
     ]
    }
   ],
   "source": [
    "print(list(range(12)))"
   ]
  },
  {
   "cell_type": "markdown",
   "id": "eae3bb2b",
   "metadata": {},
   "source": [
    "## Aufgabe 3 - Liste erzeugen\n",
    "\n",
    "- Erzeuge eine Liste `[0,2,4,6,8,10]`. Nutze hierfür die `range()`-Funktion."
   ]
  },
  {
   "cell_type": "code",
   "execution_count": 51,
   "id": "6b9db985",
   "metadata": {},
   "outputs": [
    {
     "name": "stdout",
     "output_type": "stream",
     "text": [
      "[0, 2, 4, 6, 8, 10]\n"
     ]
    }
   ],
   "source": [
    "y = range (0, 11, 2)                            # ODER\n",
    "print(list(y))"
   ]
  },
  {
   "cell_type": "code",
   "execution_count": 52,
   "id": "15b5229b",
   "metadata": {},
   "outputs": [
    {
     "name": "stdout",
     "output_type": "stream",
     "text": [
      "[0, 2, 4, 6, 8, 10]\n"
     ]
    }
   ],
   "source": [
    "print(list(range(0, 11, 2)))"
   ]
  },
  {
   "cell_type": "markdown",
   "id": "fe7c31e6",
   "metadata": {},
   "source": [
    "## Aufgabe 4 - Liste erzeugen\n",
    "\n",
    "- Erzeuge eine Liste `[1,3,5,7,9]`. Nutze hierfür die `range()`-Funktion."
   ]
  },
  {
   "cell_type": "code",
   "execution_count": 53,
   "id": "89bcb64c",
   "metadata": {},
   "outputs": [
    {
     "name": "stdout",
     "output_type": "stream",
     "text": [
      "[1, 3, 5, 7, 9]\n"
     ]
    }
   ],
   "source": [
    "z = range (1, 10, 2)\n",
    "print(list(z))"
   ]
  },
  {
   "cell_type": "markdown",
   "id": "fe334efa",
   "metadata": {},
   "source": [
    "## Aufgabe 5 - Liste erzeugen\n",
    "\n",
    "- Erzeuge eine Liste mit 50 Nullen, `[0,0,0,0,0,...,0]`. Stelle durch die Funktion `count` sicher, dass die Liste *wirklich* 50 Nullen enthält.\n",
    "\n"
   ]
  },
  {
   "cell_type": "code",
   "execution_count": 54,
   "id": "dbe2a588",
   "metadata": {},
   "outputs": [
    {
     "name": "stdout",
     "output_type": "stream",
     "text": [
      "[0, 0, 0, 0, 0, 0, 0, 0, 0, 0, 0, 0, 0, 0, 0, 0, 0, 0, 0, 0, 0, 0, 0, 0, 0, 0, 0, 0, 0, 0, 0, 0, 0, 0, 0, 0, 0, 0, 0, 0, 0, 0, 0, 0, 0, 0, 0, 0, 0, 0]\n"
     ]
    }
   ],
   "source": [
    "zero = [0]\n",
    "zero_long = zero * 50\n",
    "print(zero_long)"
   ]
  },
  {
   "cell_type": "code",
   "execution_count": 55,
   "id": "43984db0",
   "metadata": {},
   "outputs": [
    {
     "name": "stdout",
     "output_type": "stream",
     "text": [
      "50\n"
     ]
    }
   ],
   "source": [
    "print(zero_long.count(0))"
   ]
  },
  {
   "cell_type": "markdown",
   "id": "25b8938d",
   "metadata": {},
   "source": [
    "## Aufgabe 6 - Slicing \n",
    "\n",
    "- Lass dir aus der folgenden Liste mittels Slicing nur die **geraden** Elemente anzeigen. <br>\n",
    "- Lass dir aus der folgenden Liste mittels Slicing nur die **ungeraden** Elemente anzeigen.\n"
   ]
  },
  {
   "cell_type": "code",
   "execution_count": 56,
   "id": "f8d31dcd",
   "metadata": {},
   "outputs": [
    {
     "data": {
      "text/plain": [
       "[2, 4, 6, 8, 10]"
      ]
     },
     "execution_count": 56,
     "metadata": {},
     "output_type": "execute_result"
    }
   ],
   "source": [
    "my_list = [1, 2, 3, 4, 5, 6, 7, 8, 9, 10]\n",
    "my_list[1:10:2]"
   ]
  },
  {
   "cell_type": "code",
   "execution_count": 57,
   "id": "f2ea1e5d",
   "metadata": {},
   "outputs": [
    {
     "data": {
      "text/plain": [
       "[1, 3, 5, 7, 9]"
      ]
     },
     "execution_count": 57,
     "metadata": {},
     "output_type": "execute_result"
    }
   ],
   "source": [
    "my_list = [1, 2, 3, 4, 5, 6, 7, 8, 9, 10]\n",
    "my_list[::2]"
   ]
  },
  {
   "cell_type": "markdown",
   "id": "ea6ebe1b",
   "metadata": {},
   "source": [
    "## Aufgabe 7 - Listen zusammenfügen\n",
    "\n",
    "- Füge die folgenden zwei Listen zusammen und speichere die resultierende Liste in einer neuen Variable `list3`."
   ]
  },
  {
   "cell_type": "code",
   "execution_count": 58,
   "id": "562d9f0f",
   "metadata": {},
   "outputs": [
    {
     "name": "stdout",
     "output_type": "stream",
     "text": [
      "[1, 2, 3, 4, 5, 6]\n"
     ]
    }
   ],
   "source": [
    "list1 = [1, 2, 3]\n",
    "list2 = [4, 5, 6]\n",
    "\n",
    "list3 = list1 + list2\n",
    "print(list3)"
   ]
  },
  {
   "cell_type": "markdown",
   "id": "f5abbf6a",
   "metadata": {},
   "source": [
    "## Aufgabe 8 - Element abfragen\n",
    "\n",
    "Wie können wir in der folgenden Liste auf das Element `\"A\"` zugreifen und über `print()` ausgeben? Beachte, dass wir es mit verschachtelten Listen zu tun haben. Wir müssen mehrere Indizes angeben."
   ]
  },
  {
   "cell_type": "code",
   "execution_count": 59,
   "id": "a9cb574d",
   "metadata": {},
   "outputs": [
    {
     "data": {
      "text/plain": [
       "'A'"
      ]
     },
     "execution_count": 59,
     "metadata": {},
     "output_type": "execute_result"
    }
   ],
   "source": [
    "my_list = [1, 2, 3, [\"B\", [3, [\"C\", \"A\"]]]]\n",
    "\n",
    "my_list[-1][-1][-1][1]                              # ODER"
   ]
  },
  {
   "cell_type": "code",
   "execution_count": 60,
   "id": "48c3b914",
   "metadata": {},
   "outputs": [
    {
     "data": {
      "text/plain": [
       "'A'"
      ]
     },
     "execution_count": 60,
     "metadata": {},
     "output_type": "execute_result"
    }
   ],
   "source": [
    "my_list[3][1][1][1]"
   ]
  },
  {
   "cell_type": "markdown",
   "id": "e6239ccb",
   "metadata": {},
   "source": [
    "## Aufgabe 9 - Element ändern \n",
    "\n",
    "- Ändere in der Liste `my_list` das Element \"A\" in 4 um."
   ]
  },
  {
   "cell_type": "code",
   "execution_count": 61,
   "id": "f1635397",
   "metadata": {},
   "outputs": [
    {
     "name": "stdout",
     "output_type": "stream",
     "text": [
      "[1, 2, 3, 4, 5]\n"
     ]
    }
   ],
   "source": [
    "my_list = [1, 2, 3, \"A\", 5]\n",
    "\n",
    "my_list[3] = 4\n",
    "print(my_list)"
   ]
  },
  {
   "cell_type": "markdown",
   "id": "0d6c46fa",
   "metadata": {},
   "source": [
    "## Aufgabe 10 - Element entfernen\n",
    "\n",
    "- Entferne aus der folgenden Liste, das Element \"A\"."
   ]
  },
  {
   "cell_type": "code",
   "execution_count": 62,
   "id": "7eef8ad6",
   "metadata": {},
   "outputs": [
    {
     "name": "stdout",
     "output_type": "stream",
     "text": [
      "[1, 2, 3, 4, 5, 6]\n"
     ]
    }
   ],
   "source": [
    "my_list = [1, 2, 3, 4, \"A\", 5, 6]\n",
    "my_list.pop(4)\n",
    "print(my_list)"
   ]
  },
  {
   "cell_type": "markdown",
   "id": "a3e86f9f",
   "metadata": {},
   "source": [
    "## Aufgabe 11 - Liste umdrehen \n",
    "\n",
    "- Drehe die folgende List um, d.h. aus `[1, 2, 3]` soll `[3, 2, 1]` werden. \n",
    "- Gibt es noch eine andere Möglichkeit als `reverse()` zu verwenden?"
   ]
  },
  {
   "cell_type": "code",
   "execution_count": 63,
   "id": "4740fe57",
   "metadata": {},
   "outputs": [],
   "source": [
    "liste = [1, 2, 3]"
   ]
  },
  {
   "cell_type": "code",
   "execution_count": 64,
   "id": "f1a87fb2",
   "metadata": {},
   "outputs": [
    {
     "name": "stdout",
     "output_type": "stream",
     "text": [
      "[3, 2, 1]\n"
     ]
    }
   ],
   "source": [
    "liste.sort(reverse = True)\n",
    "print(liste)"
   ]
  },
  {
   "cell_type": "code",
   "execution_count": 65,
   "id": "13104524",
   "metadata": {},
   "outputs": [
    {
     "name": "stdout",
     "output_type": "stream",
     "text": [
      "[3, 2, 1]\n"
     ]
    }
   ],
   "source": [
    "liste [-1]                       # zweite Möglichkeit\n",
    "print(liste)"
   ]
  },
  {
   "cell_type": "code",
   "execution_count": null,
   "id": "4e659393",
   "metadata": {},
   "outputs": [],
   "source": []
  }
 ],
 "metadata": {
  "kernelspec": {
   "display_name": "Python 3 (ipykernel)",
   "language": "python",
   "name": "python3"
  },
  "language_info": {
   "codemirror_mode": {
    "name": "ipython",
    "version": 3
   },
   "file_extension": ".py",
   "mimetype": "text/x-python",
   "name": "python",
   "nbconvert_exporter": "python",
   "pygments_lexer": "ipython3",
   "version": "3.10.9"
  }
 },
 "nbformat": 4,
 "nbformat_minor": 5
}
