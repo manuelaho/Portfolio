{
 "cells": [
  {
   "cell_type": "markdown",
   "id": "00699ae9",
   "metadata": {},
   "source": [
    "# Inhaltsverzeichnis \n",
    "\n",
    "- **Challenges**\n",
    "    - **Challenge 1:  Potenzmenge**\n"
   ]
  },
  {
   "cell_type": "markdown",
   "id": "09c32c0f",
   "metadata": {},
   "source": [
    "# Challenges\n",
    "\n",
    "Einige knifflige Aufgaben zum Knobeln und ausprobieren! \n",
    "\n",
    "## Challenge 1:  Potenzmenge\n",
    "\n",
    "- Schreibe eine Funktion die aus einer Liste alle möglichen Teillisten erzeugt. Die leere Liste soll **immer** eine Teilliste sein! Zurückgegeben werden soll also eine Liste von Listen. Mathematisch wollen wir von einer Menge die  [Potenzmenge](https://de.wikipedia.org/wiki/Potenzmenge) bestimmen.\n",
    "\n",
    "**Beispiel**:\n",
    "\n",
    "\\begin{align}\n",
    "f([\\text{\"A\"}]) &\\Longrightarrow [[\\text{\"A\"}],[]] \\\\\n",
    "f([\\text{\"A\",\"B\"}] &\\Longrightarrow [[\\text{\"A\"}],[\\text{\"B\"}],[\\text{\"A\",\"B\"}],[]]\n",
    "\\end{align}\n",
    "\n",
    "**Möglichkeit eines Testes:** \n",
    "\n",
    "> Wenn die übergebene Liste $n$ Elemente hat, muss die neue Liste $2^n$ Elemente haben."
   ]
  },
  {
   "cell_type": "code",
   "execution_count": 1,
   "id": "1b5679b0",
   "metadata": {},
   "outputs": [
    {
     "data": {
      "text/plain": [
       "[[], ['A'], ['B'], ['A', 'B']]"
      ]
     },
     "execution_count": 1,
     "metadata": {},
     "output_type": "execute_result"
    }
   ],
   "source": [
    "def potenzmenge(liste):\n",
    "    if not liste:\n",
    "        return [[]]\n",
    "\n",
    "    new_lists = []\n",
    "    for i in potenzmenge(liste[1:]):\n",
    "        new_lists.append(i)\n",
    "        new_lists.append([liste[0]] + i)\n",
    "    return new_lists\n",
    "\n",
    "potenzmenge([\"A\", \"B\"]) "
   ]
  },
  {
   "cell_type": "code",
   "execution_count": null,
   "id": "7648fb12",
   "metadata": {},
   "outputs": [],
   "source": []
  }
 ],
 "metadata": {
  "kernelspec": {
   "display_name": "Python 3 (ipykernel)",
   "language": "python",
   "name": "python3"
  },
  "language_info": {
   "codemirror_mode": {
    "name": "ipython",
    "version": 3
   },
   "file_extension": ".py",
   "mimetype": "text/x-python",
   "name": "python",
   "nbconvert_exporter": "python",
   "pygments_lexer": "ipython3",
   "version": "3.10.9"
  }
 },
 "nbformat": 4,
 "nbformat_minor": 5
}
