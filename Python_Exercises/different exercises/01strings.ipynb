{
 "cells": [
  {
   "cell_type": "markdown",
   "id": "cbae94a0",
   "metadata": {},
   "source": [
    "# Inhaltsverzeichnis \n",
    "\n",
    "- **Übungen**\n",
    "    - **Aufgabe 1 - Länge eines Strings**\n",
    "    - **Aufgabe 2 - String erzeugen**\n",
    "    - **Aufgabe 3 - Wörter zählen**\n",
    "    - **Aufgabe 4 - Slicing**\n",
    "    - **Aufgabe 5 - Verketten**\n"
   ]
  },
  {
   "cell_type": "markdown",
   "id": "7670e5c7",
   "metadata": {},
   "source": [
    "# Übungen\n",
    "\n",
    "## Aufgabe 1 - Länge eines Strings\n",
    "\n",
    "- Was ist die Länge des folgenden Strings? Verwende die Funktion `len()`. Lass dir die Länge des Strings mittels `print()` ausgeben."
   ]
  },
  {
   "cell_type": "code",
   "execution_count": 1,
   "id": "bafa3bce",
   "metadata": {},
   "outputs": [
    {
     "name": "stdout",
     "output_type": "stream",
     "text": [
      "11\n"
     ]
    }
   ],
   "source": [
    "my_string = \"Hallo Welt!\"\n",
    "print(len(my_string))"
   ]
  },
  {
   "cell_type": "markdown",
   "id": "87c146aa",
   "metadata": {},
   "source": [
    "\n",
    "\n",
    "## Aufgabe 2 - String erzeugen\n",
    "\n",
    "- Erzeuge den String `\"AAAAAAAAAAAAAAAAAAAABBBBBBBBBBBBBBBBBBBB\"` (20 \"A\"s und 20 \"B\"s). \n",
    "- Wie können wir den String mit möglichst wenig Tipparbeit erzeugen?"
   ]
  },
  {
   "cell_type": "code",
   "execution_count": 3,
   "id": "49f9e8cd",
   "metadata": {},
   "outputs": [
    {
     "name": "stdout",
     "output_type": "stream",
     "text": [
      "AAAAAAAAAAAAAAAAAAAABBBBBBBBBBBBBBBBBBBB\n"
     ]
    }
   ],
   "source": [
    "a_string = \"A\" * 20\n",
    "b_string = \"B\" * 20\n",
    "print(a_string + b_string)                        # ODER"
   ]
  },
  {
   "cell_type": "code",
   "execution_count": 4,
   "id": "5feacee5",
   "metadata": {},
   "outputs": [
    {
     "name": "stdout",
     "output_type": "stream",
     "text": [
      "AAAAAAAAAAAAAAAAAAAABBBBBBBBBBBBBBBBBBBB\n"
     ]
    }
   ],
   "source": [
    "print(\"A\" * 20 + \"B\" * 20)                       # geringste Tipparbeit     ODER"
   ]
  },
  {
   "cell_type": "code",
   "execution_count": 5,
   "id": "df3883a3",
   "metadata": {},
   "outputs": [
    {
     "name": "stdout",
     "output_type": "stream",
     "text": [
      "AAAAAAAAAAAAAAAAAAAABBBBBBBBBBBBBBBBBBBB\n"
     ]
    }
   ],
   "source": [
    "ab_string = \"A\" * 20 + \"B\" * 20\n",
    "print(ab_string) "
   ]
  },
  {
   "cell_type": "markdown",
   "id": "9f5e5825",
   "metadata": {},
   "source": [
    "## Aufgabe 3 - Wörter zählen\n",
    "\n",
    "- Sei `sentence` ein Satz. Wie erhalten wir die Anzahl der Wörter in `sentence`? Verwende dazu die Funktionen `split()` und `len()`."
   ]
  },
  {
   "cell_type": "code",
   "execution_count": 11,
   "id": "af77bf97",
   "metadata": {},
   "outputs": [
    {
     "name": "stdout",
     "output_type": "stream",
     "text": [
      "4\n"
     ]
    }
   ],
   "source": [
    "sentence = \"Das ist ein Satz.\"\n",
    "print(len(sentence.split(\" \")))"
   ]
  },
  {
   "cell_type": "markdown",
   "id": "38c4a912",
   "metadata": {},
   "source": [
    "## Aufgabe 4 - Slicing\n",
    "\n",
    "- Lasse dir im folgenden String die **ersten** 3 Buchstaben anzeigen.\n",
    "- Lasse dir im folgenden String die **letzten** 3 Buchstaben anzeigen.\n",
    "- Lasse dir im folgenden String **jeden 3ten** Buchstaben anzeigen (angefangen vom ersten Buchstaben)."
   ]
  },
  {
   "cell_type": "code",
   "execution_count": 30,
   "id": "79fe956c",
   "metadata": {},
   "outputs": [
    {
     "name": "stdout",
     "output_type": "stream",
     "text": [
      "Sad\n"
     ]
    }
   ],
   "source": [
    "my_string = \"Saduhhpadejjr 3!\"\n",
    "print(my_string[:3])"
   ]
  },
  {
   "cell_type": "code",
   "execution_count": 29,
   "id": "e01dbaff",
   "metadata": {},
   "outputs": [
    {
     "name": "stdout",
     "output_type": "stream",
     "text": [
      " 3!\n"
     ]
    }
   ],
   "source": [
    "my_string = \"Saduhhpadejjr 3!\"\n",
    "print(my_string[-3:])"
   ]
  },
  {
   "cell_type": "code",
   "execution_count": 21,
   "id": "78d38ae8",
   "metadata": {},
   "outputs": [
    {
     "name": "stdout",
     "output_type": "stream",
     "text": [
      "Super!\n"
     ]
    }
   ],
   "source": [
    "my_string = \"Saduhhpadejjr 3!\"\n",
    "print(my_string[::3])"
   ]
  },
  {
   "cell_type": "markdown",
   "id": "6633f0f5",
   "metadata": {},
   "source": [
    "## Aufgabe 5 - Verketten\n",
    "\n",
    "- Erstelle zwei Strings.\n",
    "- Erstelle einen neuen String, der die zwei Strings verkettet.\n",
    "- Erstelle einen neuen String, der die zwei Strings verkettet, getrennt mit `_und_`.\n",
    "- Erstelle einen neuen String, der das erste und letzte Zeichen aus jedem String verkettet.\n"
   ]
  },
  {
   "cell_type": "code",
   "execution_count": 26,
   "id": "6d02bf98",
   "metadata": {},
   "outputs": [
    {
     "name": "stdout",
     "output_type": "stream",
     "text": [
      "Hallo Manuela\n"
     ]
    }
   ],
   "source": [
    "string_1 = \"Hallo \"\n",
    "string_2 = \"Manuela\"\n",
    "string_12 = string_1 + string_2                  #Verkettung von 2 strings\n",
    "print(string_12)"
   ]
  },
  {
   "cell_type": "code",
   "execution_count": 28,
   "id": "80ecd323",
   "metadata": {},
   "outputs": [
    {
     "name": "stdout",
     "output_type": "stream",
     "text": [
      "Hallo und Manuela\n"
     ]
    }
   ],
   "source": [
    "print(string_1 + \"und \" + string_2)              # mit und"
   ]
  },
  {
   "cell_type": "code",
   "execution_count": 34,
   "id": "a3c8deaa",
   "metadata": {},
   "outputs": [
    {
     "name": "stdout",
     "output_type": "stream",
     "text": [
      "H Ma\n"
     ]
    }
   ],
   "source": [
    "string_123 = string_1[:1] + string_1[-1] +  string_2[:1] + string_2[-1]   # erstes und letztes Zeichen auf jedem String\n",
    "print(string_123)"
   ]
  },
  {
   "cell_type": "code",
   "execution_count": null,
   "id": "163097ad",
   "metadata": {},
   "outputs": [],
   "source": []
  }
 ],
 "metadata": {
  "kernelspec": {
   "display_name": "Python 3 (ipykernel)",
   "language": "python",
   "name": "python3"
  },
  "language_info": {
   "codemirror_mode": {
    "name": "ipython",
    "version": 3
   },
   "file_extension": ".py",
   "mimetype": "text/x-python",
   "name": "python",
   "nbconvert_exporter": "python",
   "pygments_lexer": "ipython3",
   "version": "3.10.9"
  }
 },
 "nbformat": 4,
 "nbformat_minor": 5
}
