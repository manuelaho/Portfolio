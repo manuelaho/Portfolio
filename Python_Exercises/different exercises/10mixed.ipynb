{
 "cells": [
  {
   "cell_type": "markdown",
   "id": "7e256066",
   "metadata": {},
   "source": [
    "# Inhaltsverzeichnis \n",
    "\n",
    "- **Übungen Woche 10**\n",
    "    - **Aufgabe 1: Eissorten**\n",
    "    - **Aufgabe 2: Ackermann Funktion**\n",
    "    - **Aufgabe 3: Längstes Wort in Text**\n",
    "    - **Aufgabe 4: Wiederkehrender Buchstabe**\n"
   ]
  },
  {
   "cell_type": "markdown",
   "id": "ce0a392a",
   "metadata": {},
   "source": [
    "##  Aufgabe 1: Eissorten\n",
    "\n",
    "Eine Eisdiele hat folgende Eissorten: <br>\n",
    "\n",
    "> **`[\"Banane\",\"Zitrone\",\"Zimt\",\"Kirsche\",\"Haselnuss\",\"Erdbeere\",\"Pistazie\"]`**. \n",
    "\n",
    "Schreibe ein Programm, welches alle möglichen Zweikombinationen auf der Konsole ausgibt. Zweimal die selbe Eissorte ist jedoch nicht erlaubt (z.b. \"Zitrone, Zitrone\"). Außerdem soll die Reihenfolge der Eissorten keine Rolle spielen, d.h. wenn \"Zitrone, Zimt\" ausgegeben wurde, soll \"Zimt, Zitrone\" _nicht_ mehr ausgegeben werden.\n",
    "Das Endresultat sollte daher ungefähr so aussehen: \n",
    "\n",
    "\"Banane, Zitrone\"<br>\n",
    "\"Banane, Zimt\"<br>\n",
    "\"Banane, Kirsche\"<br>\n",
    "....<br>\n",
    "\"Erdbeere, Pistazie\"<br>"
   ]
  },
  {
   "cell_type": "code",
   "execution_count": 1,
   "id": "a3035162",
   "metadata": {},
   "outputs": [
    {
     "data": {
      "text/plain": [
       "['Banane, Zitrone',\n",
       " 'Banane, Zimt',\n",
       " 'Banane, Kirsche',\n",
       " 'Banane, Haselnuss',\n",
       " 'Banane, Erdbeere',\n",
       " 'Banane, Pistazie',\n",
       " 'Zitrone, Zimt',\n",
       " 'Zitrone, Kirsche',\n",
       " 'Zitrone, Haselnuss',\n",
       " 'Zitrone, Erdbeere',\n",
       " 'Zitrone, Pistazie',\n",
       " 'Zimt, Kirsche',\n",
       " 'Zimt, Haselnuss',\n",
       " 'Zimt, Erdbeere',\n",
       " 'Zimt, Pistazie',\n",
       " 'Kirsche, Haselnuss',\n",
       " 'Kirsche, Erdbeere',\n",
       " 'Kirsche, Pistazie',\n",
       " 'Haselnuss, Erdbeere',\n",
       " 'Haselnuss, Pistazie',\n",
       " 'Erdbeere, Pistazie']"
      ]
     },
     "execution_count": 1,
     "metadata": {},
     "output_type": "execute_result"
    }
   ],
   "source": [
    "eissorten = [\"Banane\", \"Zitrone\", \"Zimt\", \"Kirsche\", \"Haselnuss\", \"Erdbeere\", \"Pistazie\"]\n",
    "\n",
    "def eisvariatonen(liste):\n",
    "    eiskombos = []\n",
    "\n",
    "    for i in liste:\n",
    "        eismöglichkeiten = \"\"\n",
    "        for j in liste:\n",
    "            if i != j and (j +  \", \" + i) not in eiskombos:\n",
    "                eismöglichkeiten = i +  \", \" + j\n",
    "\n",
    "                eiskombos.append(eismöglichkeiten)\n",
    "                \n",
    "    return eiskombos\n",
    "\n",
    "eisvariatonen(eissorten)"
   ]
  },
  {
   "cell_type": "markdown",
   "id": "6d7c1fcc",
   "metadata": {},
   "source": [
    "## Aufgabe 2: Ackermann Funktion\n",
    "\n",
    "Die Ackermannfunktion ist definiert als\n",
    "\n",
    "\\begin{align}\n",
    "A(m,n) =\n",
    "\\begin{cases}\n",
    "n+1   &\\text{falls } m = 0 \\\\\n",
    "A(m-1,1) \\qquad &\\text{falls } m > 0 \\text{ und } n = 0 \\\\\n",
    "A(m-1,A(m,n-1)) &\\text{falls} m > 0 \\text{ und } n > 0\n",
    "\\end{cases}\n",
    "\\end{align}\n",
    "\n",
    "Implementiere diese Funktion und bestätige, dass \n",
    "\n",
    "\\begin{align}\n",
    "A(3,4) = 125\n",
    "\\end{align}\n",
    "\n",
    "**Vorsicht beim Testen für größere Argumente von $m$ und $n$! Die Funktion wird schnell sehr groß (und rekursiv)!**"
   ]
  },
  {
   "cell_type": "code",
   "execution_count": 2,
   "id": "b92cc268",
   "metadata": {},
   "outputs": [
    {
     "data": {
      "text/plain": [
       "125"
      ]
     },
     "execution_count": 2,
     "metadata": {},
     "output_type": "execute_result"
    }
   ],
   "source": [
    "def A(m, n):\n",
    "    \n",
    "    if m == 0:\n",
    "        return n + 1\n",
    "    \n",
    "    elif m > 0 and n == 0:\n",
    "        return A(m - 1, 1)\n",
    "        \n",
    "    else:\n",
    "        return A(m - 1, A(m, n - 1))\n",
    "\n",
    "A(3,4)"
   ]
  },
  {
   "cell_type": "markdown",
   "id": "34309884",
   "metadata": {},
   "source": [
    "## Aufgabe 3: Längstes Wort in Text\n",
    "\n",
    "Schreibe eine Funktion, die einen Text (String) übergeben bekommt, und das _längste_ Wort darin, zurückgibt. Satzzeichen sollen _nicht_ zur Länge des Wortes gezählt werden!\n",
    "\n",
    "**Beispiele:**\n",
    "\n",
    "\\begin{align}\n",
    "f(\\text{\"Das ist ein Text.\"}) &\\Longrightarrow \\text{\"Text\"} \\\\\n",
    "f(\\text{\"Wir fahren nach Rom.\"}) &\\Longrightarrow \\text{\"fahren\"}\n",
    "\\end{align}"
   ]
  },
  {
   "cell_type": "code",
   "execution_count": 3,
   "id": "38097104",
   "metadata": {},
   "outputs": [
    {
     "data": {
      "text/plain": [
       "'Text'"
      ]
     },
     "execution_count": 3,
     "metadata": {},
     "output_type": "execute_result"
    }
   ],
   "source": [
    "def längste_wort(text):\n",
    "    \n",
    "    text_liste = text.split(\" \")\n",
    "    längstes_wort = \"\"\n",
    "    index = 0\n",
    "    \n",
    "    for a in text_liste:\n",
    "        if \".\" in a or \"!\" in a or \",\" in a or \":\" in a or \"?\" in a:\n",
    "            a = a[:-1]\n",
    "            \n",
    "        if len(a) > len(längstes_wort):\n",
    "            längstes_wort = a\n",
    "            \n",
    "    return längstes_wort\n",
    "    \n",
    "längste_wort(\"Das ist ein Text.\")"
   ]
  },
  {
   "cell_type": "markdown",
   "id": "e80a2a3d",
   "metadata": {},
   "source": [
    "## Aufgabe 4: Wiederkehrender Buchstabe\n",
    "\n",
    "Schreibe eine Funktion, die den ersten wiederkehrenden Buchstabe in einem String zurückgibt.\n",
    "\n",
    "**Beispiele:**\n",
    "\n",
    "\\begin{align}\n",
    "f(\\text{\"ABCDABCD\"}) &\\Longrightarrow \\text{\"A\"} \\\\\n",
    "f(\\text{\"BBAA\"}) &\\Longrightarrow \\text{\"B\"} \\\\\n",
    "f(\\text{\"ABCDEFGHI\"}) &\\Longrightarrow \\text{\"\"}\n",
    "\\end{align}\n",
    "\n"
   ]
  },
  {
   "cell_type": "code",
   "execution_count": 4,
   "id": "c197557c",
   "metadata": {},
   "outputs": [
    {
     "data": {
      "text/plain": [
       "'A'"
      ]
     },
     "execution_count": 4,
     "metadata": {},
     "output_type": "execute_result"
    }
   ],
   "source": [
    "def buchstabe(string):\n",
    "    \n",
    "    for b in range(len(string)):\n",
    "        if string[b] in string[b+1:]:\n",
    "            return string[b]\n",
    "    return \"\"\n",
    "          \n",
    "buchstabe(\"ABCDABCD\")\n",
    "#buchstabe(\"ABCDEFGHI\")"
   ]
  },
  {
   "cell_type": "code",
   "execution_count": null,
   "id": "4fe79e69",
   "metadata": {},
   "outputs": [],
   "source": []
  }
 ],
 "metadata": {
  "kernelspec": {
   "display_name": "Python 3 (ipykernel)",
   "language": "python",
   "name": "python3"
  },
  "language_info": {
   "codemirror_mode": {
    "name": "ipython",
    "version": 3
   },
   "file_extension": ".py",
   "mimetype": "text/x-python",
   "name": "python",
   "nbconvert_exporter": "python",
   "pygments_lexer": "ipython3",
   "version": "3.10.9"
  }
 },
 "nbformat": 4,
 "nbformat_minor": 5
}
