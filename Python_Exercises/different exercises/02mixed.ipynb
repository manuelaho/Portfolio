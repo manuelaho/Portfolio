{
 "cells": [
  {
   "cell_type": "markdown",
   "id": "56a6ff6b",
   "metadata": {},
   "source": [
    "# Inhaltsverzeichnis \n",
    "\n",
    "- **Übungen Woche 2**\n",
    "    - **Aufgabe 1: Teil des String**\n",
    "    - **Aufgabe 2: Zahl in Intervall**\n",
    "    - **Aufgabe 3: Elemente inkrementieren**\n",
    "    - **Aufgabe 4: Summe einer Liste**\n",
    "    - **Aufgabe 5: Limit setzten**\n",
    "    - **Aufgabe 6: Liste**\n",
    "    - **Aufgabe 7: Fakultät**\n",
    "    - **Aufgabe 8: Vokale**\n"
   ]
  },
  {
   "cell_type": "markdown",
   "id": "08178481",
   "metadata": {},
   "source": [
    "## Aufgabe 1: Teil des String\n",
    "\n",
    "- Frag den\\*die User\\*in, was sein\\*ihr Lieblingsfilm ist. Hierbei darf die Antwort auch aus mehreren Wörtern/Sätzen bestehen. Liefere die Antwort `\"Meiner auch!\"`, wenn sich im String das Wort `Matrix` befindet. "
   ]
  },
  {
   "cell_type": "code",
   "execution_count": 1,
   "id": "398da1fb",
   "metadata": {},
   "outputs": [
    {
     "name": "stdout",
     "output_type": "stream",
     "text": [
      "Was ist dein Lieblingsfilm? Matrix\n",
      "Meiner auch!\n"
     ]
    }
   ],
   "source": [
    "film = input(\"Was ist dein Lieblingsfilm? \")                            \n",
    "\n",
    "if film.find(\"Matrix\") != -1 or film.find(\"matrix\") != -1:    \n",
    "    print(\"Meiner auch!\")                                     \n",
    "    \n",
    "else:                                                         \n",
    "    print(\"Mein Lieblingsfilm ist ein anderer, 'Matrix'\")"
   ]
  },
  {
   "cell_type": "code",
   "execution_count": 2,
   "id": "8ad61248",
   "metadata": {},
   "outputs": [
    {
     "name": "stdout",
     "output_type": "stream",
     "text": [
      "Was ist dein Lieblingsfilm? Club der toten Dichter\n",
      "Mein Lieblingsfilm ist ein anderer, 'Matrix'\n"
     ]
    }
   ],
   "source": [
    "film = input(\"Was ist dein Lieblingsfilm? \")                  \n",
    "film = film.lower()\n",
    "\n",
    "if film.find(\"matrix\") != -1:                                 \n",
    "    print(\"Meiner auch!\")                                     \n",
    "    \n",
    "else:                                                         \n",
    "    print(\"Mein Lieblingsfilm ist ein anderer, 'Matrix'\")"
   ]
  },
  {
   "cell_type": "code",
   "execution_count": 4,
   "id": "abe94186",
   "metadata": {},
   "outputs": [
    {
     "name": "stdout",
     "output_type": "stream",
     "text": [
      "Was ist dein Lieblingsfilm? Mein Lieblingsfilm ist matrix\n",
      "Meiner auch\n"
     ]
    }
   ],
   "source": [
    "film = input(\"Was ist dein Lieblingsfilm? \")                              \n",
    "\n",
    "if \"Matrix\" in film or \"matrix\" in film:\n",
    "    print(\"Meiner auch\")\n",
    "    \n",
    "else:\n",
    "    print(\"Mein Lieblingsfilm ist ein anderer, 'Matrix'\")"
   ]
  },
  {
   "cell_type": "markdown",
   "id": "d9fb0402",
   "metadata": {},
   "source": [
    "## Aufgabe 2: Zahl in Intervall\n",
    "\n",
    "- Schreibe ein Programm, welches den/die Nutzer\\*in bittet eine Zahl zwischen $1$ und $6$ einzugeben. Gibt eine Meldung aus, wenn die eingegebene Zahl _nicht_ in diesem Intervall liegt. \n"
   ]
  },
  {
   "cell_type": "code",
   "execution_count": 4,
   "id": "a4f5f255",
   "metadata": {},
   "outputs": [
    {
     "name": "stdout",
     "output_type": "stream",
     "text": [
      "Gib eine Zahl zwischen 1 und 6 ein: 7\n",
      "Die eingegebene Zahl ist leider nicht korrekt!\n"
     ]
    }
   ],
   "source": [
    "nutzer = input(\"Gib eine Zahl zwischen 1 und 6 ein: \")         \n",
    "\n",
    "if int(nutzer) < 1 or int(nutzer) > 6:                         \n",
    "    print(\"Die eingegebene Zahl ist leider nicht korrekt!\")\n",
    "\n",
    "else:                                                          \n",
    "    print(\"Richtig :-)\")"
   ]
  },
  {
   "cell_type": "markdown",
   "id": "053b3f24",
   "metadata": {},
   "source": [
    "## Aufgabe 3: Elemente inkrementieren\n",
    "\n",
    "- Erzeuge eine neue Liste namens `new_list`, welche die Zahlen von `my_list` um 10 erhöht enthält.\n",
    "- Dabei musst du durch die Liste `my_list` iterieren (`for-Schleife`!) und die neue Elemente in der neuen Liste hinzufügen."
   ]
  },
  {
   "cell_type": "code",
   "execution_count": 5,
   "id": "7007265d",
   "metadata": {},
   "outputs": [
    {
     "name": "stdout",
     "output_type": "stream",
     "text": [
      "[11, 12, 13, 14]\n"
     ]
    }
   ],
   "source": [
    "my_list = [1, 2, 3, 4]\n",
    "new_list = []                                  \n",
    "\n",
    "for i in my_list:                              \n",
    "    summe = i + 10\n",
    "    new_list.append(summe)                     \n",
    "    \n",
    "print(new_list)    # [11,12,13,14]"
   ]
  },
  {
   "cell_type": "markdown",
   "id": "c9c20c2e",
   "metadata": {},
   "source": [
    "## Aufgabe 4: Summe einer Liste\n",
    "\n",
    "- Addiere alle Elemente in der folgenden Liste `my_list` und speichere das Resultat.\n",
    "- Die Pythonfunktion `sum` ist in diesem Fall **nicht** erlaubt!"
   ]
  },
  {
   "cell_type": "code",
   "execution_count": 6,
   "id": "87aeb15c",
   "metadata": {},
   "outputs": [
    {
     "name": "stdout",
     "output_type": "stream",
     "text": [
      "Die Summe aller Elemente ist 55\n"
     ]
    }
   ],
   "source": [
    "my_list = [1, 2, 3, 4, 5, 6, 7, 8, 9, 10]\n",
    "result = 0\n",
    "\n",
    "for i in my_list:\n",
    "    result += i                                \n",
    "\n",
    "                                                \n",
    "print(\"Die Summe aller Elemente ist\", result)"
   ]
  },
  {
   "cell_type": "markdown",
   "id": "61bf5e46",
   "metadata": {},
   "source": [
    "## Aufgabe 5: Limit setzten\n",
    "\n",
    "- Gegeben ist ein Dictionary mit den Preisen von Produkten. Der\\*Die User*in soll eine ganze Zahl (Integer) als Preislimit setzten. Daraufhin sollen nur die Produkte auf der Konsole ausgegeben werden, die er/sie sich leisten kann.\n",
    "\n",
    "> <span style=\"color:green\"> **_ERINNERUNG:_** </span> Der Wert aus der Funktion `input()` ist immer eine **String** und soll zu einem Integer gecastet werden."
   ]
  },
  {
   "cell_type": "code",
   "execution_count": 4,
   "id": "516398ce",
   "metadata": {},
   "outputs": [
    {
     "name": "stdout",
     "output_type": "stream",
     "text": [
      "Setze ein Preislimit fest in einer ganzen Zahl: 500\n",
      "TV\n",
      "Monitor\n",
      "Phone\n"
     ]
    }
   ],
   "source": [
    "products = {\"TV\" : 400, \"Laptop\" : 800, \"Monitor\" : 300, \"Phone\" : 500}\n",
    "\n",
    "käufer = input(\"Setze ein Preislimit fest in einer ganzen Zahl: \")             # Lösung mit .items\n",
    "\n",
    "for k, v in products.items():\n",
    "    \n",
    "    if v > int(käufer):\n",
    "        continue\n",
    "        \n",
    "    else:\n",
    "        print(k)"
   ]
  },
  {
   "cell_type": "code",
   "execution_count": 7,
   "id": "29a09fac",
   "metadata": {},
   "outputs": [
    {
     "name": "stdout",
     "output_type": "stream",
     "text": [
      "Setze ein Preislimit fest: 500\n",
      "['TV', 'Monitor', 'Phone']\n"
     ]
    }
   ],
   "source": [
    "products = {\"TV\" : 400, \"Laptop\" : 800, \"Monitor\" : 300, \"Phone\" : 500}\n",
    "\n",
    "käufer = input(\"Setze ein Preislimit fest: \")\n",
    "\n",
    "list_prices = list(products.values())                                      # Lösung mit 2 Listen\n",
    "list_products = list(products.keys())                           \n",
    "\n",
    "output_list = []                                               \n",
    "\n",
    "for a in list_prices:\n",
    "    \n",
    "    if a > int(käufer):\n",
    "        continue\n",
    "        \n",
    "    else:                                           \n",
    "        index = list_prices.index(a)                                      \n",
    "        output_list.append(list_products[index])     \n",
    "        \n",
    "    \n",
    "print(output_list)"
   ]
  },
  {
   "cell_type": "markdown",
   "id": "8df9ddc5",
   "metadata": {},
   "source": [
    "\n"
   ]
  },
  {
   "cell_type": "markdown",
   "id": "ee4cd487",
   "metadata": {},
   "source": [
    "## Aufgabe 6: Liste\n",
    "\n",
    "- Schreibe ein Programm, welches in einer Liste den ersten mit dem letzten Element austauscht. \n",
    "\n",
    "**Beispiele:**\n",
    "\\begin{align}\n",
    "[1,2,3]  &\\Longrightarrow [3,2,1] \\\\\n",
    "[1,2,3,4,5] &\\Longrightarrow [5,2,3,4,1] \n",
    "\\end{align}"
   ]
  },
  {
   "cell_type": "code",
   "execution_count": 1,
   "id": "1e66b8e2",
   "metadata": {},
   "outputs": [
    {
     "name": "stdout",
     "output_type": "stream",
     "text": [
      "[5, 2, 3, 4, 1]\n"
     ]
    }
   ],
   "source": [
    "l = [1,2,3,4,5]\n",
    "\n",
    "lTausch = []\n",
    "\n",
    "for i in l:\n",
    "    \n",
    "    if i == l[0]:\n",
    "        lTausch.append(l[-1])                         \n",
    "        continue\n",
    "    else:                               \n",
    "        lTausch.append(i)\n",
    "        \n",
    "lTausch.pop(-1)                         \n",
    "lTausch.append(l[0])                    \n",
    "\n",
    "print(lTausch)"
   ]
  },
  {
   "cell_type": "code",
   "execution_count": 6,
   "id": "418b96b7",
   "metadata": {},
   "outputs": [
    {
     "name": "stdout",
     "output_type": "stream",
     "text": [
      "[5, 2, 3, 4, 1]\n"
     ]
    }
   ],
   "source": [
    "l = [1,2,3,4,5]                                        # einfache Variante mit Variablen vertauschen\n",
    "\n",
    "l [0], l [-1] = l [-1], l [0]\n",
    "print(l)"
   ]
  },
  {
   "cell_type": "code",
   "execution_count": 7,
   "id": "02430120",
   "metadata": {},
   "outputs": [
    {
     "name": "stdout",
     "output_type": "stream",
     "text": [
      "[1, 2, 3, 5, 4]\n"
     ]
    }
   ],
   "source": [
    "l = [1,2,3,4,5]                                       # 4 und 5 vertauschen\n",
    "\n",
    "l [3], l [-1] = l [-1], l [3]\n",
    "print(l)"
   ]
  },
  {
   "cell_type": "code",
   "execution_count": 10,
   "id": "ab4c93f5",
   "metadata": {},
   "outputs": [
    {
     "name": "stdout",
     "output_type": "stream",
     "text": [
      "[7, 2, 3, 4, 5, 1, 6]\n"
     ]
    }
   ],
   "source": [
    "l = [1,2,3,4,5,6,7]                                       # 1, 6 und 7 vertauschen\n",
    "\n",
    "l [0], l [5], l [-1] = l [-1], l [0], l [5]\n",
    "print(l)"
   ]
  },
  {
   "cell_type": "markdown",
   "id": "a26b8765",
   "metadata": {},
   "source": [
    "## Aufgabe 7: Fakultät\n",
    "\n",
    "- Schreibe ein Programm welches die Fakultät von $10$ berechnet. Das ist die Zahl\n",
    "\n",
    "\\begin{align}\n",
    "1\\cdot2\\cdot3\\cdot...\\cdot10\n",
    "\\end{align}\n",
    "- Dies kann man in der Mathematik auch abgekürzt schreiben als \n",
    "\n",
    "\\begin{align}\n",
    "10!\n",
    "\\end{align}\n",
    "\n",
    "- Benutze eine `for`-Schleife und die Funktion `range()`."
   ]
  },
  {
   "cell_type": "code",
   "execution_count": 2,
   "id": "769cee2e",
   "metadata": {},
   "outputs": [
    {
     "name": "stdout",
     "output_type": "stream",
     "text": [
      "Das Ergebnis von 10! ist: 3628800\n"
     ]
    }
   ],
   "source": [
    "u = 1\n",
    "\n",
    "for i in range(1,11):\n",
    "    u *= i\n",
    "    \n",
    "print(\"Das Ergebnis von 10! ist:\",u)"
   ]
  },
  {
   "cell_type": "markdown",
   "id": "d78b6bfa",
   "metadata": {},
   "source": [
    "## Aufgabe 8: Vokale\n",
    "\n",
    "- Lass den\\*die Nutzer\\*in 2 Eingaben tätigen. Teile ihm\\*ihr mit, in welcher Eingabe sich mehr Vokale befinden.\n",
    "- Die Funktion `count(v)` eines Strings kann bei dieser Aufgabe nützlich sein. Sie zählt wie oft ein Buchstabe `v` in einem String vorkommt. Z.b. liefert \n",
    "\n",
    "`\"hausaufgaben\".count(\"a\")`\n",
    "\n",
    "das Ergebnis 3. "
   ]
  },
  {
   "cell_type": "code",
   "execution_count": 10,
   "id": "db4da03b",
   "metadata": {},
   "outputs": [
    {
     "name": "stdout",
     "output_type": "stream",
     "text": [
      "Schreibe ein Wort: Ute\n",
      "Schreibe ein weiteres Wort: Anna\n",
      "Beide Namen haben gleich viele Vokale! Der erste Name hat 2 Vokale, der zweite 2 Vokale!\n"
     ]
    }
   ],
   "source": [
    "vokale = ['a','e','i','o','u']\n",
    "\n",
    "user01 = input(\"Schreibe ein Wort: \")\n",
    "user02 = input(\"Schreibe ein weiteres Wort: \")\n",
    "\n",
    "vokale01 = 0\n",
    "vokale02 = 0\n",
    "\n",
    "for v in vokale:                                                  # Lösung mit For-Schleife  \n",
    "    user01 = user01.lower()\n",
    "    user02 = user02.lower()\n",
    "    vokale01 += user01.count(v)\n",
    "    vokale02 += user02.count(v)\n",
    "    \n",
    "if vokale01 > vokale02:\n",
    "    print(\"Der erste Name hat mehr Vokale als der zweite! Der erste Name hat\", vokale01, \"Vokale, der zweite\", vokale02, \"Vokale!\")\n",
    "        \n",
    "elif vokale01 < vokale02:\n",
    "    print(\"Der zweite Name hat mehr Vokale als der erste! Der zweite Name hat\", vokale02, \"Vokale, der erste\", vokale01, \"Vokale!\")\n",
    "    \n",
    "else:\n",
    "    print(\"Beide Namen haben gleich viele Vokale! Der erste Name hat\", vokale01, \"Vokale, der zweite\", vokale02, \"Vokale!\")"
   ]
  },
  {
   "cell_type": "code",
   "execution_count": 11,
   "id": "b8a6e516",
   "metadata": {},
   "outputs": [
    {
     "name": "stdout",
     "output_type": "stream",
     "text": [
      "Schreibe ein Wort: Manuela\n",
      "Schreibe ein weiteres Wort: Anna\n",
      "Der erste Name hat mehr Vokale als der zweite! Der erste Name hat 4 Vokale, der zweite 2 Vokale!\n"
     ]
    }
   ],
   "source": [
    "vokale = ['a','e','i','o','u']\n",
    "\n",
    "user01 = input(\"Schreibe ein Wort: \").lower()                   # Lösung ohne For-Schleife \n",
    "user02 = input(\"Schreibe ein weiteres Wort: \").lower()      \n",
    "\n",
    "\n",
    "vokale01 = user01.count(\"a\") + user01.count(\"e\") + user01.count(\"i\") + user01.count(\"o\") + user01.count(\"u\")\n",
    "vokale02 = user02.count(\"a\") + user02.count(\"e\") + user02.count(\"i\") + user02.count(\"o\") + user02.count(\"u\")\n",
    "\n",
    "if vokale01 > vokale02:\n",
    "    print(\"Der erste Name hat mehr Vokale als der zweite! Der erste Name hat\", vokale01, \"Vokale, der zweite\", vokale02, \"Vokale!\")\n",
    "    \n",
    "elif vokale01 < vokale02:\n",
    "    print(\"Der zweite Name hat mehr Vokale als der erste! Der zweite Name hat\", vokale02, \"Vokale, der erste\", vokale01, \"Vokale!\")\n",
    "    \n",
    "else:\n",
    "    print(\"Beide Namen haben gleich viele Vokale! Der erste Namen hat\", vokale01, \"Vokale, der zweite\", vokale02, \"Vokale!\")\n",
    "\n",
    "\n"
   ]
  },
  {
   "cell_type": "code",
   "execution_count": null,
   "id": "cfd5e0a8",
   "metadata": {},
   "outputs": [],
   "source": []
  }
 ],
 "metadata": {
  "kernelspec": {
   "display_name": "Python 3 (ipykernel)",
   "language": "python",
   "name": "python3"
  },
  "language_info": {
   "codemirror_mode": {
    "name": "ipython",
    "version": 3
   },
   "file_extension": ".py",
   "mimetype": "text/x-python",
   "name": "python",
   "nbconvert_exporter": "python",
   "pygments_lexer": "ipython3",
   "version": "3.10.9"
  }
 },
 "nbformat": 4,
 "nbformat_minor": 5
}
