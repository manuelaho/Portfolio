{
 "cells": [
  {
   "cell_type": "markdown",
   "id": "8af6adb2",
   "metadata": {},
   "source": [
    "# Inhaltsverzeichnis \n",
    "\n",
    "- **`Map`**\n",
    "    - **Aufgabe 1 - Runden**\n",
    "    - **Aufgabe 2 - Großschreibung**\n",
    "    - **Aufgabe 3 - Listen verbinden**\n",
    "- **`Filter`**\n",
    "    - **Aufgabe 1 - Zahlen**\n",
    "    - **Aufgabe 2 - Strings**\n",
    "    - **Aufgabe 3 - Palindrom**\n"
   ]
  },
  {
   "cell_type": "markdown",
   "id": "6c84a3ab",
   "metadata": {},
   "source": [
    "> <span style=\"color:red\"> **_WICHTIG:_** </span>  Die `map` und die `filter` Funktionen sind eine gute Möglichkeit, um in Python schnell eine kurze Funktion (am besten definiert durch `lambda`) auf eine Liste von Elementen anzuwenden. Beachte dabei, dass diese Funktionen *automatisch* durch die Liste iterieren. Aus diesem Grund muss **nie** `map` oder `filter` mit einer `for`-Schliefe angewandt werden. \n",
    "\n",
    "# `Map`\n",
    "\n",
    "> <span style=\"color:blue\"> **_INFO:_** </span> Bei den folgenden Aufgaben zu `map` sollst du jeweils *zwei* Funktionen implementieren. Eine Funktion, welche die Aufgabe mittels einer `for`-Schleife löst und eine Funktion, die dafür `map` verwendet. Dadurch soll erkannt werden, dass `map` deutlich weniger Schreibaufwand benötigt.\n",
    "\n",
    "## Aufgabe 1 - Runden\n",
    "\n",
    "- Gegeben ist eine Liste `floats` mti 10 Zahlen.\n",
    "- Schreibe eine Funktion, die eine Liste als Parameter erwartet, und mit einer `for`-Schleife alle Elemente auf 2 Nachkommastellen rundet.\n",
    "- Erstelle eine Funktion `floats_map`, mit der gleichen Funktionalität, aber **statt** einer `for`-Schleife soll jetzt `map` mit einem `lambda` benutzt werden (**keine `for`-Schleife!**)."
   ]
  },
  {
   "cell_type": "code",
   "execution_count": 1,
   "id": "e007a47b",
   "metadata": {},
   "outputs": [
    {
     "name": "stdout",
     "output_type": "stream",
     "text": [
      "Lösung mit einer for-Schleife:  [65.97, 94.72, 86.49, 8.96, 15.81, 4.17, 36.06, 69.06, 73.43, 72.87]\n",
      "Lösung mit der map-Funktion: [65.97, 94.72, 86.49, 8.96, 15.81, 4.17, 36.06, 69.06, 73.43, 72.87]\n"
     ]
    }
   ],
   "source": [
    "import random\n",
    "\n",
    "floats = [random.random()*100 for i in range(10)]\n",
    "\n",
    "# mit for-Schleife\n",
    "\n",
    "def dezi(liste):\n",
    "    gerundete_liste = []\n",
    "    for i in liste:\n",
    "        runden = int(i*100+0.5)/100.0\n",
    "        gerundete_liste.append(runden)\n",
    "    return gerundete_liste\n",
    "\n",
    "print(\"Lösung mit einer for-Schleife: \", dezi(floats))\n",
    "\n",
    "\n",
    "# mit map-Funktion:\n",
    "\n",
    "floats_map = list(map(lambda i : int(i*100+0.5)/100.0, floats))       \n",
    "                                                                      \n",
    "print(\"Lösung mit der map-Funktion:\", floats_map)                     "
   ]
  },
  {
   "cell_type": "markdown",
   "id": "4cade190",
   "metadata": {},
   "source": [
    "## Aufgabe 2 - Großschreibung\n",
    "\n",
    "- Gegeben ist eine Liste `words` mit Wörtern..\n",
    "- Erstelle eine Funktion `upper_for`, die mit einer `for`-Schleife durch alle Wörter iteriert und eine neue Liste zurückliefert, in der alle Elemente (Wörter) in Großbuchstaben sind.\n",
    "- Erstelle eine Funktion `upper_map` mit der gleichen Funktionalität, aber diesmal unter Gebrauch der `map`-Funktion mit `str.upper` (**keine `for`-Schleife!**)."
   ]
  },
  {
   "cell_type": "code",
   "execution_count": 2,
   "id": "40d21a10",
   "metadata": {},
   "outputs": [
    {
     "name": "stdout",
     "output_type": "stream",
     "text": [
      "['PyThOn', 'iS', 'AN', 'INTERpreTeD', 'HiGH-Level', 'genEral-PuRPOSE', 'PRogramMIng', 'LAnGuaGE.']\n",
      "Lösung mit einer for-Schleife: ['PYTHON', 'IS', 'AN', 'INTERPRETED', 'HIGH-LEVEL', 'GENERAL-PURPOSE', 'PROGRAMMING', 'LANGUAGE.']\n",
      "Lösung mit der map-Funktion 01: ['PYTHON', 'IS', 'AN', 'INTERPRETED', 'HIGH-LEVEL', 'GENERAL-PURPOSE', 'PROGRAMMING', 'LANGUAGE.']\n",
      "Lösung mit der map-Funktion 02 LAMBDA: ['PYTHON', 'IS', 'AN', 'INTERPRETED', 'HIGH-LEVEL', 'GENERAL-PURPOSE', 'PROGRAMMING', 'LANGUAGE.']\n"
     ]
    }
   ],
   "source": [
    "words = \"PyThOn iS AN INTERpreTeD HiGH-Level genEral-PuRPOSE PRogramMIng LAnGuaGE.\".split(' ')\n",
    "print(words)\n",
    "\n",
    "# mit for-Schleife\n",
    "\n",
    "def upper_for(liste):\n",
    "    liste = (str(liste)).upper()\n",
    "               \n",
    "    return liste\n",
    "\n",
    "words_groß = []\n",
    "for i in words:\n",
    "    words_groß.append(upper_for(i))\n",
    "                      \n",
    "print(\"Lösung mit einer for-Schleife:\", words_groß)\n",
    "\n",
    "# mit map-Funktion:\n",
    "\n",
    "upper_map01 = list(map(upper_for, words))    \n",
    "print(\"Lösung mit der map-Funktion 01:\", upper_map01)\n",
    "\n",
    "# mit map-Funktion mit lambda:\n",
    "\n",
    "upper_map02 = list(map(lambda s : s.upper(), words))\n",
    "print(\"Lösung mit der map-Funktion 02 LAMBDA:\", upper_map02)"
   ]
  },
  {
   "cell_type": "markdown",
   "id": "b20882c4",
   "metadata": {},
   "source": [
    "## Aufgabe 3 - Listen verbinden\n",
    "\n",
    "- Gegeben sein zwei Listen `list_1` und `list_2` mit der gleichen Zahl an Elementen. Aus diesen zwei Listen soll eine neue Liste erzeugt werden, wo die Elemente Tupel sind mit den Werten aus Liste 1 und Liste 2.\n",
    "\n",
    "**Beispiel:**\n",
    "\n",
    "\\begin{align}\n",
    "&\\text{list_1} = [1,2,3,4] , \\qquad \\text{list_2} = [\\text{'A'},\\text{'B'},\\text{'C'},\\text{'D'}] \\\\\n",
    "&\\Longrightarrow [(1,\\text{'A'}),(2,\\text{'B'}),(3,\\text{'C'}),(4,\\text{'D'})]\n",
    "\\end{align}\n",
    "\n",
    "- Erstelle eine Funktion `zip_for`, die die zwei Listen als Parameter annimmt und den gewünschten Output produziert.\n",
    "Hierbei soll eine `for`-Schleife verwendet werden. Die Verwendung der Pythonfunktion `zip`  ist **nicht** erlaubt!\n",
    "- Erstelle eine Funktion `zip_map`, die die zwei Listen als Parameter annimmt und den gewünschten Output produziert. Hierbei soll `map` verwendet werden."
   ]
  },
  {
   "cell_type": "code",
   "execution_count": 3,
   "id": "fb1234ea",
   "metadata": {},
   "outputs": [
    {
     "name": "stdout",
     "output_type": "stream",
     "text": [
      "For Schleife Listen verbinden: [(1, 'A'), (2, 'B'), (3, 'C'), (4, 'D')]\n",
      "Map Listen verbinden: [(1, 'A'), (2, 'B'), (3, 'C'), (4, 'D')]\n",
      "Map Listen verbinden Lambda: [(1, 'A'), (2, 'B'), (3, 'C'), (4, 'D')]\n"
     ]
    }
   ],
   "source": [
    "list_1 = [1, 2, 3, 4]\n",
    "list_2 = [\"A\", \"B\", \"C\", \"D\"]\n",
    "\n",
    "def listen_verbinden(x,y):                           \n",
    "    return x,y\n",
    "\n",
    "# mit for-Schleife\n",
    "\n",
    "neue_liste = []\n",
    "\n",
    "for i in range(len(list_1)):\n",
    "    neue_liste.append(listen_verbinden(list_1[i], list_2[i]))\n",
    "    \n",
    "print(\"For Schleife Listen verbinden:\", neue_liste)\n",
    "\n",
    "# mit map-Funktion:\n",
    "\n",
    "list_1_list_2 = list(map(listen_verbinden, list_1, list_2))\n",
    "\n",
    "print(\"Map Listen verbinden:\", list_1_list_2)\n",
    "\n",
    "# mit map-Funktion mit lambda:\n",
    "\n",
    "list_3_list_4 = list(map(lambda x,y : (x,y), list_1, list_2))\n",
    "print(\"Map Listen verbinden Lambda:\", list_3_list_4)"
   ]
  },
  {
   "cell_type": "markdown",
   "id": "795d41fe",
   "metadata": {},
   "source": [
    "# `Filter`\n",
    "\n",
    "> <span style=\"color:red\"> **_WICHTIG:_** </span> Verwende für folgende Aufgaben `filter` **nur** in Kombination mit `lambda` Funktionen. \n",
    "\n",
    "## Aufgabe 1 - Zahlen\n",
    "\n",
    "- Gegeben ist eine Liste `ints` mit 100 Ganzzahlen.\n",
    "- Welche Zahlen sind größer als `90`? Speichere sie in einer Liste.\n",
    "- Welche Zahlen sind durch `11` teilbar? Speichere sie in einer Liste.\n",
    "- Welche Zahlen enden auf eine `'7'`? Speichere sie in einer Liste."
   ]
  },
  {
   "cell_type": "code",
   "execution_count": 4,
   "id": "28efdbe6",
   "metadata": {},
   "outputs": [
    {
     "name": "stdout",
     "output_type": "stream",
     "text": [
      "[92, 93, 94, 94, 92, 96, 98, 98, 100, 92, 100]\n",
      "[49, 7, 77, 35, 49, 70, 98, 98, 49, 84, 35, 77]\n",
      "[37, 27, 7, 37, 77, 87, 87, 47, 37, 47, 77]\n"
     ]
    }
   ],
   "source": [
    "import random\n",
    "\n",
    "ints = [random.randint(0,100) for i in range(100)]\n",
    "\n",
    "def größer(x):\n",
    "    return x > 90\n",
    "\n",
    "größer_als = list(filter(größer,ints))          \n",
    "print(größer_als)\n",
    "\n",
    "def teilbar(x):\n",
    "    return x % 7 == 0\n",
    "\n",
    "teilbar_als = list(filter(teilbar,ints))          \n",
    "print(teilbar_als)\n",
    "\n",
    "sieben_ende = list(filter(lambda x : \"7\" in str(x)[-1],ints))          \n",
    "print(sieben_ende)"
   ]
  },
  {
   "cell_type": "markdown",
   "id": "27746ef7",
   "metadata": {},
   "source": [
    "## Aufgabe 2 - Strings\n",
    "\n",
    "- Gegeben ist eine kleingeschriebene Liste von Wörtern `words`.\n",
    "- Welche davon haben ein `'p'` **und** ein `'r'`? Speichere sie in einer Liste.\n",
    "- Welche davon enden in ein `'n'`? Speichere sie in einer Liste."
   ]
  },
  {
   "cell_type": "code",
   "execution_count": 5,
   "id": "d4c8d89b",
   "metadata": {},
   "outputs": [
    {
     "name": "stdout",
     "output_type": "stream",
     "text": [
      "['interpreted', 'general-purpose', 'programming']\n",
      "['python', 'an']\n"
     ]
    }
   ],
   "source": [
    "words = \"PyThOn iS AN INTERpreTeD HiGH-Level genEral-PuRPOSE PRogramMIng LAnGuaGE.\".lower().split()\n",
    "\n",
    "p_r = list(filter(lambda s : \"p\" in s and \"r\" in s, words))\n",
    "print(p_r)\n",
    "\n",
    "n = list(filter(lambda s : \"n\" in s[-1], words))\n",
    "print(n)"
   ]
  },
  {
   "cell_type": "markdown",
   "id": "31ca4308",
   "metadata": {},
   "source": [
    "## Aufgabe 3 - Palindrom\n",
    "\n",
    "- Welche der Wörter in der Liste `dromes` sind [Palindrome](https://de.wikipedia.org/wiki/Palindrom)?\n",
    "\n",
    "> <span style=\"color:blue\"> **_INFO:_** </span> Palindrome sind Wörter, die sich rückwärts gleich schreiben wie vorwärts, z.b. \"anna\"."
   ]
  },
  {
   "cell_type": "code",
   "execution_count": 6,
   "id": "702f0470",
   "metadata": {},
   "outputs": [
    {
     "name": "stdout",
     "output_type": "stream",
     "text": [
      "['anna', 'madam', 'tenet']\n"
     ]
    }
   ],
   "source": [
    "dromes = (\"demigod\", 'anna', \"rewire\", \"madam\", \"freer\", \"tenet\", \"kiosk\")\n",
    "\n",
    "palli = list(filter(lambda s : s == s[::-1], dromes))\n",
    "print(palli)"
   ]
  },
  {
   "cell_type": "code",
   "execution_count": null,
   "id": "3ce7d68b",
   "metadata": {},
   "outputs": [],
   "source": []
  }
 ],
 "metadata": {
  "kernelspec": {
   "display_name": "Python 3 (ipykernel)",
   "language": "python",
   "name": "python3"
  },
  "language_info": {
   "codemirror_mode": {
    "name": "ipython",
    "version": 3
   },
   "file_extension": ".py",
   "mimetype": "text/x-python",
   "name": "python",
   "nbconvert_exporter": "python",
   "pygments_lexer": "ipython3",
   "version": "3.10.9"
  }
 },
 "nbformat": 4,
 "nbformat_minor": 5
}
