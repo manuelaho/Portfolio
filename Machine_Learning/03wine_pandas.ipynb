{
 "cells": [
  {
   "cell_type": "markdown",
   "id": "d3aa5611",
   "metadata": {},
   "source": [
    "# Inhaltsverzeichnis \n",
    "\n",
    "- **Pandas Aufgaben**\n",
    "    - **Datenvorbereitung**\n",
    "        - **Aufgabe 1.1**\n",
    "        - **Aufgabe 1.2**\n",
    "        - **Aufgabe 1.3**\n",
    "    - **Filtern, Group und Sort**\n",
    "        - **Aufgabe 2.1**\n",
    "        - **Aufgabe 2.2**\n",
    "        - **Aufgabe 2.3**\n",
    "        - **Aufgabe 2.4**\n",
    "        - **Aufgabe 2.5**\n",
    "        - **Aufgabe 2.6**\n",
    "        - **Aufgabe 2.7**\n"
   ]
  },
  {
   "cell_type": "markdown",
   "id": "c5d995da",
   "metadata": {},
   "source": [
    "# Pandas Aufgaben\n",
    "\n",
    "Für folgende Aufgaben, um uns mit dem Pandas Framework bekannt zu machen, nutzen wir eine bearbeitete Version des <a href=\"https://www.kaggle.com/zynicide/wine-reviews\">Wine Reviews Dataset</a>. \n",
    "\n",
    "Implementiere deinen Code nur **zwischen** den Kommentaren.\n",
    "\n",
    "## Datenvorbereitung\n",
    "\n",
    "### Aufgabe 1.1\n",
    "\n",
    "Als erstes müssen wir die nötigen Module und den Datensatz importieren.\n",
    "Wir benötigen `pandas` und ein `DataFrame`. Die Datei `wine_data.csv` findest du im Ordner des Notebooks. Die erste Spalte soll auch als Index der Tabelle hinzugefügt werden."
   ]
  },
  {
   "cell_type": "code",
   "execution_count": 1,
   "id": "90d69b28",
   "metadata": {
    "scrolled": true
   },
   "outputs": [],
   "source": [
    "import numpy as np\n",
    "import pandas as pd\n",
    "\n",
    "df = pd.read_csv(\"03wine_data.csv\")\n",
    "df"
   ]
  },
  {
   "cell_type": "markdown",
   "id": "e134068c",
   "metadata": {},
   "source": [
    "Manchmal kann es sein, dass bei manchen Spaltentiteln ein Leerzeichen steht. In der Informatik möchte man Leerzeichen minimieren, denn die machen uns den Job schwer, und immer mit einem Unterstrich `_` austauschen. \n",
    "\n",
    "Ein Beispiel sieht man unten. Man kann einfach auf die erste Spalte `country` zugreifen, aber nicht auf `taster name`."
   ]
  },
  {
   "cell_type": "code",
   "execution_count": null,
   "id": "17680628",
   "metadata": {},
   "outputs": [],
   "source": [
    "df.country.head()"
   ]
  },
  {
   "cell_type": "code",
   "execution_count": null,
   "id": "c98464df",
   "metadata": {},
   "outputs": [],
   "source": [
    "df.taster name.head()"
   ]
  },
  {
   "cell_type": "markdown",
   "id": "7999037f",
   "metadata": {},
   "source": [
    "Natürlich kann man das auch als 'klassischen' Index formulieren:"
   ]
  },
  {
   "cell_type": "code",
   "execution_count": null,
   "id": "12d8a0d1",
   "metadata": {},
   "outputs": [],
   "source": [
    "df['taster name'].head()"
   ]
  },
  {
   "cell_type": "markdown",
   "id": "993de3b7",
   "metadata": {},
   "source": [
    "### Aufgabe 1.2\n",
    "\n",
    "Benutze die Methode `replace`, um alle Leerzeichen in `df.columns` mit `_` zu ersetzen."
   ]
  },
  {
   "cell_type": "code",
   "execution_count": null,
   "id": "d38274f6",
   "metadata": {},
   "outputs": [],
   "source": [
    "df.columns = [col.replace(\" \", \"_\")  for col in df.columns]\n",
    "df"
   ]
  },
  {
   "cell_type": "markdown",
   "id": "24fc8b44",
   "metadata": {},
   "source": [
    "### Aufgabe 1.3\n",
    "\n",
    "Erstelle ein neues `DataFrame df1`, welches nur die Spalten `country` und `winery` enthält."
   ]
  },
  {
   "cell_type": "code",
   "execution_count": null,
   "id": "43d5b4c8",
   "metadata": {},
   "outputs": [],
   "source": [
    "df1 = df[[\"country\", \"winery\"]]\n",
    "df1"
   ]
  },
  {
   "cell_type": "markdown",
   "id": "74e1c251",
   "metadata": {},
   "source": [
    "## Filtern, Group und Sort\n",
    "\n",
    "### Aufgabe 2.1\n",
    "\n",
    "Finde heraus, wer die meisten Reviews geschrieben hat. Dabei sollst du die Spalte `taster_twitter_handle` gruppieren und mit `count` die Anzahl der Bewertungen pro Person finden. Sortiere dann die `Series` nach dem Wert."
   ]
  },
  {
   "cell_type": "code",
   "execution_count": null,
   "id": "58fa084e",
   "metadata": {},
   "outputs": [],
   "source": [
    "df.groupby(['taster_twitter_handle']).taster_name.count().sort_values(ascending = False)"
   ]
  },
  {
   "cell_type": "markdown",
   "id": "244e9126",
   "metadata": {},
   "source": [
    "### Aufgabe 2.2\n",
    "\n",
    "Finde den Wein mit den meisten Punkte `points` pro Land `country`. Verwende dazu die Methode `max()` nachdem du nach der Spalte `country` gruppiert hast."
   ]
  },
  {
   "cell_type": "code",
   "execution_count": null,
   "id": "0ff61d69",
   "metadata": {},
   "outputs": [],
   "source": [
    "df.groupby(['country']).points.max().sort_values(ascending = False)"
   ]
  },
  {
   "cell_type": "markdown",
   "id": "968fd3d9",
   "metadata": {},
   "source": [
    "### Aufgabe 2.3\n",
    "\n",
    "Finde die durchschnittliche Wertung `points` für alle Weinarten. Verwende dazu die Methode `mean()` nachdem du nach `variety` gruppiert hast. Idealerweise kannst du das `DataFrame` noch sortieren.\n"
   ]
  },
  {
   "cell_type": "code",
   "execution_count": null,
   "id": "e987d8df",
   "metadata": {},
   "outputs": [],
   "source": [
    "df.groupby(['variety']).points.mean().sort_values(ascending = False)"
   ]
  },
  {
   "cell_type": "markdown",
   "id": "412b09f5",
   "metadata": {},
   "source": [
    "### Aufgabe 2.4\n",
    "\n",
    "Finde den günstigsten und teuersten Preis `price` für jede Weinart `variety`. Verwende dazu die Methode `.agg([max,min])`."
   ]
  },
  {
   "cell_type": "code",
   "execution_count": null,
   "id": "5d2e7e8b",
   "metadata": {},
   "outputs": [],
   "source": [
    "df.groupby(['variety']).price.agg([max,min])"
   ]
  },
  {
   "cell_type": "markdown",
   "id": "a0e27a42",
   "metadata": {},
   "source": [
    "### Aufgabe 2.5\n",
    "\n",
    "Welcher Wein hat eine Bewertung von 100 Punkten bekommen?"
   ]
  },
  {
   "cell_type": "code",
   "execution_count": null,
   "id": "71e98319",
   "metadata": {},
   "outputs": [],
   "source": [
    "df [df [\"points\"] == 100] "
   ]
  },
  {
   "cell_type": "markdown",
   "id": "60e1496f",
   "metadata": {},
   "source": [
    "### Aufgabe 2.6\n",
    "\n",
    "Welche Weinart (`variety`) kommt am häufigsten vor bei den Weinen mit 100 Punkten?"
   ]
  },
  {
   "cell_type": "code",
   "execution_count": null,
   "id": "5d218bfc",
   "metadata": {},
   "outputs": [],
   "source": [
    "df_points = df[df[\"points\"] == 100]\n",
    "\n",
    "df_points.groupby([\"variety\"]).variety.count().sort_values(ascending = False)"
   ]
  },
  {
   "cell_type": "markdown",
   "id": "06e9b97e",
   "metadata": {},
   "source": [
    "### Aufgabe 2.7\n",
    "\n",
    "Welcher Wein kostet weniger als 10 Euro und hat mehr als 90 Punkte bekommen? "
   ]
  },
  {
   "cell_type": "code",
   "execution_count": null,
   "id": "3da9116e",
   "metadata": {},
   "outputs": [],
   "source": [
    "df[(df[\"price\"]< 10) & (df[\"points\"]> 90)]"
   ]
  }
 ],
 "metadata": {
  "kernelspec": {
   "display_name": "Python 3 (ipykernel)",
   "language": "python",
   "name": "python3"
  },
  "language_info": {
   "codemirror_mode": {
    "name": "ipython",
    "version": 3
   },
   "file_extension": ".py",
   "mimetype": "text/x-python",
   "name": "python",
   "nbconvert_exporter": "python",
   "pygments_lexer": "ipython3",
   "version": "3.10.9"
  }
 },
 "nbformat": 4,
 "nbformat_minor": 5
}
