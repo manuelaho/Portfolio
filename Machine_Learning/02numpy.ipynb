{
 "cells": [
  {
   "cell_type": "markdown",
   "id": "e9e61442",
   "metadata": {},
   "source": [
    "# Inhaltsverzeichnis \n",
    "\n",
    "- **Numpy Aufgaben**\n",
    "    - **Aufgabe 1 - Arrays definieren**\n",
    "    - **Aufgabe 2 - Addition**\n",
    "    - **Aufgabe 3 - Multiplikation**\n",
    "    - **Aufgabe 4 - Rechnen mit Arrays**\n",
    "    - **Aufgabe 5 - Weitere Funktionen**\n",
    "    - **Aufgabe 6 - Slicing**\n",
    "    - **Aufgabe 7 - Form ändern**\n"
   ]
  },
  {
   "cell_type": "markdown",
   "id": "a3d047da",
   "metadata": {},
   "source": [
    "# Numpy Aufgaben"
   ]
  },
  {
   "cell_type": "code",
   "execution_count": 1,
   "id": "d7b616d9",
   "metadata": {},
   "outputs": [],
   "source": [
    "import numpy as np"
   ]
  },
  {
   "cell_type": "markdown",
   "id": "2f652201",
   "metadata": {},
   "source": [
    "## Aufgabe 1 - Arrays definieren\n",
    "\n",
    "- Definiere einen Vektor X: \n",
    "\n",
    "\\begin{align}\n",
    "\\mathbf{X} = \\pmatrix{0 \\\\ 0 \\\\ 0 \\\\ 0 \\\\ 0}\n",
    "\\end{align}\n",
    "\n",
    "und einen Vektor Y:\n",
    "\n",
    "\\begin{align}\n",
    "\\mathbf{Y} = \\pmatrix{1 \\\\ 1 \\\\ 1 \\\\ 1 \\\\ 1}\n",
    "\\end{align}\n",
    "\n"
   ]
  },
  {
   "cell_type": "code",
   "execution_count": 2,
   "id": "672c3631",
   "metadata": {},
   "outputs": [
    {
     "name": "stdout",
     "output_type": "stream",
     "text": [
      "[[0.]\n",
      " [0.]\n",
      " [0.]\n",
      " [0.]\n",
      " [0.]]\n",
      "[[1.]\n",
      " [1.]\n",
      " [1.]\n",
      " [1.]\n",
      " [1.]]\n"
     ]
    }
   ],
   "source": [
    "x = np.zeros((5, 1))          \n",
    "print(x)\n",
    "\n",
    "y = np.ones((5, 1))          \n",
    "print(y)"
   ]
  },
  {
   "cell_type": "markdown",
   "id": "8d6aa59c",
   "metadata": {},
   "source": [
    "- Erstelle die Identitätsmatrix der Größe 3:\n",
    "\\begin{align}\n",
    "I = \n",
    "\\begin{bmatrix}\n",
    "1 & 0 & 0 \\\\\n",
    "0 & 1 & 0 \\\\\n",
    "0 & 0 & 1 \\\\\n",
    "\\end{bmatrix}\n",
    "\\end{align}"
   ]
  },
  {
   "cell_type": "code",
   "execution_count": 3,
   "id": "afe2efc4",
   "metadata": {},
   "outputs": [
    {
     "name": "stdout",
     "output_type": "stream",
     "text": [
      "[[1. 0. 0.]\n",
      " [0. 1. 0.]\n",
      " [0. 0. 1.]]\n"
     ]
    }
   ],
   "source": [
    "i = np.eye(3)\n",
    "print(i)"
   ]
  },
  {
   "cell_type": "markdown",
   "id": "8a712fc8",
   "metadata": {},
   "source": [
    "- Erstelle folgendes Array\n",
    "\\begin{align}\n",
    "C = \n",
    "\\begin{bmatrix}\n",
    "5 & 5 & 5 \\\\\n",
    "5 & 5 & 5 \\\\\n",
    "5 & 5 & 5 \\\\\n",
    "\\end{bmatrix}\n",
    "\\end{align}\n",
    "auf möglichst einfache Art."
   ]
  },
  {
   "cell_type": "code",
   "execution_count": 4,
   "id": "bb995793",
   "metadata": {},
   "outputs": [
    {
     "name": "stdout",
     "output_type": "stream",
     "text": [
      "[[5 5 5]\n",
      " [5 5 5]\n",
      " [5 5 5]]\n"
     ]
    }
   ],
   "source": [
    "c = np.array([5]*9).reshape(3, 3)     \n",
    "print(c)"
   ]
  },
  {
   "cell_type": "markdown",
   "id": "c69b8ed6",
   "metadata": {},
   "source": [
    "- Erstelle folgendes Array\n",
    "\\begin{align}\n",
    "D = \n",
    "\\begin{bmatrix}\n",
    "1 & 2 & 3 \\\\\n",
    "4 & 5 & 6 \\\\\n",
    "7 & 8 & 9 \\\\\n",
    "\\end{bmatrix}\n",
    "\\end{align}\n",
    "auf möglichst einfach Art."
   ]
  },
  {
   "cell_type": "code",
   "execution_count": 5,
   "id": "91b40d43",
   "metadata": {},
   "outputs": [
    {
     "name": "stdout",
     "output_type": "stream",
     "text": [
      "[[1 2 3]\n",
      " [4 5 6]\n",
      " [7 8 9]]\n"
     ]
    }
   ],
   "source": [
    "d = np.arange(1,10).reshape(3, 3)     \n",
    "print(d)"
   ]
  },
  {
   "cell_type": "markdown",
   "id": "3734883f",
   "metadata": {},
   "source": [
    "- Definiere zwei Arrays $A$ und $B$ mit folgenden Elementen:\n",
    "\\begin{align}\n",
    "A=\n",
    "\\begin{bmatrix}\n",
    "7 & 8  \\\\\n",
    "11 & 12  \\\\\n",
    "3 & 0  \\\\\n",
    "\\end{bmatrix}\n",
    ", \\qquad B = \n",
    "\\begin{bmatrix}\n",
    "0 & 1 \\\\\n",
    "2 & 9 \\\\\n",
    "3 & 7  \\\\\n",
    "\\end{bmatrix}\n",
    "\\end{align}"
   ]
  },
  {
   "cell_type": "code",
   "execution_count": 6,
   "id": "7be74e2b",
   "metadata": {},
   "outputs": [
    {
     "name": "stdout",
     "output_type": "stream",
     "text": [
      "[[ 7  8]\n",
      " [11 12]\n",
      " [ 3  0]]\n",
      "[[0 1]\n",
      " [2 9]\n",
      " [3 7]]\n"
     ]
    }
   ],
   "source": [
    "a = np.array([[7, 8], [11, 12], [3, 0]])\n",
    "b = np.array([[0, 1], [2, 9], [3, 7]])\n",
    "print(a)\n",
    "print(b)"
   ]
  },
  {
   "cell_type": "markdown",
   "id": "e18a3197",
   "metadata": {},
   "source": [
    "## Aufgabe 2 - Addition\n",
    "\n",
    "- Addiere die Arrays $A$ und $B$ miteinander. "
   ]
  },
  {
   "cell_type": "code",
   "execution_count": 8,
   "id": "d2f75887",
   "metadata": {},
   "outputs": [
    {
     "name": "stdout",
     "output_type": "stream",
     "text": [
      "[[ 7  9]\n",
      " [13 21]\n",
      " [ 6  7]]\n"
     ]
    }
   ],
   "source": [
    "a_plus = a + b\n",
    "print(a_plus)"
   ]
  },
  {
   "cell_type": "markdown",
   "id": "9ad36d6e",
   "metadata": {},
   "source": [
    "- Berechne die Summe des Arrays $A$ mit der Funktion [numpy.sum](https://numpy.org/doc/stable/reference/generated/numpy.sum.html): \n",
    "\n",
    "    - Aller Elemente\n",
    "    - Entlang der Spalten\n",
    "    - Entlang der Zeilen"
   ]
  },
  {
   "cell_type": "code",
   "execution_count": 9,
   "id": "4dac5e25",
   "metadata": {},
   "outputs": [
    {
     "name": "stdout",
     "output_type": "stream",
     "text": [
      "41\n",
      "[21 20]\n",
      "[15 23  3]\n"
     ]
    }
   ],
   "source": [
    "# alle Elemente\n",
    "sum_alle = np.sum(a)                             \n",
    "print(sum_alle)\n",
    "\n",
    "# Spalten\n",
    "sum_spalt = np.sum(a, axis = 0)                             \n",
    "print(sum_spalt)\n",
    "\n",
    "# Zeilen\n",
    "sum_zeile = np.sum(a, axis = 1)                             \n",
    "print(sum_zeile)"
   ]
  },
  {
   "cell_type": "markdown",
   "id": "84a42d5b",
   "metadata": {},
   "source": [
    "## Aufgabe 3 - Multiplikation\n",
    "\n",
    "- Multipliziere die Arrays $A$ und $B$ **elementweise**."
   ]
  },
  {
   "cell_type": "code",
   "execution_count": 10,
   "id": "7e30c2f7",
   "metadata": {},
   "outputs": [
    {
     "name": "stdout",
     "output_type": "stream",
     "text": [
      "[[  0   8]\n",
      " [ 22 108]\n",
      " [  9   0]]\n"
     ]
    }
   ],
   "source": [
    "a_multi = a * b\n",
    "print(a_multi)"
   ]
  },
  {
   "cell_type": "markdown",
   "id": "63d127af",
   "metadata": {},
   "source": [
    "## Aufgabe 4 - Rechnen mit Arrays\n",
    "\n",
    "- Finde das Array $C$, so das gilt $A+C = B$."
   ]
  },
  {
   "cell_type": "code",
   "execution_count": 11,
   "id": "d0b036d7",
   "metadata": {},
   "outputs": [
    {
     "name": "stdout",
     "output_type": "stream",
     "text": [
      "[[-7 -7]\n",
      " [-9 -3]\n",
      " [ 0  7]]\n"
     ]
    }
   ],
   "source": [
    "c = b - a\n",
    "print(c)"
   ]
  },
  {
   "cell_type": "markdown",
   "id": "25ecdf07",
   "metadata": {},
   "source": [
    "## Aufgabe 5 - Weitere Funktionen\n",
    "\n",
    "- Berechne das arithmetische Mittel (`mean`) von Array $A$ für entlang der ersten Achse."
   ]
  },
  {
   "cell_type": "code",
   "execution_count": 12,
   "id": "089c12d0",
   "metadata": {},
   "outputs": [
    {
     "name": "stdout",
     "output_type": "stream",
     "text": [
      "7.0\n",
      "7.5\n"
     ]
    }
   ],
   "source": [
    "# alle Zeilen von Spalte 1 --> vertikal\n",
    "a_mean01 = np.mean(a[:, 0])\n",
    "print(a_mean01)\n",
    "\n",
    "# Zeile 1 alle Spalten  --> horizontal\n",
    "a_mean02 = np.mean(a[0, :])\n",
    "print(a_mean02)"
   ]
  },
  {
   "cell_type": "markdown",
   "id": "6a60fb6c",
   "metadata": {},
   "source": [
    "- Berechne den Logarithmus (`log`) des Arrays $A$.\n",
    "\n",
    "> <span style=\"color:blue\"> **_INFO:_** </span> Lass dich nicht irritieren, wenn numpy Warnungen ausgibt. Der Grund dafür ist, dass der Logarithmus bei 0 unendlich negativ wird: \n",
    "\n",
    "\\begin{align}\n",
    "\\log(0)  = - \\infty\n",
    "\\end{align}\n"
   ]
  },
  {
   "cell_type": "code",
   "execution_count": 13,
   "id": "5cb07ec8",
   "metadata": {},
   "outputs": [
    {
     "name": "stdout",
     "output_type": "stream",
     "text": [
      "[[1.94591015 2.07944154]\n",
      " [2.39789527 2.48490665]\n",
      " [1.09861229       -inf]]\n"
     ]
    },
    {
     "name": "stderr",
     "output_type": "stream",
     "text": [
      "C:\\Users\\Fujitsu\\AppData\\Local\\Temp\\ipykernel_12164\\195563177.py:1: RuntimeWarning: divide by zero encountered in log\n",
      "  a_log = np.log(a)\n"
     ]
    }
   ],
   "source": [
    "a_log = np.log(a)\n",
    "print(a_log)"
   ]
  },
  {
   "cell_type": "markdown",
   "id": "5fe63b29",
   "metadata": {},
   "source": [
    "- Berechne das Maximum (`max`) von Array $A$ entlang der ersten Achse."
   ]
  },
  {
   "cell_type": "code",
   "execution_count": 15,
   "id": "685140a8",
   "metadata": {},
   "outputs": [
    {
     "name": "stdout",
     "output_type": "stream",
     "text": [
      "11\n",
      "8\n"
     ]
    }
   ],
   "source": [
    "# alle Zeilen von Spalte 1 --> vertikal\n",
    "a_max = np.max(a[:, 0])\n",
    "print(a_max)\n",
    "\n",
    "# Zeile 1 alle Spalten  --> horizontal\n",
    "a_max = np.max(a[0, :])\n",
    "print(a_max)"
   ]
  },
  {
   "cell_type": "markdown",
   "id": "235016a1",
   "metadata": {},
   "source": [
    "## Aufgabe 6 - Slicing\n",
    "\n",
    "- Wie müssen wir die Indizes beim Slicing wählen, um aus Array D, folgendes Array zu erhalten:\n",
    "\n",
    "\\begin{align}\n",
    "E = \n",
    "\\begin{bmatrix}\n",
    "1 & 2 \\\\\n",
    "4 & 5 \\\\\n",
    "\\end{bmatrix}\n",
    "\\end{align}"
   ]
  },
  {
   "cell_type": "code",
   "execution_count": 16,
   "id": "3808ced6",
   "metadata": {},
   "outputs": [
    {
     "name": "stdout",
     "output_type": "stream",
     "text": [
      "[[1 2]\n",
      " [4 5]]\n"
     ]
    }
   ],
   "source": [
    "e = d[:-1, :-1]\n",
    "print(e)"
   ]
  },
  {
   "cell_type": "markdown",
   "id": "7289ec84",
   "metadata": {},
   "source": [
    "- Wie müssen wir die Indizes beim Slicing wählen, um aus Array D, folgendes Array zu erhalten:\n",
    "\n",
    "\\begin{align}\n",
    "F=\n",
    "\\begin{bmatrix}\n",
    "1 & 3 \\\\\n",
    "7 & 9 \\\\\n",
    "\\end{bmatrix}\n",
    "\\end{align}"
   ]
  },
  {
   "cell_type": "code",
   "execution_count": 17,
   "id": "277be360",
   "metadata": {},
   "outputs": [
    {
     "name": "stdout",
     "output_type": "stream",
     "text": [
      "[[1 3]\n",
      " [7 9]]\n"
     ]
    }
   ],
   "source": [
    "f = d[::2, ::2]\n",
    "print(f)"
   ]
  },
  {
   "cell_type": "markdown",
   "id": "f067da63",
   "metadata": {},
   "source": [
    "## Aufgabe 7 - Form ändern\n",
    "\n",
    "- Erstelle das Array:\n",
    "\\begin{align}\n",
    "G = \n",
    "\\begin{bmatrix}\n",
    "1 & 2 \\\\\n",
    "3 & 4 \\\\\n",
    "5 & 6 \n",
    "\\end{bmatrix}\n",
    "\\end{align}\n",
    "\n"
   ]
  },
  {
   "cell_type": "code",
   "execution_count": 18,
   "id": "cf3aa830",
   "metadata": {},
   "outputs": [
    {
     "name": "stdout",
     "output_type": "stream",
     "text": [
      "[[1 2]\n",
      " [3 4]\n",
      " [5 6]]\n"
     ]
    }
   ],
   "source": [
    "g = np.arange(1, 7).reshape(3,2)\n",
    "print(g)"
   ]
  },
  {
   "cell_type": "markdown",
   "id": "6e5eee98",
   "metadata": {},
   "source": [
    "- Lass dir die Form (*shape*) von $G$ ausgeben."
   ]
  },
  {
   "cell_type": "code",
   "execution_count": 19,
   "id": "d933c3d3",
   "metadata": {},
   "outputs": [
    {
     "name": "stdout",
     "output_type": "stream",
     "text": [
      "(3, 2)\n"
     ]
    }
   ],
   "source": [
    "print(g.shape)"
   ]
  },
  {
   "cell_type": "markdown",
   "id": "c32c6202",
   "metadata": {},
   "source": [
    "- Erstelle ein neues Array, welches die **Transponierte Matrix** von $G$ ist."
   ]
  },
  {
   "cell_type": "code",
   "execution_count": 20,
   "id": "fce2dc5d",
   "metadata": {},
   "outputs": [
    {
     "name": "stdout",
     "output_type": "stream",
     "text": [
      "[[1 3 5]\n",
      " [2 4 6]]\n"
     ]
    }
   ],
   "source": [
    "g_transponiert = g.flatten()\n",
    "\n",
    "print(np.array([g_transponiert[::2], g_transponiert[1:6:2]]))"
   ]
  },
  {
   "cell_type": "markdown",
   "id": "ba91171f",
   "metadata": {},
   "source": [
    "- Erstelle ein neues Array, welches das Array $G$ in \"flacher\" Form ist. Welche Dimension hat das neue Array?"
   ]
  },
  {
   "cell_type": "code",
   "execution_count": 21,
   "id": "9bea9b37",
   "metadata": {},
   "outputs": [
    {
     "name": "stdout",
     "output_type": "stream",
     "text": [
      "[1 2 3 4 5 6]\n"
     ]
    }
   ],
   "source": [
    "g_flach  = g.flatten()\n",
    "print(g_flach)"
   ]
  },
  {
   "cell_type": "markdown",
   "id": "f16afd54",
   "metadata": {},
   "source": [
    "- Überführe $G$ in die Form `(6,1)`"
   ]
  },
  {
   "cell_type": "code",
   "execution_count": 22,
   "id": "4e1a7780",
   "metadata": {},
   "outputs": [
    {
     "name": "stdout",
     "output_type": "stream",
     "text": [
      "[[1]\n",
      " [2]\n",
      " [3]\n",
      " [4]\n",
      " [5]\n",
      " [6]]\n"
     ]
    }
   ],
   "source": [
    "g_ende = g.reshape(6,1)\n",
    "print(g_ende)"
   ]
  },
  {
   "cell_type": "code",
   "execution_count": null,
   "id": "c8a3f580",
   "metadata": {},
   "outputs": [],
   "source": []
  }
 ],
 "metadata": {
  "kernelspec": {
   "display_name": "Python 3 (ipykernel)",
   "language": "python",
   "name": "python3"
  },
  "language_info": {
   "codemirror_mode": {
    "name": "ipython",
    "version": 3
   },
   "file_extension": ".py",
   "mimetype": "text/x-python",
   "name": "python",
   "nbconvert_exporter": "python",
   "pygments_lexer": "ipython3",
   "version": "3.10.9"
  }
 },
 "nbformat": 4,
 "nbformat_minor": 5
}
