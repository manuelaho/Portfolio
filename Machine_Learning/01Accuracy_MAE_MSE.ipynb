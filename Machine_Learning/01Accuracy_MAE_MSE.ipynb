{
 "cells": [
  {
   "cell_type": "markdown",
   "id": "76d32d4a",
   "metadata": {},
   "source": [
    "# Inhaltsverzeichnis \n",
    "\n",
    "- **Fehlermetriken**\n",
    "    - **Aufgabe 1: Accuracy**\n",
    "    - **Aufgabe 2: MAE**\n",
    "    - **Aufgabe 3: MSE**\n"
   ]
  },
  {
   "cell_type": "markdown",
   "id": "548a2fc3",
   "metadata": {},
   "source": [
    "\n",
    "# Fehlermetriken\n",
    "\n",
    "\n",
    "## Aufgabe 1: Accuracy\n",
    "\n",
    "- Implementiere eine eigene Funktion `accuracy`, wie sie im Notebook zu Fehlermetriken definiert ist: \n",
    "\n",
    "\\begin{align}\n",
    "\\text{Accuracy} =   \\frac{ \\text{Korrekte Vorhersagen} }{ \\text{Anzahl aller Vorhersagen} }\n",
    "\\end{align}\n",
    "\n",
    "Die Funktion soll zwei Listen übergeben bekommen, eine Liste mit den Vorhersagen und eine Liste mit den _realen_ Werten. Die Funktion soll die _Accuracy_ zurückgeben. Hier einige Beispiele zum Testen der Funktion:\n",
    "\n",
    "\\begin{align}\n",
    "\\text{accuracy}([1,0,1,1],[1,0,1,1]) & \\Longrightarrow 1.0 \\\\\n",
    "\\text{accuracy}([1,0,1,1],[1,0,0,1]) & \\Longrightarrow 0.75 \\\\\n",
    "\\text{accuracy}([1,1],[0,0]) & \\Longrightarrow 0.0 \\\\\n",
    "\\end{align}\n",
    "\n",
    "> <span style=\"color:red\"> **_WICHTIG:_** </span> Bei dieser Aufgabe ist die Verwendung von `sklearn` **nicht** erlaubt!"
   ]
  },
  {
   "cell_type": "code",
   "execution_count": 1,
   "id": "8f5a5bb1",
   "metadata": {},
   "outputs": [
    {
     "data": {
      "text/plain": [
       "0.75"
      ]
     },
     "execution_count": 1,
     "metadata": {},
     "output_type": "execute_result"
    }
   ],
   "source": [
    "def accuracy(liste01, liste02):\n",
    "    \n",
    "    korrekt_sum = 0\n",
    "    for i in range(len(liste01)):\n",
    "        if liste01[i] == liste02[i]:\n",
    "            korrekt_sum += 1      \n",
    "    \n",
    "    alle_sum = len(liste01)      \n",
    "        \n",
    "    genauigkeit = korrekt_sum / alle_sum\n",
    "    \n",
    "    return genauigkeit\n",
    "    \n",
    "accuracy([1, 0, 1, 1], [1, 0, 0, 1])"
   ]
  },
  {
   "cell_type": "markdown",
   "id": "af789b71",
   "metadata": {},
   "source": [
    "## Aufgabe 2: MAE \n",
    "\n",
    "- Implementiere eine eigene Funktion `MAE`, wie sie im Notebook zu Fehlermetriken definiert ist: \n",
    "\n",
    "\\begin{align}\n",
    "\\text{Mean Absolute Error} = \\frac{1}{N} \\sum_{j=1}^N \\lvert y_j - \\hat{y}_j \\rvert\n",
    "\\end{align}\n",
    "\n",
    "Die Funktion erhält zwei Listen als Argument $y$ und $\\hat{y}$ mit jeweils $N$ Elementen: \n",
    "\n",
    "\\begin{align}\n",
    "y= [y_1,y_2,y_3,...,y_N] \\\\\n",
    "\\hat{y}= [\\hat{y}_1,\\hat{y}_2,\\hat{y}_3,...,\\hat{y}_N]\n",
    "\\end{align}\n",
    "\n",
    "Die Funktion soll obige Formel implementieren und den `Mean Absolut Error` zurückliefern.\n",
    "\n",
    "Hier einige Beispiele zum Testen der Funktion:\n",
    "\n",
    "\\begin{align}\n",
    "\\text{MAE}([1,0.5,1,1],[1,0.5,1,1]) & \\Longrightarrow 0.0 \\\\\n",
    "\\text{MAE}([0.2,0.3,1.2,1.0],[0.1,0.2,1.2,1.6]) & \\Longrightarrow 0.2  \\\\\n",
    "\\end{align}\n",
    "\n",
    "> <span style=\"color:blue\"> **_INFO:_** </span> Eine gute Übung ist es, obige Beispiele mit Stift und Papier _selbst_ durchzurechnen.\n",
    "\n",
    "> <span style=\"color:red\"> **_WICHTIG:_** </span> Bei dieser Aufgabe ist die Verwendung von `sklearn` **nicht** erlaubt!"
   ]
  },
  {
   "cell_type": "code",
   "execution_count": 2,
   "id": "eae62512",
   "metadata": {},
   "outputs": [
    {
     "data": {
      "text/plain": [
       "0.2"
      ]
     },
     "execution_count": 2,
     "metadata": {},
     "output_type": "execute_result"
    }
   ],
   "source": [
    "def mae(liste01, liste02):  \n",
    "    \n",
    "    summe = 0\n",
    "    for i in range(len(liste01)):\n",
    "        if liste01[i] < liste02[i]:\n",
    "            summe += (liste01[i] - liste02[i]) * (-1)\n",
    "        else:\n",
    "            summe += (liste01[i] - liste02[i]) \n",
    "    \n",
    "    error = summe/(len(liste01))\n",
    "    return error\n",
    "\n",
    "mae([0.2, 0.3, 1.2, 1.0], [0.1, 0.2, 1.2, 1.6])                         "
   ]
  },
  {
   "cell_type": "markdown",
   "id": "dcac1a65",
   "metadata": {},
   "source": [
    "## Aufgabe 3: MSE \n",
    "\n",
    "- Implementiere eine eigene Funktion `MSE` wie sie im Notebook zu Fehlermetriken definiert ist: \n",
    "\n",
    "\\begin{align}\n",
    "\\text{Mean Squared Error} = \\frac{1}{N} \\sum_{j=1}^N ( y_j - \\hat{y}_j )^2\n",
    "\\end{align}\n",
    "\n",
    "Die Funktion erhält zwei Listen als Argument $y$ und $\\hat{y}$ mit jeweils $N$ Elementen: \n",
    "\n",
    "\\begin{align}\n",
    "y= [y_1,y_2,y_3,...,y_N] \\\\\n",
    "\\hat{y}= [\\hat{y}_1,\\hat{y}_2,\\hat{y}_3,...,\\hat{y}_N]\n",
    "\\end{align}\n",
    "\n",
    "Die Funktion soll obige Formel implementieren und den `Mean Squared Error` zurückliefern.\n",
    "\n",
    "Hier einige Beispiele zum Testen der Funktion:\n",
    "\n",
    "\n",
    "\\begin{align}\n",
    "\\text{MSE}([1,0.5,1,1],[1,0.5,1,1]) & \\Longrightarrow 0.0 \\\\\n",
    "\\text{MSE}([1.3,0.2,1.5,1.0],[1.3,0.1,1.7,1.1]) & \\Longrightarrow 0.015 \\\\\n",
    "\\text{MSE}([0],[10]) & \\Longrightarrow 100\n",
    "\\end{align}\n",
    "\n",
    "> <span style=\"color:red\"> **_WICHTIG:_** </span> Bei dieser Aufgabe ist die Verwendung von `sklearn` **nicht** erlaubt!"
   ]
  },
  {
   "cell_type": "code",
   "execution_count": 3,
   "id": "57b72f5b",
   "metadata": {},
   "outputs": [
    {
     "data": {
      "text/plain": [
       "0.015"
      ]
     },
     "execution_count": 3,
     "metadata": {},
     "output_type": "execute_result"
    }
   ],
   "source": [
    "def mse(liste01, liste02):  \n",
    "    \n",
    "    summe = 0\n",
    "    for i in range(len(liste01)):\n",
    "        summe += (liste01[i] - liste02[i])**2\n",
    "\n",
    "    error = summe/(len(liste01))\n",
    "    return error\n",
    "\n",
    "mse([1.3, 0.2, 1.5, 1.0], [1.3, 0.1, 1.7, 1.1]) "
   ]
  },
  {
   "cell_type": "code",
   "execution_count": null,
   "id": "cec8b0ec",
   "metadata": {},
   "outputs": [],
   "source": []
  }
 ],
 "metadata": {
  "kernelspec": {
   "display_name": "Python 3 (ipykernel)",
   "language": "python",
   "name": "python3"
  },
  "language_info": {
   "codemirror_mode": {
    "name": "ipython",
    "version": 3
   },
   "file_extension": ".py",
   "mimetype": "text/x-python",
   "name": "python",
   "nbconvert_exporter": "python",
   "pygments_lexer": "ipython3",
   "version": "3.10.9"
  }
 },
 "nbformat": 4,
 "nbformat_minor": 5
}
