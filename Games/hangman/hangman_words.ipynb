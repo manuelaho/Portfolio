{
 "cells": [
  {
   "cell_type": "code",
   "execution_count": 29,
   "id": "652116e5",
   "metadata": {},
   "outputs": [
    {
     "name": "stdout",
     "output_type": "stream",
     "text": [
      "Welches Wort soll der Datenbank hinzugefügt werden: (oder EXIT)\n",
      "exit\n",
      "Die aktuelle Datenbank beinhaltet folgende Wörter:\n",
      "\n",
      "BAUM \n",
      "\n",
      "HAUS \n",
      "\n",
      "KATZE \n",
      "\n",
      "JAHR \n",
      "\n",
      "UHR \n",
      "\n",
      "EURO \n",
      "\n",
      "PROZENT \n",
      "\n",
      "MENSCH \n",
      "\n",
      "TAG \n",
      "\n",
      "ZEIT \n",
      "\n",
      "DEUTSCHLAND \n",
      "\n",
      "KIND \n",
      "\n",
      "LAND \n",
      "\n",
      "STADT \n",
      "\n",
      "WIND \n",
      "\n",
      "AROMA \n",
      "\n",
      "DILEMMA \n",
      "\n",
      "PYTHON \n",
      "\n",
      "Die Datenbank wurde geschlossen!\n"
     ]
    }
   ],
   "source": [
    "import sqlite3\n",
    "connection = sqlite3.connect(\"my_database.db\")\n",
    "cur = connection.cursor()\n",
    "\n",
    "aktiv = True\n",
    "\n",
    "while aktiv:\n",
    "\n",
    "    user_eingabe = input(\"Welches Wort soll der Datenbank hinzugefügt werden: (oder EXIT)\\n\")\n",
    "    wort = user_eingabe.upper()\n",
    "    länge_wort = len(user_eingabe)\n",
    "    \n",
    "    user_tuple = (wort, länge_wort)\n",
    "   \n",
    "    if wort == \"EXIT\":\n",
    "        print(\"Die aktuelle Datenbank beinhaltet folgende Wörter:\\n\")\n",
    "        for w in cur.execute(\"SELECT * FROM words\"):\n",
    "            print(w[0], \"\\n\")\n",
    "            \n",
    "        print(\"Die Datenbank wurde geschlossen!\")\n",
    "        connection.close()\n",
    "        aktiv = False \n",
    "        \n",
    "    elif not user_tuple in cur.execute(\"SELECT * FROM words\"): \n",
    "        print(f\"Das Wort {wort} wurde der Datenbank hinzugefügt!\")\n",
    "        cur.execute(\"INSERT INTO words VALUES(?,?)\", (wort, länge_wort))\n",
    "        connection.commit()\n",
    "        \n",
    "    else:\n",
    "        print(f\"Das Wort {wort} befindet sich schon in der Datenbank!\")"
   ]
  },
  {
   "cell_type": "code",
   "execution_count": null,
   "id": "ad49d64a",
   "metadata": {},
   "outputs": [],
   "source": []
  }
 ],
 "metadata": {
  "kernelspec": {
   "display_name": "Python 3 (ipykernel)",
   "language": "python",
   "name": "python3"
  },
  "language_info": {
   "codemirror_mode": {
    "name": "ipython",
    "version": 3
   },
   "file_extension": ".py",
   "mimetype": "text/x-python",
   "name": "python",
   "nbconvert_exporter": "python",
   "pygments_lexer": "ipython3",
   "version": "3.10.9"
  }
 },
 "nbformat": 4,
 "nbformat_minor": 5
}
