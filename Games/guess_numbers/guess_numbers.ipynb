{
 "cells": [
  {
   "cell_type": "code",
   "execution_count": null,
   "id": "821d918d",
   "metadata": {},
   "outputs": [],
   "source": [
    "from random import randint\n",
    "\n",
    "a = randint(1,100)                     \n",
    "\n",
    "gamer = input(\"Welche Zahl zwischen 1 und 100 hat der Computer gewählt? \")  \n",
    "\n",
    "active = True                         \n",
    "\n",
    "durchgang = 0                         \n",
    "\n",
    "while active:\n",
    "   \n",
    "    durchgang = durchgang + 1\n",
    "    \n",
    "    if int(gamer) < a:                                                       \n",
    "        print(\"Die Zahl ist leider zu niedrig!\")\n",
    "        gamer = input(\"Rate noch einmal! \")                                 \n",
    "        \n",
    "    elif int(gamer) > a:                                                    \n",
    "        print(\"Die Zahl ist leider zu groß!\")\n",
    "        gamer = input(\"Rate noch einmal! \")\n",
    "        \n",
    "    else:                                                                    \n",
    "        print(\"Richtig :-), du hast\", durchgang, \"Versuche gebraucht\")\n",
    "        neues_spiel = input(\"Möchtest du das Spiel beenden: 'j' oder' n'\")\n",
    "            \n",
    "        if neues_spiel == \"j\":\n",
    "            active = False\n",
    "            print(\"Das Spiel ist beendet!\") \n",
    "            \n",
    "        else:\n",
    "            gamer = input(\"Weiter gehts! \")                                  \n",
    "            durchgang = 0                                                    \n",
    "            a = randint(1,100)\n",
    "        \n",
    "    \n"
   ]
  }
 ],
 "metadata": {
  "kernelspec": {
   "display_name": "Python 3 (ipykernel)",
   "language": "python",
   "name": "python3"
  },
  "language_info": {
   "codemirror_mode": {
    "name": "ipython",
    "version": 3
   },
   "file_extension": ".py",
   "mimetype": "text/x-python",
   "name": "python",
   "nbconvert_exporter": "python",
   "pygments_lexer": "ipython3",
   "version": "3.10.9"
  }
 },
 "nbformat": 4,
 "nbformat_minor": 5
}
