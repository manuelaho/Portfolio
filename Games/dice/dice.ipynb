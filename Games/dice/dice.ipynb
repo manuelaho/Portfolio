{
 "cells": [
  {
   "cell_type": "code",
   "execution_count": 1,
   "id": "e6b8e8ee",
   "metadata": {},
   "outputs": [
    {
     "name": "stdout",
     "output_type": "stream",
     "text": [
      "Wie viele Würfe sollen simuliert werden? 10000\n",
      "Simuliere 10000 Würfe....... \n",
      "Der Mittelwert der Würfe ist:  3.5012 \n",
      "Der theoretische Mittelwert ist 3.5!\n"
     ]
    }
   ],
   "source": [
    "from random import randint\n",
    "\n",
    "def würfeln():\n",
    "    \n",
    "    würfe = int(input(\"Wie viele Würfe sollen simuliert werden? \"))\n",
    "    print(\"Simuliere\", würfe, \"Würfe....... \") \n",
    "    \n",
    "    list_würfe = []\n",
    "    summe = 0\n",
    "    \n",
    "    for i in range(würfe):                                     # Würfe in Liste füllen\n",
    "        list_würfe.append(randint(1,6))\n",
    "    \n",
    "    for b in list_würfe:                                       # Würfe aufsummieren\n",
    "        summe += b\n",
    "    \n",
    "    mittelwert = summe / len(list_würfe)                       # Mittelwert bilden\n",
    "    \n",
    "    return print(\"Der Mittelwert der Würfe ist: \", mittelwert, \"\\nDer theoretische Mittelwert ist 3.5!\") \n",
    "    \n",
    "        \n",
    "            \n",
    "würfeln()"
   ]
  },
  {
   "cell_type": "code",
   "execution_count": null,
   "id": "fef5af4a",
   "metadata": {},
   "outputs": [],
   "source": []
  }
 ],
 "metadata": {
  "kernelspec": {
   "display_name": "Python 3 (ipykernel)",
   "language": "python",
   "name": "python3"
  },
  "language_info": {
   "codemirror_mode": {
    "name": "ipython",
    "version": 3
   },
   "file_extension": ".py",
   "mimetype": "text/x-python",
   "name": "python",
   "nbconvert_exporter": "python",
   "pygments_lexer": "ipython3",
   "version": "3.10.9"
  }
 },
 "nbformat": 4,
 "nbformat_minor": 5
}
