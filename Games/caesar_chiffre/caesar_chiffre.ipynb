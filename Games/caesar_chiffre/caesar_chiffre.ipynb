{
 "cells": [
  {
   "cell_type": "code",
   "execution_count": 2,
   "id": "6edb71d5",
   "metadata": {},
   "outputs": [
    {
     "name": "stdout",
     "output_type": "stream",
     "text": [
      "Gib einen Text ein (oder quit): Hallo!\n",
      "Um wie viele Zeichen soll der Text verschlüsselt werden: 3\n",
      "Der verschlüsselte Text ist:  kdoor!\n",
      "Gib einen Text ein (oder quit): quit\n",
      "Das Verschlüsseln ist beendet!\n"
     ]
    }
   ],
   "source": [
    "while True:                      # nur True verwenden, Variable aktiv = True nicht notwendig, wenn man break macht\n",
    "   \n",
    "    user_text = input(\"Gib einen Text ein (oder quit): \").lower()\n",
    "    if user_text == \"quit\":\n",
    "        print(\"Das Verschlüsseln ist beendet!\")\n",
    "        break\n",
    "        \n",
    "    user_zahl = int(input(\"Um wie viele Zeichen soll der Text verschlüsselt werden: \"))\n",
    "   \n",
    "    zeichen = \"\" \n",
    "    \n",
    "    for i in range(len(user_text)):\n",
    "        if user_text[i] == \" \":\n",
    "            zeichen += \" \"\n",
    "            continue\n",
    "        if ord(user_text[i]) < 97 or ord(user_text[i]) > 123:\n",
    "            zeichen += user_text[i]\n",
    "            continue\n",
    "            \n",
    "        buchstabe = user_text[i]\n",
    "        zeichen += chr((ord(buchstabe) + user_zahl - 97) % 26 + 97)\n",
    "        \n",
    "    print(\"Der verschlüsselte Text ist: \", zeichen)\n",
    "\n"
   ]
  },
  {
   "cell_type": "code",
   "execution_count": null,
   "id": "7649ba1c",
   "metadata": {},
   "outputs": [],
   "source": [
    "# korrigierte Version"
   ]
  },
  {
   "cell_type": "code",
   "execution_count": 3,
   "id": "449afcee",
   "metadata": {},
   "outputs": [
    {
     "name": "stdout",
     "output_type": "stream",
     "text": [
      "Gib einen Text ein (oder quit): Hallo\n",
      "Um wie viele Zeichen soll der Text verschlüsselt werden: 2\n",
      "Der verschlüsselte Text ist:  jcnnq\n",
      "Gib einen Text ein (oder quit): Hallo du !??\n",
      "Um wie viele Zeichen soll der Text verschlüsselt werden: 3\n",
      "Der verschlüsselte Text ist:  kdoor gx !??\n",
      "Gib einen Text ein (oder quit): quit\n",
      "Das Verschlüsseln ist beendet!\n"
     ]
    }
   ],
   "source": [
    "while True:                  # nur True verwenden, Variable aktiv = True nicht notwendig, wenn man break macht\n",
    "   \n",
    "    user_text = input(\"Gib einen Text ein (oder quit): \").lower()\n",
    "    if user_text == \"quit\":\n",
    "        print(\"Das Verschlüsseln ist beendet!\")\n",
    "        break\n",
    "        \n",
    "    user_zahl = int(input(\"Um wie viele Zeichen soll der Text verschlüsselt werden: \"))\n",
    "   \n",
    "    zeichen = \"\" \n",
    "    \n",
    "    for i in user_text:          # nicht über range (len(user_text)), sondern direkt über string gehen\n",
    "        if i == \" \":             # --> genau so bei Listen\n",
    "            zeichen += \" \"\n",
    "            continue\n",
    "        if ord(i) < 97 or ord(i) > 123:\n",
    "            zeichen += i\n",
    "            continue\n",
    "            \n",
    "        buchstabe = i\n",
    "        zeichen += chr((ord(buchstabe) + user_zahl - 97) % 26 + 97)\n",
    "        \n",
    "    print(\"Der verschlüsselte Text ist: \", zeichen)"
   ]
  },
  {
   "cell_type": "code",
   "execution_count": null,
   "id": "5ab8e2e2",
   "metadata": {},
   "outputs": [],
   "source": []
  }
 ],
 "metadata": {
  "kernelspec": {
   "display_name": "Python 3 (ipykernel)",
   "language": "python",
   "name": "python3"
  },
  "language_info": {
   "codemirror_mode": {
    "name": "ipython",
    "version": 3
   },
   "file_extension": ".py",
   "mimetype": "text/x-python",
   "name": "python",
   "nbconvert_exporter": "python",
   "pygments_lexer": "ipython3",
   "version": "3.10.9"
  }
 },
 "nbformat": 4,
 "nbformat_minor": 5
}
